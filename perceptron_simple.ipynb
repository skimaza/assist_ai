{
  "nbformat": 4,
  "nbformat_minor": 0,
  "metadata": {
    "kernelspec": {
      "display_name": "Python 3",
      "language": "python",
      "name": "python3"
    },
    "language_info": {
      "codemirror_mode": {
        "name": "ipython",
        "version": 3
      },
      "file_extension": ".py",
      "mimetype": "text/x-python",
      "name": "python",
      "nbconvert_exporter": "python",
      "pygments_lexer": "ipython3",
      "version": "3.6.2"
    },
    "colab": {
      "provenance": [],
      "collapsed_sections": [],
      "include_colab_link": true
    }
  },
  "cells": [
    {
      "cell_type": "markdown",
      "metadata": {
        "id": "view-in-github",
        "colab_type": "text"
      },
      "source": [
        "<a href=\"https://colab.research.google.com/github/skimaza/assist_ai/blob/main/perceptron_simple.ipynb\" target=\"_parent\"><img src=\"https://colab.research.google.com/assets/colab-badge.svg\" alt=\"Open In Colab\"/></a>"
      ]
    },
    {
      "cell_type": "markdown",
      "metadata": {
        "id": "gadgwOmfe6fc"
      },
      "source": [
        "# 딥러닝의 이해\n",
        "# 단순한 퍼셉트론"
      ]
    },
    {
      "cell_type": "markdown",
      "metadata": {
        "id": "i1BN98f5fFup"
      },
      "source": [
        "# 라이브러리 import\n"
      ]
    },
    {
      "cell_type": "markdown",
      "metadata": {
        "id": "l-JS_SxWfx0O"
      },
      "source": [
        "## numpy는 수식 계산 라이브러리\n",
        "## numpy 라이브러리를 읽어들이고 np라는 약자로 사용하겠다"
      ]
    },
    {
      "cell_type": "code",
      "metadata": {
        "collapsed": true,
        "id": "SZNlo3M0Qrw4"
      },
      "source": [
        "import numpy as np"
      ],
      "execution_count": null,
      "outputs": []
    },
    {
      "cell_type": "markdown",
      "metadata": {
        "id": "09hDzMAml4K6"
      },
      "source": [
        "Colab에서 하나의 실행 단위는 위와 같이 [숫자] 형태로 구분된다.  \n",
        "이것을 cell 이라하고 묶음으로 실행된다."
      ]
    },
    {
      "cell_type": "markdown",
      "metadata": {
        "id": "ikQOXRNBf1FV"
      },
      "source": [
        "## matplotlib는 그래프를 그리는 등 시각화를 하는 라이브러리\n",
        "## matplotlib의 pyplot이라는 모듈을 plt라는 약자로 사용하겠다"
      ]
    },
    {
      "cell_type": "code",
      "metadata": {
        "id": "ezl7m302fu7r"
      },
      "source": [
        "import matplotlib.pyplot as plt"
      ],
      "execution_count": null,
      "outputs": []
    },
    {
      "cell_type": "markdown",
      "metadata": {
        "id": "vn_L6HewgiEC"
      },
      "source": [
        "## 실험할 변수를 정의하여 초기화하고 샘플 데이터를 만든다\n",
        "## 샘플 데이터는 numpy 배열"
      ]
    },
    {
      "cell_type": "code",
      "metadata": {
        "id": "fRLsgfGjQrw7"
      },
      "source": [
        "weights = []\n",
        "errors_log = []\n",
        "epochs = 25\n",
        "eta = 0.01\n",
        "data = np.array([[3, 3, 1], \n",
        "                 [3.5, 2.5, 1], \n",
        "                 [1, 0.5, -1], \n",
        "                 [0.5, 0.75, -1], \n",
        "                 [2, 1.5, -1], \n",
        "                 [1.5, 2, -1], \n",
        "                 [2.3, 1.8, 1]])"
      ],
      "execution_count": null,
      "outputs": []
    },
    {
      "cell_type": "code",
      "metadata": {
        "id": "OyaC3-MGgzh5"
      },
      "source": [
        "print('type of data variable:', type(data))\n",
        "print(data)"
      ],
      "execution_count": null,
      "outputs": []
    },
    {
      "cell_type": "code",
      "metadata": {
        "id": "H5p8jqTQhLTh"
      },
      "source": [
        "data.shape"
      ],
      "execution_count": null,
      "outputs": []
    },
    {
      "cell_type": "markdown",
      "metadata": {
        "id": "RXxRTklOhOpU"
      },
      "source": [
        "data는 7x3 배열 (7 rows, 3 columns)  \n",
        "원소 몇 개만 프린트 해보자"
      ]
    },
    {
      "cell_type": "code",
      "metadata": {
        "id": "Y4K0UQTmhHL1"
      },
      "source": [
        "data[0,0]"
      ],
      "execution_count": null,
      "outputs": []
    },
    {
      "cell_type": "markdown",
      "metadata": {
        "id": "Pnf2JKKkkvvi"
      },
      "source": [
        "여기서 프린트된 3.0은 Colab cell의 마지막 줄인 data[0,0]의 값이다.  \n",
        "print 문의 결과와 유사하게 보이기 때문에 혼동하지 않도록 하자."
      ]
    },
    {
      "cell_type": "code",
      "metadata": {
        "id": "GKuG0IPElAux"
      },
      "source": [
        "print(data[0,2])\n",
        "data[0,0]"
      ],
      "execution_count": null,
      "outputs": []
    },
    {
      "cell_type": "markdown",
      "metadata": {
        "id": "7TH_64JwlTd3"
      },
      "source": [
        "마지막 줄의 값을 프린트하지 않게 하려면 줄 끝에 ';'을 붙인다"
      ]
    },
    {
      "cell_type": "code",
      "metadata": {
        "id": "VuVeJPztlQLh"
      },
      "source": [
        "print(data[0,2])\n",
        "data[0,0];"
      ],
      "execution_count": null,
      "outputs": []
    },
    {
      "cell_type": "markdown",
      "metadata": {
        "id": "jk7iey3LleGy"
      },
      "source": [
        "'#'은 comment의 시작을 표시하며 Colab에서는 녹색으로 표시된다.  \n",
        "마지막 줄에 여러 값을 ','로 구분하면 여러 값이 한꺼번에 리턴된다"
      ]
    },
    {
      "cell_type": "code",
      "metadata": {
        "id": "c1mTEZ46hkZF"
      },
      "source": [
        "data[0,1], data[1,0] # '#'을 쓰면 comment의 시작 "
      ],
      "execution_count": null,
      "outputs": []
    },
    {
      "cell_type": "markdown",
      "metadata": {
        "id": "WAsr6e-8hoyx"
      },
      "source": [
        "파이썬 리스트나 배열은 ':'을 사용해서 묶음으로 처리할 수 있다"
      ]
    },
    {
      "cell_type": "code",
      "metadata": {
        "id": "mMuxRr6HhzAJ"
      },
      "source": [
        "data[0, :], data[1, :] # 0번 row의 모든 column, 1번 row의 모든 column"
      ],
      "execution_count": null,
      "outputs": []
    },
    {
      "cell_type": "code",
      "metadata": {
        "id": "qZC8tsCcmrsx"
      },
      "source": [
        "data"
      ],
      "execution_count": null,
      "outputs": []
    },
    {
      "cell_type": "code",
      "metadata": {
        "id": "gC4nEN3nmaVP"
      },
      "source": [
        "data[:, 0], data[:, 2] # 모든 row의 0번 column, 모든 row의 2번 column"
      ],
      "execution_count": null,
      "outputs": []
    },
    {
      "cell_type": "markdown",
      "metadata": {
        "id": "N456Tx2Wm5oy"
      },
      "source": [
        "# Data 플롯"
      ]
    },
    {
      "cell_type": "markdown",
      "metadata": {
        "id": "EfPFzCLhnAI0"
      },
      "source": [
        "2번 column 값이 1인 data 만 고르기"
      ]
    },
    {
      "cell_type": "code",
      "metadata": {
        "id": "KUUqNhKrnULd"
      },
      "source": [
        "data[:, 2] == 1"
      ],
      "execution_count": null,
      "outputs": []
    },
    {
      "cell_type": "code",
      "metadata": {
        "id": "qqyIxn8inZ7R"
      },
      "source": [
        "data[data[:, 2] == 1] # [ ] 안의 값이 True인 것만 추출"
      ],
      "execution_count": null,
      "outputs": []
    },
    {
      "cell_type": "code",
      "metadata": {
        "scrolled": true,
        "id": "ZMoHRpYVQrw8"
      },
      "source": [
        "pos = data[[data[:, 2] == 1]] # warning은 무시해도 됨\n"
      ],
      "execution_count": null,
      "outputs": []
    },
    {
      "cell_type": "code",
      "metadata": {
        "id": "fRrOJzCkm3Lj"
      },
      "source": [
        "neg = data[[data[:, 2] == -1]] # 2번 column이 -1인 것만 추출\n",
        "neg"
      ],
      "execution_count": null,
      "outputs": []
    },
    {
      "cell_type": "markdown",
      "source": [
        "Positive data"
      ],
      "metadata": {
        "id": "HNuOqrDaIHgy"
      }
    },
    {
      "cell_type": "code",
      "metadata": {
        "id": "0sA5DH5YyZIi"
      },
      "source": [
        "pos"
      ],
      "execution_count": null,
      "outputs": []
    },
    {
      "cell_type": "markdown",
      "source": [
        "Negative data"
      ],
      "metadata": {
        "id": "XCnGEAEQIKUv"
      }
    },
    {
      "cell_type": "code",
      "metadata": {
        "id": "U75yXsGkydzX"
      },
      "source": [
        "neg"
      ],
      "execution_count": null,
      "outputs": []
    },
    {
      "cell_type": "markdown",
      "source": [
        " pos의 0번 column과 pos의 1번 column"
      ],
      "metadata": {
        "id": "8FEnaW2VIRmH"
      }
    },
    {
      "cell_type": "code",
      "metadata": {
        "id": "J6a6uSn9qAWg"
      },
      "source": [
        "pos[:, 0], pos[:, 1]"
      ],
      "execution_count": null,
      "outputs": []
    },
    {
      "cell_type": "markdown",
      "source": [
        "neg의 0번 columns과 neg의 1번 column"
      ],
      "metadata": {
        "id": "odzi4q0ZIWi0"
      }
    },
    {
      "cell_type": "code",
      "metadata": {
        "id": "KvyNhrzRz1l4"
      },
      "source": [
        "neg[:, 0], neg[:, 1]"
      ],
      "execution_count": null,
      "outputs": []
    },
    {
      "cell_type": "markdown",
      "metadata": {
        "id": "nZM7zgDZqNb1"
      },
      "source": [
        "## pos의 0번 column을 x축, 1번 column을 y축으로 하는 그래프\n",
        "## neg 0번 column을 x축, 1번 column을 y축으로 하는 그래프"
      ]
    },
    {
      "cell_type": "code",
      "metadata": {
        "id": "1eWideVop3B6"
      },
      "source": [
        "plt.scatter(pos[:,0], pos[:, 1], label=\"pos\")\n",
        "plt.scatter(neg[:,0], neg[:, 1], label=\"neg\")\n",
        "plt.xlabel(\"x1\")\n",
        "plt.ylabel(\"x2\")\n",
        "plt.legend(loc=2)"
      ],
      "execution_count": null,
      "outputs": []
    },
    {
      "cell_type": "markdown",
      "metadata": {
        "id": "hHn3mLQEqiB0"
      },
      "source": [
        "# Perceptron 학습 함수\n",
        "- weights와 errors_log는 글로벌 변수로 지정  \n",
        "- weights 값은 0으로 초기화한 후 학습  \n",
        "- 학습은 epochs 만큼 반복  \n",
        "- eta는 그리스 문자 eta이며 learning rate를 표시하는 옛날식 관행.  \n",
        "- 지금은 lr이란 약자를 주로 사용함."
      ]
    },
    {
      "cell_type": "code",
      "metadata": {
        "id": "dxvxTnuhQrw9"
      },
      "source": [
        "def train(X, y, epochs=epochs, eta=eta):\n",
        "    global weights\n",
        "    global errors_log\n",
        "    weights = np.zeros(1 + X.shape[1]) # add bias\n",
        "    print(\"Initial weights\", weights)\n",
        "    errors_log = []\n",
        "\n",
        "    for i in range(epochs):\n",
        "        errors = 0\n",
        "        print(\"EPOCHS\", i+1)\n",
        "        for xi, target in zip(X, y):\n",
        "            update = eta * (target - predict(xi)) # perceptron의 결과와 truth 값 비교\n",
        "            print(xi, \"target\", target, \"sum\", net_input(xi), \"update\", update)\n",
        "            if update != 0:                       # if prediction is wrong\n",
        "                weights[1:] +=  update * xi\n",
        "                weights[0] +=  update             # (== update * 1)\n",
        "                print(\"Updated WEIGHTS\", weights)\n",
        "                errors += int(update != 0.0)      # count errors\n",
        "        errors_log.append(errors)\n",
        "    return\n",
        "\n",
        "def net_input(X):\n",
        "    global weights\n",
        "    return np.dot(X, weights[1:]) + weights[0] # dot product\n",
        "\n",
        "def predict(X):\n",
        "    return np.where(net_input(X) > 0.0, 1, -1)"
      ],
      "execution_count": null,
      "outputs": []
    },
    {
      "cell_type": "markdown",
      "metadata": {
        "id": "X8OoUhmrtmxU"
      },
      "source": [
        "np.dot은 입력과 weights의 가중합 계산  "
      ]
    },
    {
      "cell_type": "code",
      "metadata": {
        "id": "mCvejXvHs-Dm"
      },
      "source": [
        "np.dot(np.array([1,2,3]), np.array([1, -1, 1])) # (1 * 1) + (2 * (-1)) + (2 * 1), dot product 연산 : 각 위치마다 대응하는 원소끼리 곱한 후 결과를 더한다"
      ],
      "execution_count": null,
      "outputs": []
    },
    {
      "cell_type": "markdown",
      "source": [
        "np.where는 첫번 인자의 각 원소에 대해 조건을 검사하여 True면 두번째 인자를, False면 세번째 인자를 넣은 배열을 리턴"
      ],
      "metadata": {
        "id": "8Fy1DnIAKLqM"
      }
    },
    {
      "cell_type": "code",
      "metadata": {
        "id": "w-KjJHI5tuQE"
      },
      "source": [
        "np.where(np.array([0.5, -0.3, 0.9]) > 0.0, 1, -1) "
      ],
      "execution_count": null,
      "outputs": []
    },
    {
      "cell_type": "markdown",
      "metadata": {
        "id": "ZPOpCzsBuTGv"
      },
      "source": [
        "predict는 X를 weights와 dot product한 결과가 0보다 크면 1, 작으면 -1을 리턴  \n",
        "thresholding 함수 기능"
      ]
    },
    {
      "cell_type": "markdown",
      "metadata": {
        "id": "7D_JEeDisEMh"
      },
      "source": [
        "update 부분 추가 설명\n",
        "target이 1이고 predict(x)가 -1이면 target - predict(x)는 2  \n",
        "target이 -1이고 predict(x)가 1이면 target - predict(x)는 -2  \n",
        "update는 이 값에 eta를 곱한 값"
      ]
    },
    {
      "cell_type": "markdown",
      "source": [
        "training data"
      ],
      "metadata": {
        "id": "L4pwO8aKwtK_"
      }
    },
    {
      "cell_type": "code",
      "metadata": {
        "id": "zgzTplAHQrw_"
      },
      "source": [
        "data[:, :2]"
      ],
      "execution_count": null,
      "outputs": []
    },
    {
      "cell_type": "markdown",
      "source": [
        "target label"
      ],
      "metadata": {
        "id": "n1zSvWQDwz9V"
      }
    },
    {
      "cell_type": "code",
      "metadata": {
        "id": "wZWpfFz1Qrw_"
      },
      "source": [
        "data[:, 2]"
      ],
      "execution_count": null,
      "outputs": []
    },
    {
      "cell_type": "markdown",
      "source": [
        "training data size"
      ],
      "metadata": {
        "id": "6xJZ8gFFw5mt"
      }
    },
    {
      "cell_type": "code",
      "metadata": {
        "id": "uIm60hPAQrxA"
      },
      "source": [
        "data[:, :2].shape"
      ],
      "execution_count": null,
      "outputs": []
    },
    {
      "cell_type": "markdown",
      "source": [
        "50번 학습"
      ],
      "metadata": {
        "id": "2r0jqc9lw_XD"
      }
    },
    {
      "cell_type": "code",
      "metadata": {
        "scrolled": false,
        "id": "o83T07ssQrxB"
      },
      "source": [
        "train(data[:, :2], data[:, 2], epochs=50)"
      ],
      "execution_count": null,
      "outputs": []
    },
    {
      "cell_type": "code",
      "metadata": {
        "id": "N03rv7gJQrxB"
      },
      "source": [
        "print(errors_log)"
      ],
      "execution_count": null,
      "outputs": []
    },
    {
      "cell_type": "code",
      "metadata": {
        "id": "d_LBneXRQrxC"
      },
      "source": [
        "weights[0]"
      ],
      "execution_count": null,
      "outputs": []
    },
    {
      "cell_type": "code",
      "metadata": {
        "id": "lKKs8-TkQrxC"
      },
      "source": [
        "weights[1]"
      ],
      "execution_count": null,
      "outputs": []
    },
    {
      "cell_type": "code",
      "metadata": {
        "id": "JZ9SlEYKQrxD"
      },
      "source": [
        "weights[2]"
      ],
      "execution_count": null,
      "outputs": []
    },
    {
      "cell_type": "code",
      "metadata": {
        "id": "OiHqGPdiQrxE"
      },
      "source": [
        "- weights[0] / weights[2]"
      ],
      "execution_count": null,
      "outputs": []
    },
    {
      "cell_type": "code",
      "metadata": {
        "id": "LFpTuPdQQrxE"
      },
      "source": [
        "- weights[0] / weights[1]"
      ],
      "execution_count": null,
      "outputs": []
    },
    {
      "cell_type": "markdown",
      "source": [
        "결과 플로팅"
      ],
      "metadata": {
        "id": "U6NuvxH_xPaR"
      }
    },
    {
      "cell_type": "code",
      "metadata": {
        "id": "Iu49-aCwuvi_"
      },
      "source": [
        "fig = plt.figure()\n",
        "ax = fig.add_subplot(111)\n",
        "point_x = np.array([0, - weights[0] / weights[1]])\n",
        "point_y = np.array([- weights[0] / weights[2], 0])\n",
        "#line, = ax.plot(point_x, point_y, 'bs-', picker=5)\n",
        "line, = ax.plot(point_x, point_y, picker=5)\n",
        "\n",
        "ax.scatter(pos[:,0], pos[:, 1], label=\"pos\")\n",
        "ax.scatter(neg[:,0], neg[:, 1], label=\"neg\")\n",
        "\n",
        "plt.show()"
      ],
      "execution_count": null,
      "outputs": []
    },
    {
      "cell_type": "code",
      "metadata": {
        "id": "HoKpcBDzDx4b"
      },
      "source": [
        "print(pos)\n",
        "print(neg)"
      ],
      "execution_count": null,
      "outputs": []
    },
    {
      "cell_type": "code",
      "source": [
        "point_x, point_y"
      ],
      "metadata": {
        "id": "epeVc9kzj7EH"
      },
      "execution_count": null,
      "outputs": []
    },
    {
      "cell_type": "code",
      "source": [],
      "metadata": {
        "id": "TCD7EvOsj8KT"
      },
      "execution_count": null,
      "outputs": []
    }
  ]
}
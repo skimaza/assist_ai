{
  "nbformat": 4,
  "nbformat_minor": 0,
  "metadata": {
    "kernelspec": {
      "display_name": "Python 3",
      "language": "python",
      "name": "python3"
    },
    "language_info": {
      "codemirror_mode": {
        "name": "ipython",
        "version": 3
      },
      "file_extension": ".py",
      "mimetype": "text/x-python",
      "name": "python",
      "nbconvert_exporter": "python",
      "pygments_lexer": "ipython3",
      "version": "3.6.2"
    },
    "colab": {
      "name": "perceptron_simple",
      "provenance": [],
      "collapsed_sections": [],
      "include_colab_link": true
    }
  },
  "cells": [
    {
      "cell_type": "markdown",
      "metadata": {
        "id": "view-in-github",
        "colab_type": "text"
      },
      "source": [
        "<a href=\"https://colab.research.google.com/github/skimaza/assist_ai/blob/main/perceptron_simple.ipynb\" target=\"_parent\"><img src=\"https://colab.research.google.com/assets/colab-badge.svg\" alt=\"Open In Colab\"/></a>"
      ]
    },
    {
      "cell_type": "markdown",
      "metadata": {
        "id": "gadgwOmfe6fc"
      },
      "source": [
        "# AI-빅데이터 MBA 딥러닝의 이해\n",
        "# 단순한 퍼셉트론"
      ]
    },
    {
      "cell_type": "markdown",
      "metadata": {
        "id": "i1BN98f5fFup"
      },
      "source": [
        "# 라이브러리 import\n"
      ]
    },
    {
      "cell_type": "markdown",
      "metadata": {
        "id": "l-JS_SxWfx0O"
      },
      "source": [
        "## numpy는 수식 계산 라이브러리\n",
        "## numpy 라이브러리를 읽어들이고 np라는 약자로 사용하겠다"
      ]
    },
    {
      "cell_type": "code",
      "metadata": {
        "collapsed": true,
        "id": "SZNlo3M0Qrw4"
      },
      "source": [
        "import numpy as np"
      ],
      "execution_count": 39,
      "outputs": []
    },
    {
      "cell_type": "markdown",
      "metadata": {
        "id": "09hDzMAml4K6"
      },
      "source": [
        "Colab에서 하나의 실행 단위는 위와 같이 [숫자] 형태로 구분된다.  \n",
        "이것을 cell 이라하고 묶음으로 실행된다."
      ]
    },
    {
      "cell_type": "markdown",
      "metadata": {
        "id": "ikQOXRNBf1FV"
      },
      "source": [
        "## matplotlib는 그래프를 그리는 등 시각화를 하는 라이브러리\n",
        "## matplotlib의 pyplot이라는 모듈을 plt라는 약자로 사용하겠다"
      ]
    },
    {
      "cell_type": "code",
      "metadata": {
        "id": "ezl7m302fu7r"
      },
      "source": [
        "import matplotlib.pyplot as plt"
      ],
      "execution_count": 40,
      "outputs": []
    },
    {
      "cell_type": "markdown",
      "metadata": {
        "id": "vn_L6HewgiEC"
      },
      "source": [
        "## 실험할 변수를 정의하여 초기화하고 샘플 데이터를 만든다\n",
        "## 샘플 데이터는 numpy 배열"
      ]
    },
    {
      "cell_type": "code",
      "metadata": {
        "id": "fRLsgfGjQrw7"
      },
      "source": [
        "weights = []\n",
        "errors_log = []\n",
        "epochs = 25\n",
        "eta = 0.01\n",
        "data = np.array([[3, 3, 1], \n",
        "                 [3.5, 2.5, 1], \n",
        "                 [1, 0.5, -1], \n",
        "                 [0.5, 0.75, -1], \n",
        "                 [2, 1.5, -1], \n",
        "                 [1.5, 2, -1], \n",
        "                 [2.3, 1.8, 1]])"
      ],
      "execution_count": 41,
      "outputs": []
    },
    {
      "cell_type": "code",
      "metadata": {
        "colab": {
          "base_uri": "https://localhost:8080/"
        },
        "id": "OyaC3-MGgzh5",
        "outputId": "fdaf78b4-8f6e-4cdb-f685-e617fe6ead8c"
      },
      "source": [
        "print('type of data variable:', type(data))\n",
        "print(data)"
      ],
      "execution_count": 42,
      "outputs": [
        {
          "output_type": "stream",
          "name": "stdout",
          "text": [
            "type of data variable: <class 'numpy.ndarray'>\n",
            "[[ 3.    3.    1.  ]\n",
            " [ 3.5   2.5   1.  ]\n",
            " [ 1.    0.5  -1.  ]\n",
            " [ 0.5   0.75 -1.  ]\n",
            " [ 2.    1.5  -1.  ]\n",
            " [ 1.5   2.   -1.  ]\n",
            " [ 2.3   1.8   1.  ]]\n"
          ]
        }
      ]
    },
    {
      "cell_type": "code",
      "metadata": {
        "colab": {
          "base_uri": "https://localhost:8080/"
        },
        "id": "H5p8jqTQhLTh",
        "outputId": "83bfed9b-5f81-4125-fe5c-366ca9209678"
      },
      "source": [
        "data.shape"
      ],
      "execution_count": 43,
      "outputs": [
        {
          "output_type": "execute_result",
          "data": {
            "text/plain": [
              "(7, 3)"
            ]
          },
          "metadata": {},
          "execution_count": 43
        }
      ]
    },
    {
      "cell_type": "markdown",
      "metadata": {
        "id": "RXxRTklOhOpU"
      },
      "source": [
        "data는 7x3 배열 (7 rows, 3 columns)  \n",
        "원소 몇 개만 프린트 해보자"
      ]
    },
    {
      "cell_type": "code",
      "metadata": {
        "colab": {
          "base_uri": "https://localhost:8080/"
        },
        "id": "Y4K0UQTmhHL1",
        "outputId": "5f80dfc9-4061-44f8-f72d-f8671496c99e"
      },
      "source": [
        "data[0,0]"
      ],
      "execution_count": 44,
      "outputs": [
        {
          "output_type": "execute_result",
          "data": {
            "text/plain": [
              "3.0"
            ]
          },
          "metadata": {},
          "execution_count": 44
        }
      ]
    },
    {
      "cell_type": "markdown",
      "metadata": {
        "id": "Pnf2JKKkkvvi"
      },
      "source": [
        "여기서 프린트된 3.0은 Colab cell의 마지막 줄인 data[0,0]의 값이다.  \n",
        "print 문의 결과와 유사하게 보이기 때문에 혼동하지 않도록 하자."
      ]
    },
    {
      "cell_type": "code",
      "metadata": {
        "colab": {
          "base_uri": "https://localhost:8080/"
        },
        "id": "GKuG0IPElAux",
        "outputId": "794501b0-7572-45dc-dc61-c22e2e405843"
      },
      "source": [
        "print(data[0,2])\n",
        "data[0,0]"
      ],
      "execution_count": 45,
      "outputs": [
        {
          "output_type": "stream",
          "name": "stdout",
          "text": [
            "1.0\n"
          ]
        },
        {
          "output_type": "execute_result",
          "data": {
            "text/plain": [
              "3.0"
            ]
          },
          "metadata": {},
          "execution_count": 45
        }
      ]
    },
    {
      "cell_type": "markdown",
      "metadata": {
        "id": "7TH_64JwlTd3"
      },
      "source": [
        "마지막 줄의 값을 프린트하지 않게 하려면 줄 끝에 ';'을 붙인다"
      ]
    },
    {
      "cell_type": "code",
      "metadata": {
        "colab": {
          "base_uri": "https://localhost:8080/"
        },
        "id": "VuVeJPztlQLh",
        "outputId": "758133e7-98b6-4f90-e4e5-3ac162b4bb08"
      },
      "source": [
        "print(data[0,2])\n",
        "data[0,0];"
      ],
      "execution_count": 46,
      "outputs": [
        {
          "output_type": "stream",
          "name": "stdout",
          "text": [
            "1.0\n"
          ]
        }
      ]
    },
    {
      "cell_type": "markdown",
      "metadata": {
        "id": "jk7iey3LleGy"
      },
      "source": [
        "'#'은 comment의 시작을 표시하며 Colab에서는 녹색으로 표시된다.  \n",
        "마지막 줄에 여러 값을 ','로 구분하면 여러 값이 한꺼번에 리턴된다"
      ]
    },
    {
      "cell_type": "code",
      "metadata": {
        "colab": {
          "base_uri": "https://localhost:8080/"
        },
        "id": "c1mTEZ46hkZF",
        "outputId": "3cbe05bb-7383-47ef-a4d9-4f62b50b8093"
      },
      "source": [
        "data[0,1], data[1,0] # '#'을 쓰면 comment의 시작 "
      ],
      "execution_count": 47,
      "outputs": [
        {
          "output_type": "execute_result",
          "data": {
            "text/plain": [
              "(3.0, 3.5)"
            ]
          },
          "metadata": {},
          "execution_count": 47
        }
      ]
    },
    {
      "cell_type": "markdown",
      "metadata": {
        "id": "WAsr6e-8hoyx"
      },
      "source": [
        "파이썬 리스트나 배열은 ':'을 사용해서 묶음으로 처리할 수 있다"
      ]
    },
    {
      "cell_type": "code",
      "metadata": {
        "colab": {
          "base_uri": "https://localhost:8080/"
        },
        "id": "mMuxRr6HhzAJ",
        "outputId": "722bf57a-1f03-467e-fbc8-5a3ef704768f"
      },
      "source": [
        "data[0, :], data[1, :] # 0번 row의 모든 column, 1번 row의 모든 column"
      ],
      "execution_count": 48,
      "outputs": [
        {
          "output_type": "execute_result",
          "data": {
            "text/plain": [
              "(array([3., 3., 1.]), array([3.5, 2.5, 1. ]))"
            ]
          },
          "metadata": {},
          "execution_count": 48
        }
      ]
    },
    {
      "cell_type": "code",
      "metadata": {
        "colab": {
          "base_uri": "https://localhost:8080/"
        },
        "id": "qZC8tsCcmrsx",
        "outputId": "c5ea83bf-4eaf-4019-abac-3ba60eac7780"
      },
      "source": [
        "data"
      ],
      "execution_count": 49,
      "outputs": [
        {
          "output_type": "execute_result",
          "data": {
            "text/plain": [
              "array([[ 3.  ,  3.  ,  1.  ],\n",
              "       [ 3.5 ,  2.5 ,  1.  ],\n",
              "       [ 1.  ,  0.5 , -1.  ],\n",
              "       [ 0.5 ,  0.75, -1.  ],\n",
              "       [ 2.  ,  1.5 , -1.  ],\n",
              "       [ 1.5 ,  2.  , -1.  ],\n",
              "       [ 2.3 ,  1.8 ,  1.  ]])"
            ]
          },
          "metadata": {},
          "execution_count": 49
        }
      ]
    },
    {
      "cell_type": "code",
      "metadata": {
        "colab": {
          "base_uri": "https://localhost:8080/"
        },
        "id": "gC4nEN3nmaVP",
        "outputId": "18844ae4-2394-4383-8e8e-fc15f496f13c"
      },
      "source": [
        "data[:, 0], data[:, 2] # 모든 row의 0번 column, 모든 row의 2번 column"
      ],
      "execution_count": 50,
      "outputs": [
        {
          "output_type": "execute_result",
          "data": {
            "text/plain": [
              "(array([3. , 3.5, 1. , 0.5, 2. , 1.5, 2.3]),\n",
              " array([ 1.,  1., -1., -1., -1., -1.,  1.]))"
            ]
          },
          "metadata": {},
          "execution_count": 50
        }
      ]
    },
    {
      "cell_type": "markdown",
      "metadata": {
        "id": "N456Tx2Wm5oy"
      },
      "source": [
        "# Data 플롯"
      ]
    },
    {
      "cell_type": "markdown",
      "metadata": {
        "id": "EfPFzCLhnAI0"
      },
      "source": [
        "2번 column 값이 1인 data 만 고르기"
      ]
    },
    {
      "cell_type": "code",
      "metadata": {
        "colab": {
          "base_uri": "https://localhost:8080/"
        },
        "id": "KUUqNhKrnULd",
        "outputId": "d943832e-605c-442a-afb9-0a7cdbc911a6"
      },
      "source": [
        "data[:, 2] == 1"
      ],
      "execution_count": 51,
      "outputs": [
        {
          "output_type": "execute_result",
          "data": {
            "text/plain": [
              "array([ True,  True, False, False, False, False,  True])"
            ]
          },
          "metadata": {},
          "execution_count": 51
        }
      ]
    },
    {
      "cell_type": "code",
      "metadata": {
        "colab": {
          "base_uri": "https://localhost:8080/"
        },
        "id": "qqyIxn8inZ7R",
        "outputId": "40ef77e5-648d-4f31-c8fb-baec70ac5a5c"
      },
      "source": [
        "data[data[:, 2] == 1] # [ ] 안의 값이 True인 것만 추출"
      ],
      "execution_count": 52,
      "outputs": [
        {
          "output_type": "execute_result",
          "data": {
            "text/plain": [
              "array([[3. , 3. , 1. ],\n",
              "       [3.5, 2.5, 1. ],\n",
              "       [2.3, 1.8, 1. ]])"
            ]
          },
          "metadata": {},
          "execution_count": 52
        }
      ]
    },
    {
      "cell_type": "code",
      "metadata": {
        "scrolled": true,
        "colab": {
          "base_uri": "https://localhost:8080/"
        },
        "id": "ZMoHRpYVQrw8",
        "outputId": "6948ca06-e71f-4344-a294-58108bf80b18"
      },
      "source": [
        "pos = data[[data[:, 2] == 1]] # warning은 무시해도 됨\n"
      ],
      "execution_count": 53,
      "outputs": [
        {
          "output_type": "stream",
          "name": "stderr",
          "text": [
            "/usr/local/lib/python3.7/dist-packages/ipykernel_launcher.py:1: FutureWarning: Using a non-tuple sequence for multidimensional indexing is deprecated; use `arr[tuple(seq)]` instead of `arr[seq]`. In the future this will be interpreted as an array index, `arr[np.array(seq)]`, which will result either in an error or a different result.\n",
            "  \"\"\"Entry point for launching an IPython kernel.\n"
          ]
        }
      ]
    },
    {
      "cell_type": "code",
      "metadata": {
        "colab": {
          "base_uri": "https://localhost:8080/"
        },
        "id": "fRrOJzCkm3Lj",
        "outputId": "1210b43c-31f2-449f-a145-39e50e416df5"
      },
      "source": [
        "neg = data[[data[:, 2] == -1]] # 2번 column이 -1인 것만 추출\n",
        "neg"
      ],
      "execution_count": 54,
      "outputs": [
        {
          "output_type": "stream",
          "name": "stderr",
          "text": [
            "/usr/local/lib/python3.7/dist-packages/ipykernel_launcher.py:1: FutureWarning: Using a non-tuple sequence for multidimensional indexing is deprecated; use `arr[tuple(seq)]` instead of `arr[seq]`. In the future this will be interpreted as an array index, `arr[np.array(seq)]`, which will result either in an error or a different result.\n",
            "  \"\"\"Entry point for launching an IPython kernel.\n"
          ]
        },
        {
          "output_type": "execute_result",
          "data": {
            "text/plain": [
              "array([[ 1.  ,  0.5 , -1.  ],\n",
              "       [ 0.5 ,  0.75, -1.  ],\n",
              "       [ 2.  ,  1.5 , -1.  ],\n",
              "       [ 1.5 ,  2.  , -1.  ]])"
            ]
          },
          "metadata": {},
          "execution_count": 54
        }
      ]
    },
    {
      "cell_type": "markdown",
      "source": [
        "Positive data"
      ],
      "metadata": {
        "id": "HNuOqrDaIHgy"
      }
    },
    {
      "cell_type": "code",
      "metadata": {
        "colab": {
          "base_uri": "https://localhost:8080/"
        },
        "id": "0sA5DH5YyZIi",
        "outputId": "41d9133a-5d21-4323-d0b3-ea6c09db5d0d"
      },
      "source": [
        "pos"
      ],
      "execution_count": 55,
      "outputs": [
        {
          "output_type": "execute_result",
          "data": {
            "text/plain": [
              "array([[3. , 3. , 1. ],\n",
              "       [3.5, 2.5, 1. ],\n",
              "       [2.3, 1.8, 1. ]])"
            ]
          },
          "metadata": {},
          "execution_count": 55
        }
      ]
    },
    {
      "cell_type": "markdown",
      "source": [
        "Negative data"
      ],
      "metadata": {
        "id": "XCnGEAEQIKUv"
      }
    },
    {
      "cell_type": "code",
      "metadata": {
        "colab": {
          "base_uri": "https://localhost:8080/"
        },
        "id": "U75yXsGkydzX",
        "outputId": "31b67caf-c1bc-440d-be9d-0f440e51bc4c"
      },
      "source": [
        "neg"
      ],
      "execution_count": 56,
      "outputs": [
        {
          "output_type": "execute_result",
          "data": {
            "text/plain": [
              "array([[ 1.  ,  0.5 , -1.  ],\n",
              "       [ 0.5 ,  0.75, -1.  ],\n",
              "       [ 2.  ,  1.5 , -1.  ],\n",
              "       [ 1.5 ,  2.  , -1.  ]])"
            ]
          },
          "metadata": {},
          "execution_count": 56
        }
      ]
    },
    {
      "cell_type": "markdown",
      "source": [
        " pos의 0번 column과 pos의 1번 column"
      ],
      "metadata": {
        "id": "8FEnaW2VIRmH"
      }
    },
    {
      "cell_type": "code",
      "metadata": {
        "colab": {
          "base_uri": "https://localhost:8080/"
        },
        "id": "J6a6uSn9qAWg",
        "outputId": "93116600-4bb6-4700-a206-dfeb60589041"
      },
      "source": [
        "pos[:, 0], pos[:, 1]"
      ],
      "execution_count": 57,
      "outputs": [
        {
          "output_type": "execute_result",
          "data": {
            "text/plain": [
              "(array([3. , 3.5, 2.3]), array([3. , 2.5, 1.8]))"
            ]
          },
          "metadata": {},
          "execution_count": 57
        }
      ]
    },
    {
      "cell_type": "markdown",
      "source": [
        "neg의 0번 columns과 neg의 1번 column"
      ],
      "metadata": {
        "id": "odzi4q0ZIWi0"
      }
    },
    {
      "cell_type": "code",
      "metadata": {
        "colab": {
          "base_uri": "https://localhost:8080/"
        },
        "id": "KvyNhrzRz1l4",
        "outputId": "ef66d44d-748f-4e1d-9eb9-7e91e6d19e48"
      },
      "source": [
        "neg[:, 0], neg[:, 1]"
      ],
      "execution_count": 58,
      "outputs": [
        {
          "output_type": "execute_result",
          "data": {
            "text/plain": [
              "(array([1. , 0.5, 2. , 1.5]), array([0.5 , 0.75, 1.5 , 2.  ]))"
            ]
          },
          "metadata": {},
          "execution_count": 58
        }
      ]
    },
    {
      "cell_type": "markdown",
      "metadata": {
        "id": "nZM7zgDZqNb1"
      },
      "source": [
        "## pos의 0번 column을 x축, 1번 column을 y축으로 하는 그래프\n",
        "## neg 0번 column을 x축, 1번 column을 y축으로 하는 그래프"
      ]
    },
    {
      "cell_type": "code",
      "metadata": {
        "colab": {
          "base_uri": "https://localhost:8080/",
          "height": 296
        },
        "id": "1eWideVop3B6",
        "outputId": "5a93b22c-d82d-4a24-f845-38b055448302"
      },
      "source": [
        "plt.scatter(pos[:,0], pos[:, 1], label=\"pos\")\n",
        "plt.scatter(neg[:,0], neg[:, 1], label=\"neg\")\n",
        "plt.xlabel(\"x1\")\n",
        "plt.ylabel(\"x2\")\n",
        "plt.legend(loc=2)"
      ],
      "execution_count": 59,
      "outputs": [
        {
          "output_type": "execute_result",
          "data": {
            "text/plain": [
              "<matplotlib.legend.Legend at 0x7f8ab9d5d590>"
            ]
          },
          "metadata": {},
          "execution_count": 59
        },
        {
          "output_type": "display_data",
          "data": {
            "image/png": "[encoded data removed]",
            "text/plain": [
              "<Figure size 432x288 with 1 Axes>"
            ]
          },
          "metadata": {
            "needs_background": "light"
          }
        }
      ]
    },
    {
      "cell_type": "markdown",
      "metadata": {
        "id": "hHn3mLQEqiB0"
      },
      "source": [
        "# Perceptron 학습 함수\n",
        "- weights와 errors_log는 글로벌 변수로 지정  \n",
        "- weights 값은 0으로 초기화한 후 학습  \n",
        "- 학습은 epochs 만큼 반복  \n",
        "- eta는 그리스 문자 eta이며 learning rate를 표시하는 옛날식 관행.  \n",
        "- 지금은 lr이란 약자를 주로 사용함."
      ]
    },
    {
      "cell_type": "code",
      "metadata": {
        "id": "dxvxTnuhQrw9"
      },
      "source": [
        "def train(X, y, epochs=epochs, eta=eta):\n",
        "    global weights\n",
        "    global errors_log\n",
        "    weights = np.zeros(1 + X.shape[1]) # add bias\n",
        "    print(\"Initial weights\", weights)\n",
        "    errors_log = []\n",
        "\n",
        "    for i in range(epochs):\n",
        "        errors = 0\n",
        "        print(\"EPOCHS\", i+1)\n",
        "        for xi, target in zip(X, y):\n",
        "            update = eta * (target - predict(xi)) # perceptron의 결과와 truth 값 비교\n",
        "            print(xi, \"target\", target, \"sum\", net_input(xi), \"update\", update)\n",
        "            if update != 0:                       # if prediction is wrong\n",
        "                weights[1:] +=  update * xi\n",
        "                weights[0] +=  update             # (== update * 1)\n",
        "                print(\"Updated WEIGHTS\", weights)\n",
        "                errors += int(update != 0.0)      # count errors\n",
        "        errors_log.append(errors)\n",
        "    return\n",
        "\n",
        "def net_input(X):\n",
        "    global weights\n",
        "    return np.dot(X, weights[1:]) + weights[0] # dot product\n",
        "\n",
        "def predict(X):\n",
        "    return np.where(net_input(X) > 0.0, 1, -1)"
      ],
      "execution_count": 60,
      "outputs": []
    },
    {
      "cell_type": "markdown",
      "metadata": {
        "id": "X8OoUhmrtmxU"
      },
      "source": [
        "np.dot은 입력과 weights의 가중합 계산  "
      ]
    },
    {
      "cell_type": "code",
      "metadata": {
        "colab": {
          "base_uri": "https://localhost:8080/"
        },
        "id": "mCvejXvHs-Dm",
        "outputId": "c280cdaa-8a27-4b5e-d944-d9971c4a3abd"
      },
      "source": [
        "np.dot(np.array([1,2,3]), np.array([1, -1, 1])) # (1 * 1) + (2 * (-1)) + (2 * 1), dot product 연산 : 각 위치마다 대응하는 원소끼리 곱한 후 결과를 더한다"
      ],
      "execution_count": 61,
      "outputs": [
        {
          "output_type": "execute_result",
          "data": {
            "text/plain": [
              "2"
            ]
          },
          "metadata": {},
          "execution_count": 61
        }
      ]
    },
    {
      "cell_type": "markdown",
      "source": [
        "np.where는 첫번 인자의 각 원소에 대해 조건을 검사하여 True면 두번째 인자를, False면 세번째 인자를 넣은 배열을 리턴"
      ],
      "metadata": {
        "id": "8Fy1DnIAKLqM"
      }
    },
    {
      "cell_type": "code",
      "metadata": {
        "colab": {
          "base_uri": "https://localhost:8080/"
        },
        "id": "w-KjJHI5tuQE",
        "outputId": "8a95c7aa-26d4-46ef-bf1f-9d1af81317c3"
      },
      "source": [
        "np.where(np.array([0.5, -0.3, 0.9]) > 0.0, 1, -1) "
      ],
      "execution_count": 62,
      "outputs": [
        {
          "output_type": "execute_result",
          "data": {
            "text/plain": [
              "array([ 1, -1,  1])"
            ]
          },
          "metadata": {},
          "execution_count": 62
        }
      ]
    },
    {
      "cell_type": "markdown",
      "metadata": {
        "id": "ZPOpCzsBuTGv"
      },
      "source": [
        "predict는 X를 weights와 dot product한 결과가 0보다 크면 1, 작으면 -1을 리턴  \n",
        "thresholding 함수 기능"
      ]
    },
    {
      "cell_type": "markdown",
      "metadata": {
        "id": "7D_JEeDisEMh"
      },
      "source": [
        "update 부분 추가 설명\n",
        "target이 1이고 predict(x)가 -1이면 target - predict(x)는 2  \n",
        "target이 -1이고 predict(x)가 1이면 target - predict(x)는 -2  \n",
        "update는 이 값에 eta를 곱한 값"
      ]
    },
    {
      "cell_type": "markdown",
      "source": [
        "training data"
      ],
      "metadata": {
        "id": "L4pwO8aKwtK_"
      }
    },
    {
      "cell_type": "code",
      "metadata": {
        "colab": {
          "base_uri": "https://localhost:8080/"
        },
        "id": "zgzTplAHQrw_",
        "outputId": "396b3524-126a-4af1-df55-c0988d4f7c47"
      },
      "source": [
        "data[:, :2]"
      ],
      "execution_count": 63,
      "outputs": [
        {
          "output_type": "execute_result",
          "data": {
            "text/plain": [
              "array([[3.  , 3.  ],\n",
              "       [3.5 , 2.5 ],\n",
              "       [1.  , 0.5 ],\n",
              "       [0.5 , 0.75],\n",
              "       [2.  , 1.5 ],\n",
              "       [1.5 , 2.  ],\n",
              "       [2.3 , 1.8 ]])"
            ]
          },
          "metadata": {},
          "execution_count": 63
        }
      ]
    },
    {
      "cell_type": "markdown",
      "source": [
        "target label"
      ],
      "metadata": {
        "id": "n1zSvWQDwz9V"
      }
    },
    {
      "cell_type": "code",
      "metadata": {
        "colab": {
          "base_uri": "https://localhost:8080/"
        },
        "id": "wZWpfFz1Qrw_",
        "outputId": "a1e291b5-8002-4d56-9117-62b0f000c621"
      },
      "source": [
        "data[:, 2]"
      ],
      "execution_count": 64,
      "outputs": [
        {
          "output_type": "execute_result",
          "data": {
            "text/plain": [
              "array([ 1.,  1., -1., -1., -1., -1.,  1.])"
            ]
          },
          "metadata": {},
          "execution_count": 64
        }
      ]
    },
    {
      "cell_type": "markdown",
      "source": [
        "training data size"
      ],
      "metadata": {
        "id": "6xJZ8gFFw5mt"
      }
    },
    {
      "cell_type": "code",
      "metadata": {
        "colab": {
          "base_uri": "https://localhost:8080/"
        },
        "id": "uIm60hPAQrxA",
        "outputId": "178f4ec5-b103-44b1-face-6a6173d6440e"
      },
      "source": [
        "data[:, :2].shape"
      ],
      "execution_count": 65,
      "outputs": [
        {
          "output_type": "execute_result",
          "data": {
            "text/plain": [
              "(7, 2)"
            ]
          },
          "metadata": {},
          "execution_count": 65
        }
      ]
    },
    {
      "cell_type": "markdown",
      "source": [
        "50번 학습"
      ],
      "metadata": {
        "id": "2r0jqc9lw_XD"
      }
    },
    {
      "cell_type": "code",
      "metadata": {
        "scrolled": false,
        "colab": {
          "base_uri": "https://localhost:8080/"
        },
        "id": "o83T07ssQrxB",
        "outputId": "0635d3dc-f95f-48b3-9acf-9896af9f280b"
      },
      "source": [
        "train(data[:, :2], data[:, 2], epochs=50)"
      ],
      "execution_count": 66,
      "outputs": [
        {
          "output_type": "stream",
          "name": "stdout",
          "text": [
            "Initial weights [0. 0. 0.]\n",
            "EPOCHS 1\n",
            "[3. 3.] target 1.0 sum 0.0 update 0.02\n",
            "Updated WEIGHTS [0.02 0.06 0.06]\n",
            "[3.5 2.5] target 1.0 sum 0.38 update 0.0\n",
            "[1.  0.5] target -1.0 sum 0.11 update -0.02\n",
            "Updated WEIGHTS [0.   0.04 0.05]\n",
            "[0.5  0.75] target -1.0 sum 0.057499999999999996 update -0.02\n",
            "Updated WEIGHTS [-0.02   0.03   0.035]\n",
            "[2.  1.5] target -1.0 sum 0.09249999999999997 update -0.02\n",
            "Updated WEIGHTS [-0.04  -0.01   0.005]\n",
            "[1.5 2. ] target -1.0 sum -0.04500000000000002 update 0.0\n",
            "[2.3 1.8] target 1.0 sum -0.05400000000000002 update 0.02\n",
            "Updated WEIGHTS [-0.02   0.036  0.041]\n",
            "EPOCHS 2\n",
            "[3. 3.] target 1.0 sum 0.211 update 0.0\n",
            "[3.5 2.5] target 1.0 sum 0.2085 update 0.0\n",
            "[1.  0.5] target -1.0 sum 0.03649999999999999 update -0.02\n",
            "Updated WEIGHTS [-0.04   0.016  0.031]\n",
            "[0.5  0.75] target -1.0 sum -0.008750000000000008 update 0.0\n",
            "[2.  1.5] target -1.0 sum 0.038499999999999986 update -0.02\n",
            "Updated WEIGHTS [-0.06  -0.024  0.001]\n",
            "[1.5 2. ] target -1.0 sum -0.09400000000000001 update 0.0\n",
            "[2.3 1.8] target 1.0 sum -0.11340000000000001 update 0.02\n",
            "Updated WEIGHTS [-0.04   0.022  0.037]\n",
            "EPOCHS 3\n",
            "[3. 3.] target 1.0 sum 0.137 update 0.0\n",
            "[3.5 2.5] target 1.0 sum 0.1295 update 0.0\n",
            "[1.  0.5] target -1.0 sum 0.0005000000000000004 update -0.02\n",
            "Updated WEIGHTS [-0.06   0.002  0.027]\n",
            "[0.5  0.75] target -1.0 sum -0.03875 update 0.0\n",
            "[2.  1.5] target -1.0 sum -0.015500000000000014 update 0.0\n",
            "[1.5 2. ] target -1.0 sum -0.0030000000000000096 update 0.0\n",
            "[2.3 1.8] target 1.0 sum -0.006800000000000021 update 0.02\n",
            "Updated WEIGHTS [-0.04   0.048  0.063]\n",
            "EPOCHS 4\n",
            "[3. 3.] target 1.0 sum 0.293 update 0.0\n",
            "[3.5 2.5] target 1.0 sum 0.2855 update 0.0\n",
            "[1.  0.5] target -1.0 sum 0.03949999999999999 update -0.02\n",
            "Updated WEIGHTS [-0.06   0.028  0.053]\n",
            "[0.5  0.75] target -1.0 sum -0.0062500000000000056 update 0.0\n",
            "[2.  1.5] target -1.0 sum 0.07549999999999998 update -0.02\n",
            "Updated WEIGHTS [-0.08  -0.012  0.023]\n",
            "[1.5 2. ] target -1.0 sum -0.052000000000000025 update 0.0\n",
            "[2.3 1.8] target 1.0 sum -0.06620000000000004 update 0.02\n",
            "Updated WEIGHTS [-0.06   0.034  0.059]\n",
            "EPOCHS 5\n",
            "[3. 3.] target 1.0 sum 0.21899999999999997 update 0.0\n",
            "[3.5 2.5] target 1.0 sum 0.20649999999999996 update 0.0\n",
            "[1.  0.5] target -1.0 sum 0.0034999999999999892 update -0.02\n",
            "Updated WEIGHTS [-0.08   0.014  0.049]\n",
            "[0.5  0.75] target -1.0 sum -0.036250000000000004 update 0.0\n",
            "[2.  1.5] target -1.0 sum 0.021499999999999977 update -0.02\n",
            "Updated WEIGHTS [-0.1   -0.026  0.019]\n",
            "[1.5 2. ] target -1.0 sum -0.10100000000000002 update 0.0\n",
            "[2.3 1.8] target 1.0 sum -0.12560000000000002 update 0.02\n",
            "Updated WEIGHTS [-0.08   0.02   0.055]\n",
            "EPOCHS 6\n",
            "[3. 3.] target 1.0 sum 0.14499999999999996 update 0.0\n",
            "[3.5 2.5] target 1.0 sum 0.12749999999999995 update 0.0\n",
            "[1.  0.5] target -1.0 sum -0.032500000000000015 update 0.0\n",
            "[0.5  0.75] target -1.0 sum -0.028749999999999998 update 0.0\n",
            "[2.  1.5] target -1.0 sum 0.042499999999999996 update -0.02\n",
            "Updated WEIGHTS [-0.1   -0.02   0.025]\n",
            "[1.5 2. ] target -1.0 sum -0.08000000000000002 update 0.0\n",
            "[2.3 1.8] target 1.0 sum -0.101 update 0.02\n",
            "Updated WEIGHTS [-0.08   0.026  0.061]\n",
            "EPOCHS 7\n",
            "[3. 3.] target 1.0 sum 0.181 update 0.0\n",
            "[3.5 2.5] target 1.0 sum 0.16349999999999998 update 0.0\n",
            "[1.  0.5] target -1.0 sum -0.023500000000000007 update 0.0\n",
            "[0.5  0.75] target -1.0 sum -0.021249999999999998 update 0.0\n",
            "[2.  1.5] target -1.0 sum 0.06349999999999999 update -0.02\n",
            "Updated WEIGHTS [-0.1   -0.014  0.031]\n",
            "[1.5 2. ] target -1.0 sum -0.059000000000000004 update 0.0\n",
            "[2.3 1.8] target 1.0 sum -0.07640000000000002 update 0.02\n",
            "Updated WEIGHTS [-0.08   0.032  0.067]\n",
            "EPOCHS 8\n",
            "[3. 3.] target 1.0 sum 0.21700000000000003 update 0.0\n",
            "[3.5 2.5] target 1.0 sum 0.19949999999999996 update 0.0\n",
            "[1.  0.5] target -1.0 sum -0.014499999999999999 update 0.0\n",
            "[0.5  0.75] target -1.0 sum -0.013749999999999998 update 0.0\n",
            "[2.  1.5] target -1.0 sum 0.0845 update -0.02\n",
            "Updated WEIGHTS [-0.1   -0.008  0.037]\n",
            "[1.5 2. ] target -1.0 sum -0.03799999999999999 update 0.0\n",
            "[2.3 1.8] target 1.0 sum -0.0518 update 0.02\n",
            "Updated WEIGHTS [-0.08   0.038  0.073]\n",
            "EPOCHS 9\n",
            "[3. 3.] target 1.0 sum 0.25300000000000006 update 0.0\n",
            "[3.5 2.5] target 1.0 sum 0.2355 update 0.0\n",
            "[1.  0.5] target -1.0 sum -0.005500000000000005 update 0.0\n",
            "[0.5  0.75] target -1.0 sum -0.006249999999999992 update 0.0\n",
            "[2.  1.5] target -1.0 sum 0.1055 update -0.02\n",
            "Updated WEIGHTS [-0.1   -0.002  0.043]\n",
            "[1.5 2. ] target -1.0 sum -0.016999999999999987 update 0.0\n",
            "[2.3 1.8] target 1.0 sum -0.027199999999999988 update 0.02\n",
            "Updated WEIGHTS [-0.08   0.044  0.079]\n",
            "EPOCHS 10\n",
            "[3. 3.] target 1.0 sum 0.28900000000000003 update 0.0\n",
            "[3.5 2.5] target 1.0 sum 0.2715 update 0.0\n",
            "[1.  0.5] target -1.0 sum 0.0034999999999999892 update -0.02\n",
            "Updated WEIGHTS [-0.1    0.024  0.069]\n",
            "[0.5  0.75] target -1.0 sum -0.03624999999999999 update 0.0\n",
            "[2.  1.5] target -1.0 sum 0.05150000000000002 update -0.02\n",
            "Updated WEIGHTS [-0.12  -0.016  0.039]\n",
            "[1.5 2. ] target -1.0 sum -0.06599999999999998 update 0.0\n",
            "[2.3 1.8] target 1.0 sum -0.08659999999999998 update 0.02\n",
            "Updated WEIGHTS [-0.1    0.03   0.075]\n",
            "EPOCHS 11\n",
            "[3. 3.] target 1.0 sum 0.21500000000000005 update 0.0\n",
            "[3.5 2.5] target 1.0 sum 0.19250000000000003 update 0.0\n",
            "[1.  0.5] target -1.0 sum -0.0325 update 0.0\n",
            "[0.5  0.75] target -1.0 sum -0.028749999999999984 update 0.0\n",
            "[2.  1.5] target -1.0 sum 0.07250000000000001 update -0.02\n",
            "Updated WEIGHTS [-0.12  -0.01   0.045]\n",
            "[1.5 2. ] target -1.0 sum -0.04499999999999996 update 0.0\n",
            "[2.3 1.8] target 1.0 sum -0.06199999999999998 update 0.02\n",
            "Updated WEIGHTS [-0.1    0.036  0.081]\n",
            "EPOCHS 12\n",
            "[3. 3.] target 1.0 sum 0.2510000000000001 update 0.0\n",
            "[3.5 2.5] target 1.0 sum 0.2285 update 0.0\n",
            "[1.  0.5] target -1.0 sum -0.023500000000000007 update 0.0\n",
            "[0.5  0.75] target -1.0 sum -0.02124999999999999 update 0.0\n",
            "[2.  1.5] target -1.0 sum 0.0935 update -0.02\n",
            "Updated WEIGHTS [-0.12  -0.004  0.051]\n",
            "[1.5 2. ] target -1.0 sum -0.023999999999999952 update 0.0\n",
            "[2.3 1.8] target 1.0 sum -0.037399999999999975 update 0.02\n",
            "Updated WEIGHTS [-0.1    0.042  0.087]\n",
            "EPOCHS 13\n",
            "[3. 3.] target 1.0 sum 0.28700000000000003 update 0.0\n",
            "[3.5 2.5] target 1.0 sum 0.26450000000000007 update 0.0\n",
            "[1.  0.5] target -1.0 sum -0.014500000000000013 update 0.0\n",
            "[0.5  0.75] target -1.0 sum -0.013749999999999984 update 0.0\n",
            "[2.  1.5] target -1.0 sum 0.11450000000000002 update -0.02\n",
            "Updated WEIGHTS [-0.12   0.002  0.057]\n",
            "[1.5 2. ] target -1.0 sum -0.002999999999999947 update 0.0\n",
            "[2.3 1.8] target 1.0 sum -0.012799999999999978 update 0.02\n",
            "Updated WEIGHTS [-0.1    0.048  0.093]\n",
            "EPOCHS 14\n",
            "[3. 3.] target 1.0 sum 0.32300000000000006 update 0.0\n",
            "[3.5 2.5] target 1.0 sum 0.3005000000000001 update 0.0\n",
            "[1.  0.5] target -1.0 sum -0.005500000000000005 update 0.0\n",
            "[0.5  0.75] target -1.0 sum -0.006249999999999978 update 0.0\n",
            "[2.  1.5] target -1.0 sum 0.1355 update -0.02\n",
            "Updated WEIGHTS [-0.12   0.008  0.063]\n",
            "[1.5 2. ] target -1.0 sum 0.018000000000000058 update -0.02\n",
            "Updated WEIGHTS [-0.14  -0.022  0.023]\n",
            "[2.3 1.8] target 1.0 sum -0.14919999999999997 update 0.02\n",
            "Updated WEIGHTS [-0.12   0.024  0.059]\n",
            "EPOCHS 15\n",
            "[3. 3.] target 1.0 sum 0.12900000000000011 update 0.0\n",
            "[3.5 2.5] target 1.0 sum 0.11150000000000006 update 0.0\n",
            "[1.  0.5] target -1.0 sum -0.0665 update 0.0\n",
            "[0.5  0.75] target -1.0 sum -0.06374999999999997 update 0.0\n",
            "[2.  1.5] target -1.0 sum 0.01650000000000003 update -0.02\n",
            "Updated WEIGHTS [-0.14  -0.016  0.029]\n",
            "[1.5 2. ] target -1.0 sum -0.10599999999999993 update 0.0\n",
            "[2.3 1.8] target 1.0 sum -0.12459999999999996 update 0.02\n",
            "Updated WEIGHTS [-0.12   0.03   0.065]\n",
            "EPOCHS 16\n",
            "[3. 3.] target 1.0 sum 0.1650000000000001 update 0.0\n",
            "[3.5 2.5] target 1.0 sum 0.14750000000000008 update 0.0\n",
            "[1.  0.5] target -1.0 sum -0.05750000000000001 update 0.0\n",
            "[0.5  0.75] target -1.0 sum -0.05624999999999998 update 0.0\n",
            "[2.  1.5] target -1.0 sum 0.03750000000000002 update -0.02\n",
            "Updated WEIGHTS [-0.14  -0.01   0.035]\n",
            "[1.5 2. ] target -1.0 sum -0.08499999999999994 update 0.0\n",
            "[2.3 1.8] target 1.0 sum -0.09999999999999996 update 0.02\n",
            "Updated WEIGHTS [-0.12   0.036  0.071]\n",
            "EPOCHS 17\n",
            "[3. 3.] target 1.0 sum 0.20100000000000007 update 0.0\n",
            "[3.5 2.5] target 1.0 sum 0.18350000000000005 update 0.0\n",
            "[1.  0.5] target -1.0 sum -0.0485 update 0.0\n",
            "[0.5  0.75] target -1.0 sum -0.048749999999999974 update 0.0\n",
            "[2.  1.5] target -1.0 sum 0.05850000000000004 update -0.02\n",
            "Updated WEIGHTS [-0.14  -0.004  0.041]\n",
            "[1.5 2. ] target -1.0 sum -0.06399999999999993 update 0.0\n",
            "[2.3 1.8] target 1.0 sum -0.07539999999999997 update 0.02\n",
            "Updated WEIGHTS [-0.12   0.042  0.077]\n",
            "EPOCHS 18\n",
            "[3. 3.] target 1.0 sum 0.2370000000000001 update 0.0\n",
            "[3.5 2.5] target 1.0 sum 0.21950000000000003 update 0.0\n",
            "[1.  0.5] target -1.0 sum -0.03950000000000001 update 0.0\n",
            "[0.5  0.75] target -1.0 sum -0.04124999999999997 update 0.0\n",
            "[2.  1.5] target -1.0 sum 0.07950000000000003 update -0.02\n",
            "Updated WEIGHTS [-0.14   0.002  0.047]\n",
            "[1.5 2. ] target -1.0 sum -0.04299999999999993 update 0.0\n",
            "[2.3 1.8] target 1.0 sum -0.050799999999999956 update 0.02\n",
            "Updated WEIGHTS [-0.12   0.048  0.083]\n",
            "EPOCHS 19\n",
            "[3. 3.] target 1.0 sum 0.27300000000000013 update 0.0\n",
            "[3.5 2.5] target 1.0 sum 0.25550000000000006 update 0.0\n",
            "[1.  0.5] target -1.0 sum -0.030500000000000013 update 0.0\n",
            "[0.5  0.75] target -1.0 sum -0.033749999999999974 update 0.0\n",
            "[2.  1.5] target -1.0 sum 0.10050000000000002 update -0.02\n",
            "Updated WEIGHTS [-0.14   0.008  0.053]\n",
            "[1.5 2. ] target -1.0 sum -0.02199999999999991 update 0.0\n",
            "[2.3 1.8] target 1.0 sum -0.02619999999999996 update 0.02\n",
            "Updated WEIGHTS [-0.12   0.054  0.089]\n",
            "EPOCHS 20\n",
            "[3. 3.] target 1.0 sum 0.30900000000000016 update 0.0\n",
            "[3.5 2.5] target 1.0 sum 0.2915000000000001 update 0.0\n",
            "[1.  0.5] target -1.0 sum -0.021500000000000005 update 0.0\n",
            "[0.5  0.75] target -1.0 sum -0.026249999999999968 update 0.0\n",
            "[2.  1.5] target -1.0 sum 0.12150000000000004 update -0.02\n",
            "Updated WEIGHTS [-0.14   0.014  0.059]\n",
            "[1.5 2. ] target -1.0 sum -0.0009999999999999176 update 0.0\n",
            "[2.3 1.8] target 1.0 sum -0.0015999999999999626 update 0.02\n",
            "Updated WEIGHTS [-0.12   0.06   0.095]\n",
            "EPOCHS 21\n",
            "[3. 3.] target 1.0 sum 0.34500000000000014 update 0.0\n",
            "[3.5 2.5] target 1.0 sum 0.3275000000000001 update 0.0\n",
            "[1.  0.5] target -1.0 sum -0.012499999999999997 update 0.0\n",
            "[0.5  0.75] target -1.0 sum -0.01874999999999996 update 0.0\n",
            "[2.  1.5] target -1.0 sum 0.14250000000000007 update -0.02\n",
            "Updated WEIGHTS [-0.14   0.02   0.065]\n",
            "[1.5 2. ] target -1.0 sum 0.0200000000000001 update -0.02\n",
            "Updated WEIGHTS [-0.16  -0.01   0.025]\n",
            "[2.3 1.8] target 1.0 sum -0.13799999999999993 update 0.02\n",
            "Updated WEIGHTS [-0.14   0.036  0.061]\n",
            "EPOCHS 22\n",
            "[3. 3.] target 1.0 sum 0.15100000000000013 update 0.0\n",
            "[3.5 2.5] target 1.0 sum 0.13850000000000007 update 0.0\n",
            "[1.  0.5] target -1.0 sum -0.07350000000000001 update 0.0\n",
            "[0.5  0.75] target -1.0 sum -0.07624999999999996 update 0.0\n",
            "[2.  1.5] target -1.0 sum 0.02350000000000005 update -0.02\n",
            "Updated WEIGHTS [-0.16  -0.004  0.031]\n",
            "[1.5 2. ] target -1.0 sum -0.10399999999999988 update 0.0\n",
            "[2.3 1.8] target 1.0 sum -0.11339999999999993 update 0.02\n",
            "Updated WEIGHTS [-0.14   0.042  0.067]\n",
            "EPOCHS 23\n",
            "[3. 3.] target 1.0 sum 0.18700000000000017 update 0.0\n",
            "[3.5 2.5] target 1.0 sum 0.17450000000000004 update 0.0\n",
            "[1.  0.5] target -1.0 sum -0.0645 update 0.0\n",
            "[0.5  0.75] target -1.0 sum -0.06874999999999996 update 0.0\n",
            "[2.  1.5] target -1.0 sum 0.04450000000000004 update -0.02\n",
            "Updated WEIGHTS [-0.16   0.002  0.037]\n",
            "[1.5 2. ] target -1.0 sum -0.08299999999999988 update 0.0\n",
            "[2.3 1.8] target 1.0 sum -0.08879999999999993 update 0.02\n",
            "Updated WEIGHTS [-0.14   0.048  0.073]\n",
            "EPOCHS 24\n",
            "[3. 3.] target 1.0 sum 0.22300000000000014 update 0.0\n",
            "[3.5 2.5] target 1.0 sum 0.21050000000000008 update 0.0\n",
            "[1.  0.5] target -1.0 sum -0.05550000000000001 update 0.0\n",
            "[0.5  0.75] target -1.0 sum -0.06124999999999997 update 0.0\n",
            "[2.  1.5] target -1.0 sum 0.06550000000000006 update -0.02\n",
            "Updated WEIGHTS [-0.16   0.008  0.043]\n",
            "[1.5 2. ] target -1.0 sum -0.061999999999999875 update 0.0\n",
            "[2.3 1.8] target 1.0 sum -0.06419999999999992 update 0.02\n",
            "Updated WEIGHTS [-0.14   0.054  0.079]\n",
            "EPOCHS 25\n",
            "[3. 3.] target 1.0 sum 0.2590000000000001 update 0.0\n",
            "[3.5 2.5] target 1.0 sum 0.24650000000000005 update 0.0\n",
            "[1.  0.5] target -1.0 sum -0.046500000000000014 update 0.0\n",
            "[0.5  0.75] target -1.0 sum -0.053749999999999964 update 0.0\n",
            "[2.  1.5] target -1.0 sum 0.08650000000000005 update -0.02\n",
            "Updated WEIGHTS [-0.16   0.014  0.049]\n",
            "[1.5 2. ] target -1.0 sum -0.04099999999999987 update 0.0\n",
            "[2.3 1.8] target 1.0 sum -0.03959999999999993 update 0.02\n",
            "Updated WEIGHTS [-0.14   0.06   0.085]\n",
            "EPOCHS 26\n",
            "[3. 3.] target 1.0 sum 0.2950000000000002 update 0.0\n",
            "[3.5 2.5] target 1.0 sum 0.2825000000000001 update 0.0\n",
            "[1.  0.5] target -1.0 sum -0.037500000000000006 update 0.0\n",
            "[0.5  0.75] target -1.0 sum -0.04624999999999996 update 0.0\n",
            "[2.  1.5] target -1.0 sum 0.10750000000000007 update -0.02\n",
            "Updated WEIGHTS [-0.16   0.02   0.055]\n",
            "[1.5 2. ] target -1.0 sum -0.01999999999999985 update 0.0\n",
            "[2.3 1.8] target 1.0 sum -0.01499999999999993 update 0.02\n",
            "Updated WEIGHTS [-0.14   0.066  0.091]\n",
            "EPOCHS 27\n",
            "[3. 3.] target 1.0 sum 0.3310000000000002 update 0.0\n",
            "[3.5 2.5] target 1.0 sum 0.31850000000000006 update 0.0\n",
            "[1.  0.5] target -1.0 sum -0.02850000000000001 update 0.0\n",
            "[0.5  0.75] target -1.0 sum -0.03874999999999995 update 0.0\n",
            "[2.  1.5] target -1.0 sum 0.12850000000000006 update -0.02\n",
            "Updated WEIGHTS [-0.16   0.026  0.061]\n",
            "[1.5 2. ] target -1.0 sum 0.0010000000000001397 update -0.02\n",
            "Updated WEIGHTS [-0.18  -0.004  0.021]\n",
            "[2.3 1.8] target 1.0 sum -0.15139999999999992 update 0.02\n",
            "Updated WEIGHTS [-0.16   0.042  0.057]\n",
            "EPOCHS 28\n",
            "[3. 3.] target 1.0 sum 0.13700000000000015 update 0.0\n",
            "[3.5 2.5] target 1.0 sum 0.1295000000000001 update 0.0\n",
            "[1.  0.5] target -1.0 sum -0.0895 update 0.0\n",
            "[0.5  0.75] target -1.0 sum -0.09624999999999995 update 0.0\n",
            "[2.  1.5] target -1.0 sum 0.009500000000000064 update -0.02\n",
            "Updated WEIGHTS [-0.18   0.002  0.027]\n",
            "[1.5 2. ] target -1.0 sum -0.12299999999999985 update 0.0\n",
            "[2.3 1.8] target 1.0 sum -0.1267999999999999 update 0.02\n",
            "Updated WEIGHTS [-0.16   0.048  0.063]\n",
            "EPOCHS 29\n",
            "[3. 3.] target 1.0 sum 0.17300000000000018 update 0.0\n",
            "[3.5 2.5] target 1.0 sum 0.16550000000000012 update 0.0\n",
            "[1.  0.5] target -1.0 sum -0.0805 update 0.0\n",
            "[0.5  0.75] target -1.0 sum -0.08874999999999994 update 0.0\n",
            "[2.  1.5] target -1.0 sum 0.030500000000000055 update -0.02\n",
            "Updated WEIGHTS [-0.18   0.008  0.033]\n",
            "[1.5 2. ] target -1.0 sum -0.10199999999999985 update 0.0\n",
            "[2.3 1.8] target 1.0 sum -0.10219999999999992 update 0.02\n",
            "Updated WEIGHTS [-0.16   0.054  0.069]\n",
            "EPOCHS 30\n",
            "[3. 3.] target 1.0 sum 0.2090000000000002 update 0.0\n",
            "[3.5 2.5] target 1.0 sum 0.2015000000000001 update 0.0\n",
            "[1.  0.5] target -1.0 sum -0.07150000000000001 update 0.0\n",
            "[0.5  0.75] target -1.0 sum -0.08124999999999995 update 0.0\n",
            "[2.  1.5] target -1.0 sum 0.051500000000000073 update -0.02\n",
            "Updated WEIGHTS [-0.18   0.014  0.039]\n",
            "[1.5 2. ] target -1.0 sum -0.08099999999999985 update 0.0\n",
            "[2.3 1.8] target 1.0 sum -0.0775999999999999 update 0.02\n",
            "Updated WEIGHTS [-0.16   0.06   0.075]\n",
            "EPOCHS 31\n",
            "[3. 3.] target 1.0 sum 0.2450000000000002 update 0.0\n",
            "[3.5 2.5] target 1.0 sum 0.23750000000000007 update 0.0\n",
            "[1.  0.5] target -1.0 sum -0.0625 update 0.0\n",
            "[0.5  0.75] target -1.0 sum -0.07374999999999994 update 0.0\n",
            "[2.  1.5] target -1.0 sum 0.07250000000000006 update -0.02\n",
            "Updated WEIGHTS [-0.18   0.02   0.045]\n",
            "[1.5 2. ] target -1.0 sum -0.05999999999999983 update 0.0\n",
            "[2.3 1.8] target 1.0 sum -0.05299999999999991 update 0.02\n",
            "Updated WEIGHTS [-0.16   0.066  0.081]\n",
            "EPOCHS 32\n",
            "[3. 3.] target 1.0 sum 0.28100000000000025 update 0.0\n",
            "[3.5 2.5] target 1.0 sum 0.2735000000000001 update 0.0\n",
            "[1.  0.5] target -1.0 sum -0.05349999999999999 update 0.0\n",
            "[0.5  0.75] target -1.0 sum -0.06624999999999993 update 0.0\n",
            "[2.  1.5] target -1.0 sum 0.09350000000000006 update -0.02\n",
            "Updated WEIGHTS [-0.18   0.026  0.051]\n",
            "[1.5 2. ] target -1.0 sum -0.03899999999999981 update 0.0\n",
            "[2.3 1.8] target 1.0 sum -0.028399999999999898 update 0.02\n",
            "Updated WEIGHTS [-0.16   0.072  0.087]\n",
            "EPOCHS 33\n",
            "[3. 3.] target 1.0 sum 0.3170000000000003 update 0.0\n",
            "[3.5 2.5] target 1.0 sum 0.3095000000000001 update 0.0\n",
            "[1.  0.5] target -1.0 sum -0.044499999999999984 update 0.0\n",
            "[0.5  0.75] target -1.0 sum -0.05874999999999993 update 0.0\n",
            "[2.  1.5] target -1.0 sum 0.11450000000000007 update -0.02\n",
            "Updated WEIGHTS [-0.18   0.032  0.057]\n",
            "[1.5 2. ] target -1.0 sum -0.017999999999999794 update 0.0\n",
            "[2.3 1.8] target 1.0 sum -0.003799999999999859 update 0.02\n",
            "Updated WEIGHTS [-0.16   0.078  0.093]\n",
            "EPOCHS 34\n",
            "[3. 3.] target 1.0 sum 0.3530000000000003 update 0.0\n",
            "[3.5 2.5] target 1.0 sum 0.34550000000000014 update 0.0\n",
            "[1.  0.5] target -1.0 sum -0.035499999999999976 update 0.0\n",
            "[0.5  0.75] target -1.0 sum -0.05124999999999992 update 0.0\n",
            "[2.  1.5] target -1.0 sum 0.1355000000000001 update -0.02\n",
            "Updated WEIGHTS [-0.18   0.038  0.063]\n",
            "[1.5 2. ] target -1.0 sum 0.0030000000000002247 update -0.02\n",
            "Updated WEIGHTS [-0.2    0.008  0.023]\n",
            "[2.3 1.8] target 1.0 sum -0.14019999999999982 update 0.02\n",
            "Updated WEIGHTS [-0.18   0.054  0.059]\n",
            "EPOCHS 35\n",
            "[3. 3.] target 1.0 sum 0.1590000000000003 update 0.0\n",
            "[3.5 2.5] target 1.0 sum 0.15650000000000025 update 0.0\n",
            "[1.  0.5] target -1.0 sum -0.09649999999999996 update 0.0\n",
            "[0.5  0.75] target -1.0 sum -0.1087499999999999 update 0.0\n",
            "[2.  1.5] target -1.0 sum 0.016500000000000126 update -0.02\n",
            "Updated WEIGHTS [-0.2    0.014  0.029]\n",
            "[1.5 2. ] target -1.0 sum -0.12099999999999976 update 0.0\n",
            "[2.3 1.8] target 1.0 sum -0.11559999999999983 update 0.02\n",
            "Updated WEIGHTS [-0.18   0.06   0.065]\n",
            "EPOCHS 36\n",
            "[3. 3.] target 1.0 sum 0.19500000000000034 update 0.0\n",
            "[3.5 2.5] target 1.0 sum 0.19250000000000023 update 0.0\n",
            "[1.  0.5] target -1.0 sum -0.08749999999999997 update 0.0\n",
            "[0.5  0.75] target -1.0 sum -0.10124999999999991 update 0.0\n",
            "[2.  1.5] target -1.0 sum 0.037500000000000144 update -0.02\n",
            "Updated WEIGHTS [-0.2    0.02   0.035]\n",
            "[1.5 2. ] target -1.0 sum -0.09999999999999977 update 0.0\n",
            "[2.3 1.8] target 1.0 sum -0.09099999999999983 update 0.02\n",
            "Updated WEIGHTS [-0.18   0.066  0.071]\n",
            "EPOCHS 37\n",
            "[3. 3.] target 1.0 sum 0.23100000000000026 update 0.0\n",
            "[3.5 2.5] target 1.0 sum 0.2285000000000002 update 0.0\n",
            "[1.  0.5] target -1.0 sum -0.07849999999999997 update 0.0\n",
            "[0.5  0.75] target -1.0 sum -0.09374999999999992 update 0.0\n",
            "[2.  1.5] target -1.0 sum 0.05850000000000011 update -0.02\n",
            "Updated WEIGHTS [-0.2    0.026  0.041]\n",
            "[1.5 2. ] target -1.0 sum -0.07899999999999976 update 0.0\n",
            "[2.3 1.8] target 1.0 sum -0.06639999999999985 update 0.02\n",
            "Updated WEIGHTS [-0.18   0.072  0.077]\n",
            "EPOCHS 38\n",
            "[3. 3.] target 1.0 sum 0.2670000000000003 update 0.0\n",
            "[3.5 2.5] target 1.0 sum 0.26450000000000023 update 0.0\n",
            "[1.  0.5] target -1.0 sum -0.06949999999999996 update 0.0\n",
            "[0.5  0.75] target -1.0 sum -0.08624999999999991 update 0.0\n",
            "[2.  1.5] target -1.0 sum 0.07950000000000013 update -0.02\n",
            "Updated WEIGHTS [-0.2    0.032  0.047]\n",
            "[1.5 2. ] target -1.0 sum -0.057999999999999746 update 0.0\n",
            "[2.3 1.8] target 1.0 sum -0.04179999999999981 update 0.02\n",
            "Updated WEIGHTS [-0.18   0.078  0.083]\n",
            "EPOCHS 39\n",
            "[3. 3.] target 1.0 sum 0.3030000000000003 update 0.0\n",
            "[3.5 2.5] target 1.0 sum 0.30050000000000027 update 0.0\n",
            "[1.  0.5] target -1.0 sum -0.06049999999999996 update 0.0\n",
            "[0.5  0.75] target -1.0 sum -0.0787499999999999 update 0.0\n",
            "[2.  1.5] target -1.0 sum 0.10050000000000014 update -0.02\n",
            "Updated WEIGHTS [-0.2    0.038  0.053]\n",
            "[1.5 2. ] target -1.0 sum -0.03699999999999973 update 0.0\n",
            "[2.3 1.8] target 1.0 sum -0.0171999999999998 update 0.02\n",
            "Updated WEIGHTS [-0.18   0.084  0.089]\n",
            "EPOCHS 40\n",
            "[3. 3.] target 1.0 sum 0.33900000000000036 update 0.0\n",
            "[3.5 2.5] target 1.0 sum 0.3365000000000003 update 0.0\n",
            "[1.  0.5] target -1.0 sum -0.051499999999999935 update 0.0\n",
            "[0.5  0.75] target -1.0 sum -0.0712499999999999 update 0.0\n",
            "[2.  1.5] target -1.0 sum 0.12150000000000016 update -0.02\n",
            "Updated WEIGHTS [-0.2    0.044  0.059]\n",
            "[1.5 2. ] target -1.0 sum -0.01599999999999971 update 0.0\n",
            "[2.3 1.8] target 1.0 sum 0.007400000000000212 update 0.0\n",
            "EPOCHS 41\n",
            "[3. 3.] target 1.0 sum 0.1090000000000004 update 0.0\n",
            "[3.5 2.5] target 1.0 sum 0.10150000000000028 update 0.0\n",
            "[1.  0.5] target -1.0 sum -0.12649999999999995 update 0.0\n",
            "[0.5  0.75] target -1.0 sum -0.13374999999999987 update 0.0\n",
            "[2.  1.5] target -1.0 sum -0.023499999999999827 update 0.0\n",
            "[1.5 2. ] target -1.0 sum -0.01599999999999971 update 0.0\n",
            "[2.3 1.8] target 1.0 sum 0.007400000000000212 update 0.0\n",
            "EPOCHS 42\n",
            "[3. 3.] target 1.0 sum 0.1090000000000004 update 0.0\n",
            "[3.5 2.5] target 1.0 sum 0.10150000000000028 update 0.0\n",
            "[1.  0.5] target -1.0 sum -0.12649999999999995 update 0.0\n",
            "[0.5  0.75] target -1.0 sum -0.13374999999999987 update 0.0\n",
            "[2.  1.5] target -1.0 sum -0.023499999999999827 update 0.0\n",
            "[1.5 2. ] target -1.0 sum -0.01599999999999971 update 0.0\n",
            "[2.3 1.8] target 1.0 sum 0.007400000000000212 update 0.0\n",
            "EPOCHS 43\n",
            "[3. 3.] target 1.0 sum 0.1090000000000004 update 0.0\n",
            "[3.5 2.5] target 1.0 sum 0.10150000000000028 update 0.0\n",
            "[1.  0.5] target -1.0 sum -0.12649999999999995 update 0.0\n",
            "[0.5  0.75] target -1.0 sum -0.13374999999999987 update 0.0\n",
            "[2.  1.5] target -1.0 sum -0.023499999999999827 update 0.0\n",
            "[1.5 2. ] target -1.0 sum -0.01599999999999971 update 0.0\n",
            "[2.3 1.8] target 1.0 sum 0.007400000000000212 update 0.0\n",
            "EPOCHS 44\n",
            "[3. 3.] target 1.0 sum 0.1090000000000004 update 0.0\n",
            "[3.5 2.5] target 1.0 sum 0.10150000000000028 update 0.0\n",
            "[1.  0.5] target -1.0 sum -0.12649999999999995 update 0.0\n",
            "[0.5  0.75] target -1.0 sum -0.13374999999999987 update 0.0\n",
            "[2.  1.5] target -1.0 sum -0.023499999999999827 update 0.0\n",
            "[1.5 2. ] target -1.0 sum -0.01599999999999971 update 0.0\n",
            "[2.3 1.8] target 1.0 sum 0.007400000000000212 update 0.0\n",
            "EPOCHS 45\n",
            "[3. 3.] target 1.0 sum 0.1090000000000004 update 0.0\n",
            "[3.5 2.5] target 1.0 sum 0.10150000000000028 update 0.0\n",
            "[1.  0.5] target -1.0 sum -0.12649999999999995 update 0.0\n",
            "[0.5  0.75] target -1.0 sum -0.13374999999999987 update 0.0\n",
            "[2.  1.5] target -1.0 sum -0.023499999999999827 update 0.0\n",
            "[1.5 2. ] target -1.0 sum -0.01599999999999971 update 0.0\n",
            "[2.3 1.8] target 1.0 sum 0.007400000000000212 update 0.0\n",
            "EPOCHS 46\n",
            "[3. 3.] target 1.0 sum 0.1090000000000004 update 0.0\n",
            "[3.5 2.5] target 1.0 sum 0.10150000000000028 update 0.0\n",
            "[1.  0.5] target -1.0 sum -0.12649999999999995 update 0.0\n",
            "[0.5  0.75] target -1.0 sum -0.13374999999999987 update 0.0\n",
            "[2.  1.5] target -1.0 sum -0.023499999999999827 update 0.0\n",
            "[1.5 2. ] target -1.0 sum -0.01599999999999971 update 0.0\n",
            "[2.3 1.8] target 1.0 sum 0.007400000000000212 update 0.0\n",
            "EPOCHS 47\n",
            "[3. 3.] target 1.0 sum 0.1090000000000004 update 0.0\n",
            "[3.5 2.5] target 1.0 sum 0.10150000000000028 update 0.0\n",
            "[1.  0.5] target -1.0 sum -0.12649999999999995 update 0.0\n",
            "[0.5  0.75] target -1.0 sum -0.13374999999999987 update 0.0\n",
            "[2.  1.5] target -1.0 sum -0.023499999999999827 update 0.0\n",
            "[1.5 2. ] target -1.0 sum -0.01599999999999971 update 0.0\n",
            "[2.3 1.8] target 1.0 sum 0.007400000000000212 update 0.0\n",
            "EPOCHS 48\n",
            "[3. 3.] target 1.0 sum 0.1090000000000004 update 0.0\n",
            "[3.5 2.5] target 1.0 sum 0.10150000000000028 update 0.0\n",
            "[1.  0.5] target -1.0 sum -0.12649999999999995 update 0.0\n",
            "[0.5  0.75] target -1.0 sum -0.13374999999999987 update 0.0\n",
            "[2.  1.5] target -1.0 sum -0.023499999999999827 update 0.0\n",
            "[1.5 2. ] target -1.0 sum -0.01599999999999971 update 0.0\n",
            "[2.3 1.8] target 1.0 sum 0.007400000000000212 update 0.0\n",
            "EPOCHS 49\n",
            "[3. 3.] target 1.0 sum 0.1090000000000004 update 0.0\n",
            "[3.5 2.5] target 1.0 sum 0.10150000000000028 update 0.0\n",
            "[1.  0.5] target -1.0 sum -0.12649999999999995 update 0.0\n",
            "[0.5  0.75] target -1.0 sum -0.13374999999999987 update 0.0\n",
            "[2.  1.5] target -1.0 sum -0.023499999999999827 update 0.0\n",
            "[1.5 2. ] target -1.0 sum -0.01599999999999971 update 0.0\n",
            "[2.3 1.8] target 1.0 sum 0.007400000000000212 update 0.0\n",
            "EPOCHS 50\n",
            "[3. 3.] target 1.0 sum 0.1090000000000004 update 0.0\n",
            "[3.5 2.5] target 1.0 sum 0.10150000000000028 update 0.0\n",
            "[1.  0.5] target -1.0 sum -0.12649999999999995 update 0.0\n",
            "[0.5  0.75] target -1.0 sum -0.13374999999999987 update 0.0\n",
            "[2.  1.5] target -1.0 sum -0.023499999999999827 update 0.0\n",
            "[1.5 2. ] target -1.0 sum -0.01599999999999971 update 0.0\n",
            "[2.3 1.8] target 1.0 sum 0.007400000000000212 update 0.0\n"
          ]
        }
      ]
    },
    {
      "cell_type": "code",
      "metadata": {
        "colab": {
          "base_uri": "https://localhost:8080/"
        },
        "id": "N03rv7gJQrxB",
        "outputId": "fcb2ef01-04b8-43da-dd97-fa1aaf5aac02"
      },
      "source": [
        "print(errors_log)"
      ],
      "execution_count": 67,
      "outputs": [
        {
          "output_type": "stream",
          "name": "stdout",
          "text": [
            "[5, 3, 2, 3, 3, 2, 2, 2, 2, 3, 2, 2, 2, 3, 2, 2, 2, 2, 2, 2, 3, 2, 2, 2, 2, 2, 3, 2, 2, 2, 2, 2, 2, 3, 2, 2, 2, 2, 2, 1, 0, 0, 0, 0, 0, 0, 0, 0, 0, 0]\n"
          ]
        }
      ]
    },
    {
      "cell_type": "code",
      "metadata": {
        "colab": {
          "base_uri": "https://localhost:8080/"
        },
        "id": "d_LBneXRQrxC",
        "outputId": "df75eaa7-915e-4572-f80f-0bca8cb52344"
      },
      "source": [
        "weights[0]"
      ],
      "execution_count": 68,
      "outputs": [
        {
          "output_type": "execute_result",
          "data": {
            "text/plain": [
              "-0.19999999999999998"
            ]
          },
          "metadata": {},
          "execution_count": 68
        }
      ]
    },
    {
      "cell_type": "code",
      "metadata": {
        "colab": {
          "base_uri": "https://localhost:8080/"
        },
        "id": "lKKs8-TkQrxC",
        "outputId": "f6a1a0a0-1c2d-48d0-fe1c-76a180148e0e"
      },
      "source": [
        "weights[1]"
      ],
      "execution_count": 69,
      "outputs": [
        {
          "output_type": "execute_result",
          "data": {
            "text/plain": [
              "0.04399999999999996"
            ]
          },
          "metadata": {},
          "execution_count": 69
        }
      ]
    },
    {
      "cell_type": "code",
      "metadata": {
        "colab": {
          "base_uri": "https://localhost:8080/"
        },
        "id": "JZ9SlEYKQrxD",
        "outputId": "5218076f-cead-4dd1-bcd6-bb7fa259d75c"
      },
      "source": [
        "weights[2]"
      ],
      "execution_count": 70,
      "outputs": [
        {
          "output_type": "execute_result",
          "data": {
            "text/plain": [
              "0.05900000000000016"
            ]
          },
          "metadata": {},
          "execution_count": 70
        }
      ]
    },
    {
      "cell_type": "code",
      "metadata": {
        "colab": {
          "base_uri": "https://localhost:8080/"
        },
        "id": "OiHqGPdiQrxE",
        "outputId": "1805790e-d506-48af-9e95-069fddfb05a0"
      },
      "source": [
        "- weights[0] / weights[2]"
      ],
      "execution_count": 71,
      "outputs": [
        {
          "output_type": "execute_result",
          "data": {
            "text/plain": [
              "3.389830508474567"
            ]
          },
          "metadata": {},
          "execution_count": 71
        }
      ]
    },
    {
      "cell_type": "code",
      "metadata": {
        "colab": {
          "base_uri": "https://localhost:8080/"
        },
        "id": "LFpTuPdQQrxE",
        "outputId": "7e824fc4-26ec-477a-9d6f-1e837cadf52c"
      },
      "source": [
        "- weights[0] / weights[1]"
      ],
      "execution_count": 72,
      "outputs": [
        {
          "output_type": "execute_result",
          "data": {
            "text/plain": [
              "4.5454545454545485"
            ]
          },
          "metadata": {},
          "execution_count": 72
        }
      ]
    },
    {
      "cell_type": "markdown",
      "source": [
        "결과 플로팅"
      ],
      "metadata": {
        "id": "U6NuvxH_xPaR"
      }
    },
    {
      "cell_type": "code",
      "metadata": {
        "id": "Iu49-aCwuvi_",
        "colab": {
          "base_uri": "https://localhost:8080/",
          "height": 266
        },
        "outputId": "65ddc3a4-2c48-4903-ccb9-fb02ea6861c8"
      },
      "source": [
        "fig = plt.figure()\n",
        "ax = fig.add_subplot(111)\n",
        "point_x = np.array([0, - weights[0] / weights[1]])\n",
        "point_y = np.array([- weights[0] / weights[2], 0])\n",
        "#line, = ax.plot(point_x, point_y, 'bs-', picker=5)\n",
        "line, = ax.plot(point_x, point_y, picker=5)\n",
        "\n",
        "ax.scatter(pos[:,0], pos[:, 1], label=\"pos\")\n",
        "ax.scatter(neg[:,0], neg[:, 1], label=\"neg\")\n",
        "\n",
        "plt.show()"
      ],
      "execution_count": 73,
      "outputs": [
        {
          "output_type": "display_data",
          "data": {
            "image/png": "[encoded data removed]",
            "text/plain": [
              "<Figure size 432x288 with 1 Axes>"
            ]
          },
          "metadata": {
            "needs_background": "light"
          }
        }
      ]
    },
    {
      "cell_type": "code",
      "metadata": {
        "id": "HoKpcBDzDx4b"
      },
      "source": [
        ""
      ],
      "execution_count": null,
      "outputs": []
    }
  ]
}
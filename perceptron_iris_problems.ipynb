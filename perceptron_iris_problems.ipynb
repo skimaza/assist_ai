{
  "nbformat": 4,
  "nbformat_minor": 0,
  "metadata": {
    "anaconda-cloud": {},
    "kernelspec": {
      "display_name": "Python [default]",
      "language": "python",
      "name": "python3"
    },
    "language_info": {
      "codemirror_mode": {
        "name": "ipython",
        "version": 3
      },
      "file_extension": ".py",
      "mimetype": "text/x-python",
      "name": "python",
      "nbconvert_exporter": "python",
      "pygments_lexer": "ipython3",
      "version": "3.5.2"
    },
    "colab": {
      "provenance": [],
      "collapsed_sections": [],
      "include_colab_link": true
    }
  },
  "cells": [
    {
      "cell_type": "markdown",
      "metadata": {
        "id": "view-in-github",
        "colab_type": "text"
      },
      "source": [
        "<a href=\"https://colab.research.google.com/github/skimaza/assist_ai/blob/main/perceptron_iris_problems.ipynb\" target=\"_parent\"><img src=\"https://colab.research.google.com/assets/colab-badge.svg\" alt=\"Open In Colab\"/></a>"
      ]
    },
    {
      "cell_type": "markdown",
      "metadata": {
        "id": "HvsjI50ckzcP"
      },
      "source": [
        "# 경영자를 위한 딥러닝 원리의 이해\n",
        "# Perceptron 실습 예제\n",
        "# 붓꽃 분류 잘 안되는 경우"
      ]
    },
    {
      "cell_type": "markdown",
      "metadata": {
        "id": "8EoneLQ1QQgF"
      },
      "source": [
        "The original code comes from Sebastian Reschka's blog (http://sebastianraschka.com/Articles/2015_singlelayer_neurons.html).<br/>\n",
        "Slightly modified for the lecture. -skimaza"
      ]
    },
    {
      "cell_type": "code",
      "metadata": {
        "collapsed": true,
        "id": "1PfIBZ8sQQgL"
      },
      "source": [
        "import numpy as np\n",
        "import matplotlib.pyplot as plt"
      ],
      "execution_count": null,
      "outputs": []
    },
    {
      "cell_type": "code",
      "metadata": {
        "collapsed": true,
        "id": "Wf0jr6xPQQgN"
      },
      "source": [],
      "execution_count": null,
      "outputs": []
    },
    {
      "cell_type": "code",
      "metadata": {
        "collapsed": true,
        "id": "pOiHhM_RQQgP"
      },
      "source": [
        "import pandas as pd"
      ],
      "execution_count": null,
      "outputs": []
    },
    {
      "cell_type": "code",
      "metadata": {
        "collapsed": true,
        "id": "BNlWDD0SQQgQ"
      },
      "source": [
        "import os\n",
        "from urllib.request import urlopen\n",
        "\n",
        "IRIS_DATA = \"iris.dat\"\n",
        "if not os.path.exists(IRIS_DATA):\n",
        "    raw = urlopen('https://archive.ics.uci.edu/ml/machine-learning-databases/iris/iris.data').read()\n",
        "    with open(IRIS_DATA, \"wb\") as f:\n",
        "        f.write(raw)"
      ],
      "execution_count": null,
      "outputs": []
    },
    {
      "cell_type": "code",
      "metadata": {
        "id": "PUmM7BQ3QQgQ"
      },
      "source": [
        "df = pd.read_csv(IRIS_DATA, header=None)"
      ],
      "execution_count": null,
      "outputs": []
    },
    {
      "cell_type": "code",
      "metadata": {
        "collapsed": true,
        "id": "EzGlA8yYQQgR"
      },
      "source": [
        "# versicolor and virginica\n",
        "y2 = df.iloc[50:150, 4].values\n",
        "y2 = np.where(y2 == 'Iris-virginica', -1, 1)\n",
        "\n",
        "# sepal width and petal width\n",
        "X2 = df.iloc[50:150, [1,3]].values"
      ],
      "execution_count": null,
      "outputs": []
    },
    {
      "cell_type": "code",
      "metadata": {
        "id": "4SWIg6s0NfEG"
      },
      "source": [
        "\n",
        "\n",
        "pos = X2[[y2 == 1]]\n",
        "neg = X2[[y2 == -1]]\n",
        "\n",
        "min_x = min(X2[:,0])\n",
        "max_x = max(X2[:,0])\n",
        "print(min_x, max_x)\n"
      ],
      "execution_count": null,
      "outputs": []
    },
    {
      "cell_type": "code",
      "metadata": {
        "id": "plz5EFSFN-i8"
      },
      "source": [
        "\n",
        "fig = plt.figure()\n",
        "ax = fig.add_subplot(111)\n",
        "\n",
        "\n",
        "ax.scatter(pos[:,0], pos[:, 1], color='blue', label=\"pos\")\n",
        "ax.scatter(neg[:,0], neg[:, 1], color='red', label=\"neg\")\n",
        "plt.xlabel(\"x1\")\n",
        "plt.ylabel(\"x2\")\n",
        "plt.legend(loc=2, scatterpoints=1, fontsize=10)\n",
        "\n",
        "plt.show()"
      ],
      "execution_count": null,
      "outputs": []
    },
    {
      "cell_type": "code",
      "metadata": {
        "id": "sjeM6zIWVlak"
      },
      "source": [
        "weights = []\n",
        "errors_log = []\n",
        "epochs = 50\n",
        "eta = 0.01\n",
        "\n",
        "def train(X, y, epochs=epochs, eta=eta):\n",
        "    global weights\n",
        "    global errors_log\n",
        "    weights = np.zeros(1 + X.shape[1])\n",
        "    print(\"Initial weights\", weights)\n",
        "    errors_log = []\n",
        "\n",
        "    for i in range(epochs):\n",
        "        errors = 0\n",
        "        print(\"EPOCHS\", i+1)\n",
        "        for xi, target in zip(X, y):\n",
        "            update = eta * (target - predict(xi))\n",
        "            print(xi, \"target\", target, \"sum\", net_input(xi), \"update\", update)\n",
        "            if update != 0:\n",
        "                weights[1:] +=  update * xi\n",
        "                weights[0] +=  update\n",
        "                print(\"Updated WEIGHTS\", weights)\n",
        "                #errors += int(update != 0.0)\n",
        "                errors += 1\n",
        "        errors_log.append(errors)\n",
        "    return\n",
        "\n",
        "def net_input(X):\n",
        "    global weights\n",
        "    return np.dot(X, weights[1:]) + weights[0]\n",
        "\n",
        "def predict(X):\n",
        "    return np.where(net_input(X) >= 0.0, 1, -1)"
      ],
      "execution_count": null,
      "outputs": []
    },
    {
      "cell_type": "code",
      "metadata": {
        "id": "-0eP1iarQQgS"
      },
      "source": [
        "train(X2, y2, epochs=3, eta=0.01)"
      ],
      "execution_count": null,
      "outputs": []
    },
    {
      "cell_type": "code",
      "metadata": {
        "id": "S_IsaAfGYSGV"
      },
      "source": [
        "2.7*(-0.066) + 1.9*(-0.05)-0.02"
      ],
      "execution_count": null,
      "outputs": []
    },
    {
      "cell_type": "code",
      "metadata": {
        "id": "NPnXU60_QQgU"
      },
      "source": [
        "fig = plt.figure()\n",
        "ax = fig.add_subplot(111)\n",
        "\n",
        "point_x = np.array([min_x, max_x])\n",
        "point_y = np.array([- (weights[0]+weights[1]*min_x)/weights[2], - (weights[0]+weights[1]*max_x)/weights[2]])\n",
        "\n",
        "line, = ax.plot(point_x, point_y, 'b-', picker=5)\n",
        "\n",
        "ax.scatter(pos[:,0], pos[:, 1], color='blue', label=\"pos\")\n",
        "ax.scatter(neg[:,0], neg[:, 1], color='red', label=\"neg\")\n",
        "plt.xlabel(\"x1\")\n",
        "plt.ylabel(\"x2\")\n",
        "plt.legend(loc=2, scatterpoints=1, fontsize=10)\n",
        "\n",
        "plt.show()"
      ],
      "execution_count": null,
      "outputs": []
    },
    {
      "cell_type": "code",
      "metadata": {
        "id": "asMtEXrJWRCq"
      },
      "source": [
        "errors_log"
      ],
      "execution_count": null,
      "outputs": []
    },
    {
      "cell_type": "code",
      "metadata": {
        "id": "cU3JRfcZQQgV"
      },
      "source": [
        "plt.plot(range(1, len(errors_log)+1), errors_log, marker='o')\n",
        "plt.xlabel('Iterations')\n",
        "plt.ylabel('Misclassifications')\n",
        "plt.show()"
      ],
      "execution_count": null,
      "outputs": []
    },
    {
      "cell_type": "code",
      "metadata": {
        "id": "9SOZDXKyQQgW"
      },
      "source": [
        "print(errors_log)"
      ],
      "execution_count": null,
      "outputs": []
    },
    {
      "cell_type": "code",
      "metadata": {
        "id": "0ck_J964QQgW"
      },
      "source": [
        "print('Total number of misclassifications: %d of 100' % (y2 != predict(X2)).sum())"
      ],
      "execution_count": null,
      "outputs": []
    },
    {
      "cell_type": "code",
      "metadata": {
        "collapsed": true,
        "id": "UELCVmQKQQgX"
      },
      "source": [
        "train(X2, y2, epochs=50, eta=0.01)"
      ],
      "execution_count": null,
      "outputs": []
    },
    {
      "cell_type": "code",
      "metadata": {
        "id": "cBNxBjmqTCUU"
      },
      "source": [
        "fig = plt.figure()\n",
        "ax = fig.add_subplot(111)\n",
        "\n",
        "point_x = np.array([min_x, max_x])\n",
        "point_y = np.array([- (weights[0]+weights[1]*min_x)/weights[2], - (weights[0]+weights[1]*max_x)/weights[2]])\n",
        "\n",
        "line, = ax.plot(point_x, point_y, 'b-', picker=5)\n",
        "\n",
        "ax.scatter(pos[:,0], pos[:, 1], color='blue', label=\"pos\")\n",
        "ax.scatter(neg[:,0], neg[:, 1], color='red', label=\"neg\")\n",
        "plt.xlabel(\"x1\")\n",
        "plt.ylabel(\"x2\")\n",
        "plt.legend(loc=2, scatterpoints=1, fontsize=10)\n",
        "\n",
        "plt.show()"
      ],
      "execution_count": null,
      "outputs": []
    },
    {
      "cell_type": "code",
      "metadata": {
        "id": "Jl_xlbBITFsG"
      },
      "source": [
        "plt.plot(range(1, len(errors_log)+1), errors_log, marker='o')\n",
        "plt.xlabel('Iterations')\n",
        "plt.ylabel('Misclassifications')\n",
        "plt.show()"
      ],
      "execution_count": null,
      "outputs": []
    },
    {
      "cell_type": "code",
      "metadata": {
        "id": "BOhpVTS_TJL8"
      },
      "source": [],
      "execution_count": null,
      "outputs": []
    }
  ]
}
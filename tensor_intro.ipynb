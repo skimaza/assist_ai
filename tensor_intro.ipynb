{
  "nbformat": 4,
  "nbformat_minor": 0,
  "metadata": {
    "kernelspec": {
      "display_name": "Python 3",
      "language": "python",
      "name": "python3"
    },
    "language_info": {
      "codemirror_mode": {
        "name": "ipython",
        "version": 3
      },
      "file_extension": ".py",
      "mimetype": "text/x-python",
      "name": "python",
      "nbconvert_exporter": "python",
      "pygments_lexer": "ipython3",
      "version": "3.6.8"
    },
    "colab": {
      "name": "tensor_intro",
      "provenance": [],
      "collapsed_sections": [],
      "include_colab_link": true
    },
    "accelerator": "GPU"
  },
  "cells": [
    {
      "cell_type": "markdown",
      "metadata": {
        "id": "view-in-github",
        "colab_type": "text"
      },
      "source": [
        "<a href=\"https://colab.research.google.com/github/skimaza/assist_ai/blob/main/tensor_intro.ipynb\" target=\"_parent\"><img src=\"https://colab.research.google.com/assets/colab-badge.svg\" alt=\"Open In Colab\"/></a>"
      ]
    },
    {
      "cell_type": "markdown",
      "metadata": {
        "id": "3YsVosR9RLd-"
      },
      "source": [
        "# 참고 문서\n",
        "https://pytorch.org/tutorials/beginner/blitz/tensor_tutorial.html#sphx-glr-beginner-blitz-tensor-tutorial-py   \n",
        "https://pytorch.org/tutorials/beginner/blitz/autograd_tutorial.html  \n",
        "\n",
        "\n",
        "Deep Learning with PyTorch"
      ]
    },
    {
      "cell_type": "markdown",
      "metadata": {
        "id": "XB7Ek_VE7Ukx"
      },
      "source": [
        "\n",
        "What is PyTorch?\n",
        "================\n",
        "\n",
        "It’s a Python-based scientific computing package targeted at two sets of\n",
        "audiences:\n",
        "\n",
        "-  A replacement for NumPy to use the power of GPUs\n",
        "-  a deep learning research platform that provides maximum flexibility\n",
        "   and speed\n",
        "\n",
        "Getting Started\n",
        "---------------\n",
        "\n",
        "Tensors\n",
        "^^^^^^^\n",
        "\n",
        "Tensors are similar to NumPy’s ndarrays, with the addition being that\n",
        "Tensors can also be used on a GPU to accelerate computing.\n",
        "\n"
      ]
    },
    {
      "cell_type": "code",
      "metadata": {
        "id": "d1MYO7Au7Uky"
      },
      "source": [
        "from __future__ import print_function\n",
        "import torch"
      ],
      "execution_count": 1,
      "outputs": []
    },
    {
      "cell_type": "code",
      "source": [
        "print(torch.cuda.is_available())"
      ],
      "metadata": {
        "colab": {
          "base_uri": "https://localhost:8080/"
        },
        "id": "fy8NZe0582_P",
        "outputId": "598ac079-f27e-4e41-fb5d-2d0934f9c981"
      },
      "execution_count": 2,
      "outputs": [
        {
          "output_type": "stream",
          "name": "stdout",
          "text": [
            "True\n"
          ]
        }
      ]
    },
    {
      "cell_type": "markdown",
      "source": [
        "<font color='red'> **주의) 위 결과가 False이면 Colab 메뉴의 런타임->런타임 유형변경에서 하드웨어 가속기를 GPU로 선택하고 다시 시작**</font>"
      ],
      "metadata": {
        "id": "SgDn3PTI87VK"
      }
    },
    {
      "cell_type": "code",
      "metadata": {
        "id": "0nG6e-Tum0Fl",
        "colab": {
          "base_uri": "https://localhost:8080/"
        },
        "outputId": "f9a37dc1-fbcf-415a-f93f-46be460cef77"
      },
      "source": [
        "x = torch.empty(5, 3) # 5행, 3열의 텐서. 값은 모두 garbage\n",
        "print(x)"
      ],
      "execution_count": 3,
      "outputs": [
        {
          "output_type": "stream",
          "name": "stdout",
          "text": [
            "tensor([[-3.0226e+35,  3.0672e-41,  3.3631e-44],\n",
            "        [ 0.0000e+00,         nan,  0.0000e+00],\n",
            "        [ 1.1578e+27,  1.1362e+30,  7.1547e+22],\n",
            "        [ 4.5828e+30,  1.2121e+04,  7.1846e+22],\n",
            "        [ 9.2198e-39,  7.0374e+22,  0.0000e+00]])\n"
          ]
        }
      ]
    },
    {
      "cell_type": "code",
      "metadata": {
        "id": "ByQ9aUGDm3Hb",
        "colab": {
          "base_uri": "https://localhost:8080/"
        },
        "outputId": "ef2bc5e8-d1f8-4eeb-d5bc-b60c475bbd75"
      },
      "source": [
        "print(x.size()) # size, shape"
      ],
      "execution_count": 4,
      "outputs": [
        {
          "output_type": "stream",
          "name": "stdout",
          "text": [
            "torch.Size([5, 3])\n"
          ]
        }
      ]
    },
    {
      "cell_type": "code",
      "metadata": {
        "id": "0O7eqkb-m-kT",
        "colab": {
          "base_uri": "https://localhost:8080/"
        },
        "outputId": "dc6b5bb2-d3a6-47d8-9273-74f3a5607e40"
      },
      "source": [
        "print(x.shape)"
      ],
      "execution_count": 5,
      "outputs": [
        {
          "output_type": "stream",
          "name": "stdout",
          "text": [
            "torch.Size([5, 3])\n"
          ]
        }
      ]
    },
    {
      "cell_type": "markdown",
      "metadata": {
        "id": "TvWXxh1S7Uk2"
      },
      "source": [
        "<div class=\"alert alert-info\"><h1>Uninitialized vs random</h1><p>An uninitialized matrix is declared,\n",
        "    but does not contain definite known\n",
        "    values before it is used. When an\n",
        "    uninitialized matrix is created,\n",
        "    whatever values were in the allocated\n",
        "    memory at the time will appear as the initial values.</p></div>\n",
        "\n",
        "\n",
        "---\n",
        "\n",
        "\n"
      ]
    },
    {
      "cell_type": "markdown",
      "source": [
        "torch.empty는 초기화하지 않은 값(할당받은 메모리에 있는 값)이 들어있다"
      ],
      "metadata": {
        "id": "8EbMmEZl8BZ-"
      }
    },
    {
      "cell_type": "markdown",
      "metadata": {
        "id": "VMnBfPn47Uk3"
      },
      "source": [
        "Construct a 5x3 matrix, uninitialized:\n",
        "\n",
        "즉 값이 garbage임. random이 아님.\n",
        "\n"
      ]
    },
    {
      "cell_type": "code",
      "metadata": {
        "id": "tLy26cTZ7Uk3",
        "colab": {
          "base_uri": "https://localhost:8080/"
        },
        "outputId": "2b64fe20-9726-41a7-fb94-171a7009f29f"
      },
      "source": [
        "x = torch.empty(5, 3)\n",
        "print(x)"
      ],
      "execution_count": 6,
      "outputs": [
        {
          "output_type": "stream",
          "name": "stdout",
          "text": [
            "tensor([[-3.0226e+35,  3.0672e-41,  3.3631e-44],\n",
            "        [ 0.0000e+00,         nan,  0.0000e+00],\n",
            "        [ 4.4721e+21,  1.5956e+25,  4.7399e+16],\n",
            "        [ 3.7293e-08,  3.9664e+28,  6.9397e+22],\n",
            "        [ 1.7260e+25,  2.2856e+20,  5.0948e-14]])\n"
          ]
        }
      ]
    },
    {
      "cell_type": "code",
      "metadata": {
        "id": "pNr5QHrK8qrg",
        "colab": {
          "base_uri": "https://localhost:8080/"
        },
        "outputId": "11812445-e170-4a60-e9d5-93be170149ca"
      },
      "source": [
        "print(torch.get_default_dtype())"
      ],
      "execution_count": 7,
      "outputs": [
        {
          "output_type": "stream",
          "name": "stdout",
          "text": [
            "torch.float32\n"
          ]
        }
      ]
    },
    {
      "cell_type": "code",
      "metadata": {
        "id": "R9Ne2vxg82U1",
        "colab": {
          "base_uri": "https://localhost:8080/"
        },
        "outputId": "a2b7ca84-e0cb-4a30-cb4d-4b913b3acc2e"
      },
      "source": [
        "print(x.dtype)"
      ],
      "execution_count": 8,
      "outputs": [
        {
          "output_type": "stream",
          "name": "stdout",
          "text": [
            "torch.float32\n"
          ]
        }
      ]
    },
    {
      "cell_type": "markdown",
      "metadata": {
        "id": "bAh3IuFA89wL"
      },
      "source": [
        "torch.empty는 torch의 global default dtype 이면서 garbage 값을 가지는 원소가 채워진 텐서를 생성.\n",
        "\n",
        "즉 디폴트 타입을 갖는 빈 텐서를 생성."
      ]
    },
    {
      "cell_type": "code",
      "metadata": {
        "id": "DTWE-5Cp7a-M",
        "colab": {
          "base_uri": "https://localhost:8080/"
        },
        "outputId": "bc1a61ee-cee9-4403-e8e1-daf18afb793a"
      },
      "source": [
        "x = torch.FloatTensor(5,3)\n",
        "print(x)"
      ],
      "execution_count": 9,
      "outputs": [
        {
          "output_type": "stream",
          "name": "stdout",
          "text": [
            "tensor([[-3.0226e+35,  3.0672e-41,  3.7835e-44],\n",
            "        [ 0.0000e+00,         nan,  7.1547e+22],\n",
            "        [ 1.3733e-14,  6.4069e+02,  4.3066e+21],\n",
            "        [ 1.1824e+22,  4.3066e+21,  6.3828e+28],\n",
            "        [ 3.8016e-39,  0.0000e+00,  0.0000e+00]])\n"
          ]
        }
      ]
    },
    {
      "cell_type": "markdown",
      "metadata": {
        "id": "jl2V2i5DCHBY"
      },
      "source": [
        "<h1>주의) torch.Tensor와 torch.tensor 사용 예.</h1>\n",
        "\n",
        "torch.Tensor는 Tensor 클래스를 instantiation. 즉 torch.empty와 같은 동작.\n",
        "\n",
        "torch.tensor는 인자로 받는 데이터 값을 복제. 인자는 리스트, 튜플, ndarray, 스칼라 값 등 다양한 형태. 텐서를 만드는 가장 일반적 형태임."
      ]
    },
    {
      "cell_type": "code",
      "metadata": {
        "id": "_sgjVeEt7bbM",
        "colab": {
          "base_uri": "https://localhost:8080/"
        },
        "outputId": "7fb64a02-e328-47c0-dfa3-c08347522a78"
      },
      "source": [
        "x = torch.Tensor(5,3)\n",
        "print(x, x.dtype) # 의미없는 값."
      ],
      "execution_count": 10,
      "outputs": [
        {
          "output_type": "stream",
          "name": "stdout",
          "text": [
            "tensor([[-3.0226e+35,  3.0672e-41,  2.3694e-38],\n",
            "        [ 9.2196e-41, -3.0226e+35,  3.0672e-41],\n",
            "        [-3.0478e+35,  3.0672e-41, -3.1655e+35],\n",
            "        [ 3.0672e-41, -3.1656e+35,  3.0672e-41],\n",
            "        [-3.1655e+35,  3.0672e-41,  0.0000e+00]]) torch.float32\n"
          ]
        }
      ]
    },
    {
      "cell_type": "code",
      "metadata": {
        "id": "tl2GY_O5C6IK",
        "colab": {
          "base_uri": "https://localhost:8080/"
        },
        "outputId": "1292c6bb-150f-44e7-99af-68d57d1404bc"
      },
      "source": [
        "x = torch.tensor([[0.1, 1.2], [2.2, 3.1], [4.9, 5.2]])\n",
        "print(x, x.dtype)"
      ],
      "execution_count": 11,
      "outputs": [
        {
          "output_type": "stream",
          "name": "stdout",
          "text": [
            "tensor([[0.1000, 1.2000],\n",
            "        [2.2000, 3.1000],\n",
            "        [4.9000, 5.2000]]) torch.float32\n"
          ]
        }
      ]
    },
    {
      "cell_type": "code",
      "metadata": {
        "id": "cW6la-yPDH9J",
        "colab": {
          "base_uri": "https://localhost:8080/"
        },
        "outputId": "db5f89f3-6656-4bd7-8b65-531950735ed0"
      },
      "source": [
        "x = torch.tensor([0, 1]) # dtype을 인자의 값에서 유추하여 설정\n",
        "print(x, x.dtype) "
      ],
      "execution_count": 12,
      "outputs": [
        {
          "output_type": "stream",
          "name": "stdout",
          "text": [
            "tensor([0, 1]) torch.int64\n"
          ]
        }
      ]
    },
    {
      "cell_type": "code",
      "metadata": {
        "id": "XiIAEMsfDhnD",
        "colab": {
          "base_uri": "https://localhost:8080/"
        },
        "outputId": "729b9cf4-6c64-40cc-f381-0ef0ded1f575"
      },
      "source": [
        "y = torch.tensor([0.0, 1.0])\n",
        "print(y, y.dtype)"
      ],
      "execution_count": 13,
      "outputs": [
        {
          "output_type": "stream",
          "name": "stdout",
          "text": [
            "tensor([0., 1.]) torch.float32\n"
          ]
        }
      ]
    },
    {
      "cell_type": "code",
      "metadata": {
        "id": "uXESm1NKDuRb",
        "colab": {
          "base_uri": "https://localhost:8080/"
        },
        "outputId": "fc7fb966-29e2-42a6-e3d9-ff69e142b694"
      },
      "source": [
        "try:\n",
        "    z = torch.tensor([[0.11111, 0.222222, 0.3333333]], dtype=torch.float64, device=torch.device('cuda:0'))  # creates a torch.cuda.DoubleTensor\n",
        "    print(z, z.dtype)\n",
        "except Exception as e:\n",
        "    print('Error:', e)"
      ],
      "execution_count": 14,
      "outputs": [
        {
          "output_type": "stream",
          "name": "stdout",
          "text": [
            "tensor([[0.1111, 0.2222, 0.3333]], device='cuda:0', dtype=torch.float64) torch.float64\n"
          ]
        }
      ]
    },
    {
      "cell_type": "markdown",
      "metadata": {
        "id": "lQEuNy5vD-pg"
      },
      "source": [
        "CPU 환경에선 위 문장이 오류 발생.\n",
        "\n",
        "GPU 환경으로 런타임 변경 후 실행.\n",
        "\n"
      ]
    },
    {
      "cell_type": "code",
      "metadata": {
        "id": "dwa8thBDEfru",
        "colab": {
          "base_uri": "https://localhost:8080/"
        },
        "outputId": "63b0254d-8975-4d45-b316-3b6a28459a41"
      },
      "source": [
        "x = torch.tensor(3.14159)  # Create a scalar (zero-dimensional tensor)\n",
        "print(x, x.dtype)"
      ],
      "execution_count": 15,
      "outputs": [
        {
          "output_type": "stream",
          "name": "stdout",
          "text": [
            "tensor(3.1416) torch.float32\n"
          ]
        }
      ]
    },
    {
      "cell_type": "code",
      "metadata": {
        "id": "nZWFXSYfEokb",
        "colab": {
          "base_uri": "https://localhost:8080/"
        },
        "outputId": "24b53179-a2bc-4577-d590-3b0dcc205271"
      },
      "source": [
        "x = torch.tensor([])  # Create an empty tensor (of size (0,))\n",
        "print(x, x.dtype)"
      ],
      "execution_count": 16,
      "outputs": [
        {
          "output_type": "stream",
          "name": "stdout",
          "text": [
            "tensor([]) torch.float32\n"
          ]
        }
      ]
    },
    {
      "cell_type": "code",
      "metadata": {
        "id": "aA5SyF_4EwJ4",
        "colab": {
          "base_uri": "https://localhost:8080/"
        },
        "outputId": "d469afc1-086c-4e81-dbe9-15a09c993875"
      },
      "source": [
        "try:\n",
        "    x = torch.tensor(3,2) # 인자가 매치하지 않으므로 오류가 나야 함.\n",
        "    print(x, x.dtype)\n",
        "except Exception as e:\n",
        "    print('Error:', e)"
      ],
      "execution_count": 17,
      "outputs": [
        {
          "output_type": "stream",
          "name": "stdout",
          "text": [
            "Error: tensor() takes 1 positional argument but 2 were given\n"
          ]
        }
      ]
    },
    {
      "cell_type": "markdown",
      "metadata": {
        "id": "gBo_tUJDD-d-"
      },
      "source": [
        "\n",
        "\n",
        "---\n",
        "\n"
      ]
    },
    {
      "cell_type": "markdown",
      "metadata": {
        "id": "EvjOIQ1R7Uk7"
      },
      "source": [
        "<h1>Random</h1>\n",
        "Construct a randomly initialized matrix:\n",
        "\n"
      ]
    },
    {
      "cell_type": "code",
      "metadata": {
        "id": "l2dA27aS7Uk8",
        "colab": {
          "base_uri": "https://localhost:8080/"
        },
        "outputId": "7ad7951f-4270-4e9f-baf3-68a0d5c9ec38"
      },
      "source": [
        "x = torch.rand(5, 3)\n",
        "print(x)"
      ],
      "execution_count": 18,
      "outputs": [
        {
          "output_type": "stream",
          "name": "stdout",
          "text": [
            "tensor([[0.6106, 0.1358, 0.2298],\n",
            "        [0.4580, 0.9274, 0.1602],\n",
            "        [0.1059, 0.0834, 0.8331],\n",
            "        [0.0217, 0.5579, 0.4679],\n",
            "        [0.8884, 0.5640, 0.5379]])\n"
          ]
        }
      ]
    },
    {
      "cell_type": "markdown",
      "metadata": {
        "id": "dO-ILBPF7UlA"
      },
      "source": [
        "Construct a matrix filled zeros and of dtype long:\n",
        "\n"
      ]
    },
    {
      "cell_type": "code",
      "metadata": {
        "id": "BXrPPioi7UlB",
        "colab": {
          "base_uri": "https://localhost:8080/"
        },
        "outputId": "5e893f85-324a-4d29-8da9-53af4601dac2"
      },
      "source": [
        "x = torch.zeros(5, 3, dtype=torch.long)\n",
        "print(x)"
      ],
      "execution_count": 19,
      "outputs": [
        {
          "output_type": "stream",
          "name": "stdout",
          "text": [
            "tensor([[0, 0, 0],\n",
            "        [0, 0, 0],\n",
            "        [0, 0, 0],\n",
            "        [0, 0, 0],\n",
            "        [0, 0, 0]])\n"
          ]
        }
      ]
    },
    {
      "cell_type": "markdown",
      "metadata": {
        "id": "8uUvcySc7UlF"
      },
      "source": [
        "<h1>데이터를 인자로 주어 텐서 생성</h1>\n",
        "Construct a tensor directly from data:\n",
        "\n"
      ]
    },
    {
      "cell_type": "code",
      "metadata": {
        "id": "u7P031Pw7UlF",
        "colab": {
          "base_uri": "https://localhost:8080/"
        },
        "outputId": "d7d444d8-c911-4542-fb1c-3a716ed99bb5"
      },
      "source": [
        "x = torch.tensor([5.5, 3])\n",
        "print(x, x.dtype)"
      ],
      "execution_count": 20,
      "outputs": [
        {
          "output_type": "stream",
          "name": "stdout",
          "text": [
            "tensor([5.5000, 3.0000]) torch.float32\n"
          ]
        }
      ]
    },
    {
      "cell_type": "markdown",
      "metadata": {
        "id": "PnzSuXOJ7UlK"
      },
      "source": [
        "or create a tensor based on an existing tensor. These methods\n",
        "will reuse properties of the input tensor, e.g. dtype, unless\n",
        "new values are provided by user\n",
        "\n"
      ]
    },
    {
      "cell_type": "markdown",
      "source": [
        "x와 같은 타입의 새 텐서 생성"
      ],
      "metadata": {
        "id": "PlIobRwb_iNK"
      }
    },
    {
      "cell_type": "code",
      "metadata": {
        "id": "hmpu5pfc7UlL",
        "colab": {
          "base_uri": "https://localhost:8080/"
        },
        "outputId": "76a10fbb-66c7-49cf-c726-a23d60255856"
      },
      "source": [
        "x  = x.new_ones(5, 3)      # new_* methods take in sizes\n",
        "print(x, x.dtype)"
      ],
      "execution_count": 21,
      "outputs": [
        {
          "output_type": "stream",
          "name": "stdout",
          "text": [
            "tensor([[1., 1., 1.],\n",
            "        [1., 1., 1.],\n",
            "        [1., 1., 1.],\n",
            "        [1., 1., 1.],\n",
            "        [1., 1., 1.]]) torch.float32\n"
          ]
        }
      ]
    },
    {
      "cell_type": "code",
      "metadata": {
        "colab": {
          "base_uri": "https://localhost:8080/"
        },
        "id": "lh9b_NibqXZc",
        "outputId": "1b83ed61-3112-415c-a3e7-4cf6543aa3a1"
      },
      "source": [
        "x  = x.new_ones(5, 3, dtype=torch.double)      # new_* methods take in sizes\n",
        "print(x, x.dtype)"
      ],
      "execution_count": 22,
      "outputs": [
        {
          "output_type": "stream",
          "name": "stdout",
          "text": [
            "tensor([[1., 1., 1.],\n",
            "        [1., 1., 1.],\n",
            "        [1., 1., 1.],\n",
            "        [1., 1., 1.],\n",
            "        [1., 1., 1.]], dtype=torch.float64) torch.float64\n"
          ]
        }
      ]
    },
    {
      "cell_type": "code",
      "metadata": {
        "colab": {
          "base_uri": "https://localhost:8080/"
        },
        "id": "LaFFU2erqaIL",
        "outputId": "9924fcee-811c-4a64-aa04-c903301d0e41"
      },
      "source": [
        "x = torch.randn_like(x, dtype=torch.float)    # override dtype!\n",
        "print(x, x.dtype)                                      # result has the same size"
      ],
      "execution_count": 23,
      "outputs": [
        {
          "output_type": "stream",
          "name": "stdout",
          "text": [
            "tensor([[ 0.8815, -0.4184,  0.0153],\n",
            "        [-0.1281, -0.1178,  0.4411],\n",
            "        [ 1.3856,  0.2023, -0.7654],\n",
            "        [-1.6897,  0.8962,  0.8546],\n",
            "        [ 0.8858, -1.1012,  0.8380]]) torch.float32\n"
          ]
        }
      ]
    },
    {
      "cell_type": "markdown",
      "metadata": {
        "id": "OCyOMo9A7UlP"
      },
      "source": [
        "Get its size: size() or shape\n",
        "\n"
      ]
    },
    {
      "cell_type": "code",
      "metadata": {
        "id": "1EkFiBDE7UlQ",
        "colab": {
          "base_uri": "https://localhost:8080/"
        },
        "outputId": "1e575931-6249-428a-a3d7-6bdc526c0c98"
      },
      "source": [
        "print(x.size())\n",
        "print(x.shape)"
      ],
      "execution_count": 24,
      "outputs": [
        {
          "output_type": "stream",
          "name": "stdout",
          "text": [
            "torch.Size([5, 3])\n",
            "torch.Size([5, 3])\n"
          ]
        }
      ]
    },
    {
      "cell_type": "markdown",
      "metadata": {
        "id": "mxQHa5en7UlT"
      },
      "source": [
        "<div class=\"alert alert-info\"><h4>Note</h4><p>``torch.Size`` is in fact a tuple, so it supports all tuple operations.</p></div>\n",
        "\n",
        "Operations\n",
        "^^^^^^^^^^\n",
        "There are multiple syntaxes for operations. In the following\n",
        "example, we will take a look at the addition operation.\n",
        "\n",
        "<h1>텐서 더하기</h1>\n",
        "\n",
        "Addition: syntax 1\n",
        "\n"
      ]
    },
    {
      "cell_type": "code",
      "metadata": {
        "id": "Sz1xU4YK7UlT",
        "colab": {
          "base_uri": "https://localhost:8080/"
        },
        "outputId": "93f30349-704d-45d6-8803-04a1723a6025"
      },
      "source": [
        "y = torch.rand(5, 3)\n",
        "print('x\\n', x)\n",
        "print('y\\n', y)\n",
        "print('x+y\\n', x + y)"
      ],
      "execution_count": 25,
      "outputs": [
        {
          "output_type": "stream",
          "name": "stdout",
          "text": [
            "x\n",
            " tensor([[ 0.8815, -0.4184,  0.0153],\n",
            "        [-0.1281, -0.1178,  0.4411],\n",
            "        [ 1.3856,  0.2023, -0.7654],\n",
            "        [-1.6897,  0.8962,  0.8546],\n",
            "        [ 0.8858, -1.1012,  0.8380]])\n",
            "y\n",
            " tensor([[0.2691, 0.3013, 0.0288],\n",
            "        [0.3602, 0.8997, 0.1451],\n",
            "        [0.0238, 0.5176, 0.7644],\n",
            "        [0.1169, 0.9153, 0.7058],\n",
            "        [0.3358, 0.9711, 0.0666]])\n",
            "x+y\n",
            " tensor([[ 1.1506e+00, -1.1708e-01,  4.4037e-02],\n",
            "        [ 2.3207e-01,  7.8194e-01,  5.8625e-01],\n",
            "        [ 1.4095e+00,  7.1991e-01, -1.0388e-03],\n",
            "        [-1.5728e+00,  1.8116e+00,  1.5604e+00],\n",
            "        [ 1.2216e+00, -1.3014e-01,  9.0465e-01]])\n"
          ]
        }
      ]
    },
    {
      "cell_type": "markdown",
      "metadata": {
        "id": "zaiOY_rI7UlX"
      },
      "source": [
        "Addition: syntax 2\n",
        "\n"
      ]
    },
    {
      "cell_type": "code",
      "metadata": {
        "id": "7Q7F5VqH7UlX",
        "colab": {
          "base_uri": "https://localhost:8080/"
        },
        "outputId": "1d13672f-44c2-4dca-866a-a62f169196f4"
      },
      "source": [
        "print(torch.add(x, y))"
      ],
      "execution_count": 26,
      "outputs": [
        {
          "output_type": "stream",
          "name": "stdout",
          "text": [
            "tensor([[ 1.1506e+00, -1.1708e-01,  4.4037e-02],\n",
            "        [ 2.3207e-01,  7.8194e-01,  5.8625e-01],\n",
            "        [ 1.4095e+00,  7.1991e-01, -1.0388e-03],\n",
            "        [-1.5728e+00,  1.8116e+00,  1.5604e+00],\n",
            "        [ 1.2216e+00, -1.3014e-01,  9.0465e-01]])\n"
          ]
        }
      ]
    },
    {
      "cell_type": "markdown",
      "metadata": {
        "id": "IBAdBU5B7Ulc"
      },
      "source": [
        "Addition: providing an output tensor as argument\n",
        "\n"
      ]
    },
    {
      "cell_type": "code",
      "metadata": {
        "id": "O-6NBGio7Uld",
        "colab": {
          "base_uri": "https://localhost:8080/"
        },
        "outputId": "4e33b430-d953-482e-cc48-fa7ccbd9ddb8"
      },
      "source": [
        "result = torch.empty(5, 3)\n",
        "print(result)"
      ],
      "execution_count": 27,
      "outputs": [
        {
          "output_type": "stream",
          "name": "stdout",
          "text": [
            "tensor([[ 2.8641e+08,  3.0673e-41,  4.4037e-02],\n",
            "        [ 2.3207e-01,  7.8194e-01,  5.8625e-01],\n",
            "        [ 1.4095e+00,  7.1991e-01, -1.0388e-03],\n",
            "        [-1.5728e+00,  1.8116e+00,  1.5604e+00],\n",
            "        [ 1.2216e+00, -1.3014e-01,  9.0465e-01]])\n"
          ]
        }
      ]
    },
    {
      "cell_type": "code",
      "metadata": {
        "colab": {
          "base_uri": "https://localhost:8080/"
        },
        "id": "glI444FiqvVW",
        "outputId": "ba19deff-c616-466e-d2f1-5fb152438d86"
      },
      "source": [
        "torch.add(x, y, out=result)\n",
        "print(result)"
      ],
      "execution_count": 28,
      "outputs": [
        {
          "output_type": "stream",
          "name": "stdout",
          "text": [
            "tensor([[ 1.1506e+00, -1.1708e-01,  4.4037e-02],\n",
            "        [ 2.3207e-01,  7.8194e-01,  5.8625e-01],\n",
            "        [ 1.4095e+00,  7.1991e-01, -1.0388e-03],\n",
            "        [-1.5728e+00,  1.8116e+00,  1.5604e+00],\n",
            "        [ 1.2216e+00, -1.3014e-01,  9.0465e-01]])\n"
          ]
        }
      ]
    },
    {
      "cell_type": "code",
      "metadata": {
        "colab": {
          "base_uri": "https://localhost:8080/"
        },
        "id": "wlH03p4Mqx8B",
        "outputId": "0a6f9fc9-708c-40d3-e93d-3d06d024c3b2"
      },
      "source": [
        "res = x + y\n",
        "print(res)"
      ],
      "execution_count": 29,
      "outputs": [
        {
          "output_type": "stream",
          "name": "stdout",
          "text": [
            "tensor([[ 1.1506e+00, -1.1708e-01,  4.4037e-02],\n",
            "        [ 2.3207e-01,  7.8194e-01,  5.8625e-01],\n",
            "        [ 1.4095e+00,  7.1991e-01, -1.0388e-03],\n",
            "        [-1.5728e+00,  1.8116e+00,  1.5604e+00],\n",
            "        [ 1.2216e+00, -1.3014e-01,  9.0465e-01]])\n"
          ]
        }
      ]
    },
    {
      "cell_type": "markdown",
      "metadata": {
        "id": "BiQ9CkpD7Ulj"
      },
      "source": [
        "Addition: in-place\n",
        "\n"
      ]
    },
    {
      "cell_type": "code",
      "metadata": {
        "id": "5SaaMGTg7Ulj",
        "colab": {
          "base_uri": "https://localhost:8080/"
        },
        "outputId": "3e3e7cc8-2219-4b66-f740-7540da7a39e7"
      },
      "source": [
        "# adds x to y\n",
        "y.add_(x)\n",
        "print(y)"
      ],
      "execution_count": 30,
      "outputs": [
        {
          "output_type": "stream",
          "name": "stdout",
          "text": [
            "tensor([[ 1.1506e+00, -1.1708e-01,  4.4037e-02],\n",
            "        [ 2.3207e-01,  7.8194e-01,  5.8625e-01],\n",
            "        [ 1.4095e+00,  7.1991e-01, -1.0388e-03],\n",
            "        [-1.5728e+00,  1.8116e+00,  1.5604e+00],\n",
            "        [ 1.2216e+00, -1.3014e-01,  9.0465e-01]])\n"
          ]
        }
      ]
    },
    {
      "cell_type": "markdown",
      "metadata": {
        "id": "5_0dSJ9E7Uln"
      },
      "source": [
        "# **_로 끝나는 operation은 in-place**\n",
        "<div class=\"alert alert-info\"><h4>Note</h4><p>Any operation that mutates a tensor in-place is post-fixed with an ``_``.\n",
        "    For example: ``x.copy_(y)``, ``x.t_()``, will change ``x``.</p></div>\n",
        "\n",
        "You can use standard NumPy-like indexing with all bells and whistles!\n",
        "\n",
        "\n",
        "\n"
      ]
    },
    {
      "cell_type": "code",
      "metadata": {
        "id": "nk0DsKFJy0Ws"
      },
      "source": [
        ""
      ],
      "execution_count": 30,
      "outputs": []
    },
    {
      "cell_type": "markdown",
      "metadata": {
        "id": "teuYmB1Jw1fF"
      },
      "source": [
        "# autograd"
      ]
    },
    {
      "cell_type": "markdown",
      "source": [
        "학습에서 error backpropagation을 위한 그래디언트 계산을 자동화한 PyTorch 기능"
      ],
      "metadata": {
        "id": "FFxyNBwvAFHP"
      }
    },
    {
      "cell_type": "code",
      "metadata": {
        "id": "-0z1fKfpw2Sp"
      },
      "source": [
        "import torch\n",
        "\n",
        "a = torch.tensor([2., 3.], requires_grad=True)\n",
        "b = torch.tensor([6., 4.], requires_grad=True)"
      ],
      "execution_count": 31,
      "outputs": []
    },
    {
      "cell_type": "code",
      "metadata": {
        "colab": {
          "base_uri": "https://localhost:8080/"
        },
        "id": "ZQFbR9RgxgGq",
        "outputId": "69068b30-b5b9-4748-d270-8d4e28862be7"
      },
      "source": [
        "a"
      ],
      "execution_count": 32,
      "outputs": [
        {
          "output_type": "execute_result",
          "data": {
            "text/plain": [
              "tensor([2., 3.], requires_grad=True)"
            ]
          },
          "metadata": {},
          "execution_count": 32
        }
      ]
    },
    {
      "cell_type": "code",
      "metadata": {
        "colab": {
          "base_uri": "https://localhost:8080/"
        },
        "id": "4m6Zadccxhmk",
        "outputId": "db8089eb-9f47-421c-a1d7-d435b12e3821"
      },
      "source": [
        "b"
      ],
      "execution_count": 33,
      "outputs": [
        {
          "output_type": "execute_result",
          "data": {
            "text/plain": [
              "tensor([6., 4.], requires_grad=True)"
            ]
          },
          "metadata": {},
          "execution_count": 33
        }
      ]
    },
    {
      "cell_type": "code",
      "metadata": {
        "id": "DwN2O6wXw3gO"
      },
      "source": [
        "Q = 3*a**3 - b**2"
      ],
      "execution_count": 34,
      "outputs": []
    },
    {
      "cell_type": "markdown",
      "metadata": {
        "id": "V7bbwCoqx9Qf"
      },
      "source": [
        "\\begin{align}Q=3a^{3}-b^{3}\\end{align}"
      ]
    },
    {
      "cell_type": "code",
      "metadata": {
        "colab": {
          "base_uri": "https://localhost:8080/"
        },
        "id": "3j749vPTw7uP",
        "outputId": "c40c8068-15a3-43fe-ff1f-0069955532b9"
      },
      "source": [
        "Q"
      ],
      "execution_count": 35,
      "outputs": [
        {
          "output_type": "execute_result",
          "data": {
            "text/plain": [
              "tensor([-12.,  65.], grad_fn=<SubBackward0>)"
            ]
          },
          "metadata": {},
          "execution_count": 35
        }
      ]
    },
    {
      "cell_type": "markdown",
      "metadata": {
        "id": "zekUytw1xzY0"
      },
      "source": [
        "\\begin{align}\\frac{\\partial Q}{\\partial a} = 9a^2\\end{align}\n",
        "\n",
        "\\begin{align}\\frac{\\partial Q}{\\partial b} = -2b\\end{align}\n",
        "\n",
        "\\begin{align}\\frac{dQ}{dQ} = 1\\end{align}"
      ]
    },
    {
      "cell_type": "code",
      "metadata": {
        "id": "zXIp1_T8w98v"
      },
      "source": [
        "external_grad = torch.tensor([1., 1.])\n",
        "Q.backward(gradient=external_grad)"
      ],
      "execution_count": 36,
      "outputs": []
    },
    {
      "cell_type": "code",
      "metadata": {
        "colab": {
          "base_uri": "https://localhost:8080/"
        },
        "id": "fJykvbU7xOFT",
        "outputId": "9885f691-fb1b-4d68-d4b6-b066131d2adb"
      },
      "source": [
        "Q"
      ],
      "execution_count": 37,
      "outputs": [
        {
          "output_type": "execute_result",
          "data": {
            "text/plain": [
              "tensor([-12.,  65.], grad_fn=<SubBackward0>)"
            ]
          },
          "metadata": {},
          "execution_count": 37
        }
      ]
    },
    {
      "cell_type": "code",
      "metadata": {
        "colab": {
          "base_uri": "https://localhost:8080/"
        },
        "id": "pbA_cV2KxUrj",
        "outputId": "b9a2a07f-77fa-40cc-ffa9-49192a89edf8"
      },
      "source": [
        "a.grad, b.grad"
      ],
      "execution_count": 38,
      "outputs": [
        {
          "output_type": "execute_result",
          "data": {
            "text/plain": [
              "(tensor([36., 81.]), tensor([-12.,  -8.]))"
            ]
          },
          "metadata": {},
          "execution_count": 38
        }
      ]
    },
    {
      "cell_type": "code",
      "metadata": {
        "colab": {
          "base_uri": "https://localhost:8080/"
        },
        "id": "Sspy02QExPO1",
        "outputId": "512e1190-0609-48d8-c7de-bbeac78b2d08"
      },
      "source": [
        "# check if collected gradients are correct\n",
        "print(9*a**2 == a.grad)\n",
        "print(-2*b == b.grad)"
      ],
      "execution_count": 39,
      "outputs": [
        {
          "output_type": "stream",
          "name": "stdout",
          "text": [
            "tensor([True, True])\n",
            "tensor([True, True])\n"
          ]
        }
      ]
    },
    {
      "cell_type": "code",
      "metadata": {
        "id": "dZXXV-i4yh70"
      },
      "source": [
        ""
      ],
      "execution_count": 39,
      "outputs": []
    },
    {
      "cell_type": "markdown",
      "metadata": {
        "id": "K9vXS6Q2y9KS"
      },
      "source": [
        "# 일반적으로는 Numpy 배열과 유사한 신택스를 가진다"
      ]
    },
    {
      "cell_type": "markdown",
      "metadata": {
        "id": "AiYbw0VVDURl"
      },
      "source": [
        "# Indexing tensors\n",
        "\n",
        "## Python slicing 과 유사\n",
        "\n",
        "https://drive.google.com/file/d/1qYbFGElZiXcB4VgUiolBp0f2YZS1pzGw/view?usp=sharing\n",
        "\n"
      ]
    },
    {
      "cell_type": "code",
      "metadata": {
        "id": "P-ErepKhQUCw",
        "colab": {
          "base_uri": "https://localhost:8080/"
        },
        "outputId": "923d2470-62c4-49b4-ceeb-1090d7877684"
      },
      "source": [
        "some_list = list(range(6))\n",
        "some_list[:]"
      ],
      "execution_count": 40,
      "outputs": [
        {
          "output_type": "execute_result",
          "data": {
            "text/plain": [
              "[0, 1, 2, 3, 4, 5]"
            ]
          },
          "metadata": {},
          "execution_count": 40
        }
      ]
    },
    {
      "cell_type": "code",
      "metadata": {
        "id": "mz0aXCjAQgSC",
        "colab": {
          "base_uri": "https://localhost:8080/"
        },
        "outputId": "3ceea480-636f-46df-cb66-aba96b82701e"
      },
      "source": [
        "print(some_list[1:4])\n",
        "print(some_list[1:])\n",
        "print(some_list[:4])\n",
        "print(some_list[:-1])\n",
        "print(some_list[1:4:2]) # 1 to 3 ([1,2,3]), step 2 ([1,3])"
      ],
      "execution_count": 41,
      "outputs": [
        {
          "output_type": "stream",
          "name": "stdout",
          "text": [
            "[1, 2, 3]\n",
            "[1, 2, 3, 4, 5]\n",
            "[0, 1, 2, 3]\n",
            "[0, 1, 2, 3, 4]\n",
            "[1, 3]\n"
          ]
        }
      ]
    },
    {
      "cell_type": "code",
      "metadata": {
        "id": "TaUthXxcRUSD",
        "colab": {
          "base_uri": "https://localhost:8080/"
        },
        "outputId": "09b486a2-8bed-4c84-e406-1df6c0aa5347"
      },
      "source": [
        "points = torch.tensor([[4.0, 1.0], [5.0, 3.0], [2.0, 1.0]])\n",
        "print(points)\n",
        "print(points.shape)\n"
      ],
      "execution_count": 42,
      "outputs": [
        {
          "output_type": "stream",
          "name": "stdout",
          "text": [
            "tensor([[4., 1.],\n",
            "        [5., 3.],\n",
            "        [2., 1.]])\n",
            "torch.Size([3, 2])\n"
          ]
        }
      ]
    },
    {
      "cell_type": "code",
      "metadata": {
        "id": "4H6jBblIRmur",
        "colab": {
          "base_uri": "https://localhost:8080/"
        },
        "outputId": "b9f3bcc3-8257-47c2-bcff-919e71431b1d"
      },
      "source": [
        "print(points[1:])"
      ],
      "execution_count": 43,
      "outputs": [
        {
          "output_type": "stream",
          "name": "stdout",
          "text": [
            "tensor([[5., 3.],\n",
            "        [2., 1.]])\n"
          ]
        }
      ]
    },
    {
      "cell_type": "code",
      "metadata": {
        "id": "LbjyBa6yRe3L",
        "colab": {
          "base_uri": "https://localhost:8080/"
        },
        "outputId": "e530c51d-23c5-415d-ef15-ea777af5d90a"
      },
      "source": [
        "print(points[1:, :])"
      ],
      "execution_count": 44,
      "outputs": [
        {
          "output_type": "stream",
          "name": "stdout",
          "text": [
            "tensor([[5., 3.],\n",
            "        [2., 1.]])\n"
          ]
        }
      ]
    },
    {
      "cell_type": "code",
      "metadata": {
        "id": "Zlsad4loRxr8",
        "colab": {
          "base_uri": "https://localhost:8080/"
        },
        "outputId": "6b8427a6-4ba5-4cad-afd9-4e7c55524491"
      },
      "source": [
        "print(points[1:, 0])"
      ],
      "execution_count": 45,
      "outputs": [
        {
          "output_type": "stream",
          "name": "stdout",
          "text": [
            "tensor([5., 2.])\n"
          ]
        }
      ]
    },
    {
      "cell_type": "code",
      "metadata": {
        "id": "74gXkYgRR4DZ",
        "colab": {
          "base_uri": "https://localhost:8080/"
        },
        "outputId": "dd681eb7-e146-4074-d51a-00e8e1878e55"
      },
      "source": [
        "print(points[None])"
      ],
      "execution_count": 46,
      "outputs": [
        {
          "output_type": "stream",
          "name": "stdout",
          "text": [
            "tensor([[[4., 1.],\n",
            "         [5., 3.],\n",
            "         [2., 1.]]])\n"
          ]
        }
      ]
    },
    {
      "cell_type": "code",
      "metadata": {
        "id": "KusDoy97R-Xp",
        "colab": {
          "base_uri": "https://localhost:8080/"
        },
        "outputId": "9df14765-e95a-43c8-f467-b793457df04e"
      },
      "source": [
        "print(points[None].size())"
      ],
      "execution_count": 47,
      "outputs": [
        {
          "output_type": "stream",
          "name": "stdout",
          "text": [
            "torch.Size([1, 3, 2])\n"
          ]
        }
      ]
    },
    {
      "cell_type": "code",
      "metadata": {
        "id": "OZbNsSvrtCE3",
        "colab": {
          "base_uri": "https://localhost:8080/"
        },
        "outputId": "fe35f23c-723c-4aae-ae5a-9fa9f2eedbc3"
      },
      "source": [
        "points.shape"
      ],
      "execution_count": 49,
      "outputs": [
        {
          "output_type": "execute_result",
          "data": {
            "text/plain": [
              "torch.Size([3, 2])"
            ]
          },
          "metadata": {},
          "execution_count": 49
        }
      ]
    },
    {
      "cell_type": "code",
      "source": [
        "points"
      ],
      "metadata": {
        "colab": {
          "base_uri": "https://localhost:8080/"
        },
        "id": "Vw2ngsXUSZq8",
        "outputId": "9616cc45-61bf-4b54-e216-077ea1bd74cd"
      },
      "execution_count": 50,
      "outputs": [
        {
          "output_type": "execute_result",
          "data": {
            "text/plain": [
              "tensor([[4., 1.],\n",
              "        [5., 3.],\n",
              "        [2., 1.]])"
            ]
          },
          "metadata": {},
          "execution_count": 50
        }
      ]
    },
    {
      "cell_type": "markdown",
      "metadata": {
        "id": "SsxberTPsshC"
      },
      "source": [
        "# unsqueeze - dimension 확장. dim으로 지정된 디멘션을 하나 확장"
      ]
    },
    {
      "cell_type": "code",
      "metadata": {
        "id": "G4ruWO_ASEr7",
        "colab": {
          "base_uri": "https://localhost:8080/"
        },
        "outputId": "707c0d40-1764-4192-898f-86e42247d99f"
      },
      "source": [
        "print(points.unsqueeze(dim=0))\n",
        "print(points.unsqueeze(dim=0).size())"
      ],
      "execution_count": 51,
      "outputs": [
        {
          "output_type": "stream",
          "name": "stdout",
          "text": [
            "tensor([[[4., 1.],\n",
            "         [5., 3.],\n",
            "         [2., 1.]]])\n",
            "torch.Size([1, 3, 2])\n"
          ]
        }
      ]
    },
    {
      "cell_type": "code",
      "metadata": {
        "colab": {
          "base_uri": "https://localhost:8080/"
        },
        "id": "lyWm4Qu0tSTv",
        "outputId": "ac70b04b-ce92-441c-daac-d50c3d630774"
      },
      "source": [
        "unsq_points = points.unsqueeze(dim=0)\n",
        "print(unsq_points)\n",
        "print(unsq_points.size())"
      ],
      "execution_count": 52,
      "outputs": [
        {
          "output_type": "stream",
          "name": "stdout",
          "text": [
            "tensor([[[4., 1.],\n",
            "         [5., 3.],\n",
            "         [2., 1.]]])\n",
            "torch.Size([1, 3, 2])\n"
          ]
        }
      ]
    },
    {
      "cell_type": "markdown",
      "metadata": {
        "id": "wEHQe821tFe4"
      },
      "source": [
        "# squeeze - dimension 축소\n",
        "### 원소 1개짜리 dimension을 제거"
      ]
    },
    {
      "cell_type": "code",
      "metadata": {
        "colab": {
          "base_uri": "https://localhost:8080/"
        },
        "id": "59O0LospteVe",
        "outputId": "5b6e3369-de8d-4530-d684-0994a5fd81df"
      },
      "source": [
        "sq_points = unsq_points.squeeze()\n",
        "print(sq_points)\n",
        "print(sq_points.size())"
      ],
      "execution_count": 53,
      "outputs": [
        {
          "output_type": "stream",
          "name": "stdout",
          "text": [
            "tensor([[4., 1.],\n",
            "        [5., 3.],\n",
            "        [2., 1.]])\n",
            "torch.Size([3, 2])\n"
          ]
        }
      ]
    },
    {
      "cell_type": "markdown",
      "metadata": {
        "id": "PtM1p8247Ulq"
      },
      "source": [
        "\n",
        "\n",
        "---\n",
        "\n",
        "Resizing: If you want to resize/reshape tensor, you can use ``torch.view``:\n",
        "\n"
      ]
    },
    {
      "cell_type": "markdown",
      "source": [
        "x는 (4,4), y는 (16,), z는 (inferred, 8)인데 전체가 16 원소이므로 inferred는 2가 되어 (2,8)"
      ],
      "metadata": {
        "id": "05HxiQ8TS5mW"
      }
    },
    {
      "cell_type": "code",
      "metadata": {
        "id": "haFkaiMr7Ulr",
        "colab": {
          "base_uri": "https://localhost:8080/"
        },
        "outputId": "699bc76b-405e-499a-c51c-9118e174788c"
      },
      "source": [
        "x = torch.randn(4, 4)\n",
        "y = x.view(16)\n",
        "z = x.view(-1, 8)  # the size -1 is inferred from other dimensions\n",
        "print('x.size()=', x.size(), '\\ny.size()=', y.size(), '\\nz.size()=', z.size())\n",
        "print(x, '\\n', y, '\\n', z)"
      ],
      "execution_count": 55,
      "outputs": [
        {
          "output_type": "stream",
          "name": "stdout",
          "text": [
            "x.size()= torch.Size([4, 4]) \n",
            "y.size()= torch.Size([16]) \n",
            "z.size()= torch.Size([2, 8])\n",
            "tensor([[-0.3112, -0.8315,  2.0023, -0.8920],\n",
            "        [-0.7311, -0.1806, -1.3087, -0.4823],\n",
            "        [ 1.4226, -2.2820, -0.0773, -2.7146],\n",
            "        [ 1.2870,  1.0097,  0.1546,  1.3778]]) \n",
            " tensor([-0.3112, -0.8315,  2.0023, -0.8920, -0.7311, -0.1806, -1.3087, -0.4823,\n",
            "         1.4226, -2.2820, -0.0773, -2.7146,  1.2870,  1.0097,  0.1546,  1.3778]) \n",
            " tensor([[-0.3112, -0.8315,  2.0023, -0.8920, -0.7311, -0.1806, -1.3087, -0.4823],\n",
            "        [ 1.4226, -2.2820, -0.0773, -2.7146,  1.2870,  1.0097,  0.1546,  1.3778]])\n"
          ]
        }
      ]
    },
    {
      "cell_type": "markdown",
      "metadata": {
        "id": "y4YovVqK_0mo"
      },
      "source": [
        "---\n",
        "# transpose"
      ]
    },
    {
      "cell_type": "code",
      "metadata": {
        "id": "5tIjw-kzXUyH",
        "colab": {
          "base_uri": "https://localhost:8080/"
        },
        "outputId": "afa44e27-b66c-47c7-ee7f-e61056499be1"
      },
      "source": [
        "points = torch.tensor([[3.0, 1.0, 2.0], [4.0, 1.0, 7.0]])\n",
        "print(points)"
      ],
      "execution_count": 56,
      "outputs": [
        {
          "output_type": "stream",
          "name": "stdout",
          "text": [
            "tensor([[3., 1., 2.],\n",
            "        [4., 1., 7.]])\n"
          ]
        }
      ]
    },
    {
      "cell_type": "markdown",
      "metadata": {
        "id": "lAKezqKzuTcr"
      },
      "source": [
        "## 서로 바꿀 두 디멘션을 지정"
      ]
    },
    {
      "cell_type": "code",
      "metadata": {
        "id": "MM_rl3L6XUvW"
      },
      "source": [
        "points_tr = points.transpose(0, 1)"
      ],
      "execution_count": 57,
      "outputs": []
    },
    {
      "cell_type": "code",
      "metadata": {
        "id": "n8zohU17XUdN",
        "colab": {
          "base_uri": "https://localhost:8080/"
        },
        "outputId": "b51bc487-2e2f-4e4d-8576-e57529de8a4e"
      },
      "source": [
        "points_tr"
      ],
      "execution_count": 58,
      "outputs": [
        {
          "output_type": "execute_result",
          "data": {
            "text/plain": [
              "tensor([[3., 4.],\n",
              "        [1., 1.],\n",
              "        [2., 7.]])"
            ]
          },
          "metadata": {},
          "execution_count": 58
        }
      ]
    },
    {
      "cell_type": "code",
      "metadata": {
        "id": "QXYiybxH-Ny2",
        "colab": {
          "base_uri": "https://localhost:8080/"
        },
        "outputId": "2af8e0cc-ff67-4970-d1be-03de81410c2a"
      },
      "source": [
        "points"
      ],
      "execution_count": 59,
      "outputs": [
        {
          "output_type": "execute_result",
          "data": {
            "text/plain": [
              "tensor([[3., 1., 2.],\n",
              "        [4., 1., 7.]])"
            ]
          },
          "metadata": {},
          "execution_count": 59
        }
      ]
    },
    {
      "cell_type": "code",
      "metadata": {
        "id": "24htwWmM-9__",
        "colab": {
          "base_uri": "https://localhost:8080/"
        },
        "outputId": "c0346fba-600a-4fd0-89f3-08862e82732c"
      },
      "source": [
        "points_t = points.t() # 2D or less dimension\n",
        "print(points_t)"
      ],
      "execution_count": 60,
      "outputs": [
        {
          "output_type": "stream",
          "name": "stdout",
          "text": [
            "tensor([[3., 4.],\n",
            "        [1., 1.],\n",
            "        [2., 7.]])\n"
          ]
        }
      ]
    },
    {
      "cell_type": "markdown",
      "metadata": {
        "id": "nvEXhWvQuNZX"
      },
      "source": [
        "## Multidimensional"
      ]
    },
    {
      "cell_type": "code",
      "metadata": {
        "id": "1HceVTdXt_Ad",
        "colab": {
          "base_uri": "https://localhost:8080/"
        },
        "outputId": "20e67a59-501d-496a-a0b6-da38d8067565"
      },
      "source": [
        "some_t = torch.ones(3, 4, 5)\n",
        "transpose_t = some_t.transpose(0, 2) # 0번째와 2번째 디멘션을 transpose\n",
        "some_t.shape"
      ],
      "execution_count": 61,
      "outputs": [
        {
          "output_type": "execute_result",
          "data": {
            "text/plain": [
              "torch.Size([3, 4, 5])"
            ]
          },
          "metadata": {},
          "execution_count": 61
        }
      ]
    },
    {
      "cell_type": "code",
      "metadata": {
        "id": "zCrT03VjCB-3",
        "colab": {
          "base_uri": "https://localhost:8080/"
        },
        "outputId": "221b56df-bedc-40f3-f387-bfbf7734e180"
      },
      "source": [
        "some_t"
      ],
      "execution_count": 62,
      "outputs": [
        {
          "output_type": "execute_result",
          "data": {
            "text/plain": [
              "tensor([[[1., 1., 1., 1., 1.],\n",
              "         [1., 1., 1., 1., 1.],\n",
              "         [1., 1., 1., 1., 1.],\n",
              "         [1., 1., 1., 1., 1.]],\n",
              "\n",
              "        [[1., 1., 1., 1., 1.],\n",
              "         [1., 1., 1., 1., 1.],\n",
              "         [1., 1., 1., 1., 1.],\n",
              "         [1., 1., 1., 1., 1.]],\n",
              "\n",
              "        [[1., 1., 1., 1., 1.],\n",
              "         [1., 1., 1., 1., 1.],\n",
              "         [1., 1., 1., 1., 1.],\n",
              "         [1., 1., 1., 1., 1.]]])"
            ]
          },
          "metadata": {},
          "execution_count": 62
        }
      ]
    },
    {
      "cell_type": "code",
      "metadata": {
        "id": "KuzPbyUMvQZS",
        "colab": {
          "base_uri": "https://localhost:8080/"
        },
        "outputId": "4b6f455e-1aca-4e2b-9fa1-7c06dc473110"
      },
      "source": [
        "transpose_t.shape"
      ],
      "execution_count": 63,
      "outputs": [
        {
          "output_type": "execute_result",
          "data": {
            "text/plain": [
              "torch.Size([5, 4, 3])"
            ]
          },
          "metadata": {},
          "execution_count": 63
        }
      ]
    },
    {
      "cell_type": "markdown",
      "metadata": {
        "id": "tJ7sFdGoCo0N"
      },
      "source": [
        "# Contiguous\n",
        "\n",
        "가장 오른쪽 차원이 순차적으로 저장된 텐서"
      ]
    },
    {
      "cell_type": "code",
      "metadata": {
        "id": "gvqjqRcLv5_9",
        "colab": {
          "base_uri": "https://localhost:8080/"
        },
        "outputId": "8e6c4de0-264e-4697-b2bd-f35e851a486c"
      },
      "source": [
        "some_t.is_contiguous()"
      ],
      "execution_count": 64,
      "outputs": [
        {
          "output_type": "execute_result",
          "data": {
            "text/plain": [
              "True"
            ]
          },
          "metadata": {},
          "execution_count": 64
        }
      ]
    },
    {
      "cell_type": "markdown",
      "source": [
        "continous한 텐서의 transpose는 실제 데이터를 옮기는 것이 아니라 접근하는 방법만 다르게 하기 때문에 continous하지 않음"
      ],
      "metadata": {
        "id": "Su_V7hn2Tfa3"
      }
    },
    {
      "cell_type": "code",
      "metadata": {
        "id": "y6Mt2o_8v-Fx",
        "colab": {
          "base_uri": "https://localhost:8080/"
        },
        "outputId": "58795bc5-b190-4229-8abe-97f99aed461e"
      },
      "source": [
        "transpose_t.is_contiguous()"
      ],
      "execution_count": 66,
      "outputs": [
        {
          "output_type": "execute_result",
          "data": {
            "text/plain": [
              "False"
            ]
          },
          "metadata": {},
          "execution_count": 66
        }
      ]
    },
    {
      "cell_type": "markdown",
      "metadata": {
        "id": "J_v9KcvhwBn3"
      },
      "source": [
        "## Contiguous로 변환하기"
      ]
    },
    {
      "cell_type": "code",
      "metadata": {
        "id": "fi-yNKOEEFuv"
      },
      "source": [
        "points = torch.tensor([[4.0, 1.0], [5.0, 3.0], [2.0, 1.0]])"
      ],
      "execution_count": 67,
      "outputs": []
    },
    {
      "cell_type": "code",
      "metadata": {
        "id": "gWUp1qQUELF8"
      },
      "source": [
        "points_t = points.t()"
      ],
      "execution_count": 68,
      "outputs": []
    },
    {
      "cell_type": "code",
      "metadata": {
        "id": "bPP0WsVaEOqO",
        "colab": {
          "base_uri": "https://localhost:8080/"
        },
        "outputId": "1d093506-4b69-4f07-93d3-564e57b15b4e"
      },
      "source": [
        "points_t"
      ],
      "execution_count": 69,
      "outputs": [
        {
          "output_type": "execute_result",
          "data": {
            "text/plain": [
              "tensor([[4., 5., 2.],\n",
              "        [1., 3., 1.]])"
            ]
          },
          "metadata": {},
          "execution_count": 69
        }
      ]
    },
    {
      "cell_type": "code",
      "metadata": {
        "colab": {
          "base_uri": "https://localhost:8080/"
        },
        "id": "G22ruXQkucma",
        "outputId": "ce911404-8c7d-4fcc-8d76-efac448ab8d6"
      },
      "source": [
        "points_t.is_contiguous()"
      ],
      "execution_count": 70,
      "outputs": [
        {
          "output_type": "execute_result",
          "data": {
            "text/plain": [
              "False"
            ]
          },
          "metadata": {},
          "execution_count": 70
        }
      ]
    },
    {
      "cell_type": "markdown",
      "source": [
        "실제 데이터를 contiguous하게 재배치"
      ],
      "metadata": {
        "id": "zm2wnpAyTucO"
      }
    },
    {
      "cell_type": "code",
      "metadata": {
        "id": "PP7BAMQSEOIp"
      },
      "source": [
        "points_t_cont = points_t.contiguous()"
      ],
      "execution_count": 72,
      "outputs": []
    },
    {
      "cell_type": "code",
      "metadata": {
        "id": "DwolUv9eEgs3",
        "colab": {
          "base_uri": "https://localhost:8080/"
        },
        "outputId": "c08e2279-a5a0-4083-cda9-a84830293439"
      },
      "source": [
        "points_t_cont"
      ],
      "execution_count": 73,
      "outputs": [
        {
          "output_type": "execute_result",
          "data": {
            "text/plain": [
              "tensor([[4., 5., 2.],\n",
              "        [1., 3., 1.]])"
            ]
          },
          "metadata": {},
          "execution_count": 73
        }
      ]
    },
    {
      "cell_type": "code",
      "metadata": {
        "id": "5QaBSQD83EMD",
        "colab": {
          "base_uri": "https://localhost:8080/"
        },
        "outputId": "74b4a086-2d35-4f5d-8961-e19dd6545f25"
      },
      "source": [
        "points_t_cont.contiguous()"
      ],
      "execution_count": 74,
      "outputs": [
        {
          "output_type": "execute_result",
          "data": {
            "text/plain": [
              "tensor([[4., 5., 2.],\n",
              "        [1., 3., 1.]])"
            ]
          },
          "metadata": {},
          "execution_count": 74
        }
      ]
    },
    {
      "cell_type": "markdown",
      "metadata": {
        "id": "9ckbojEe8GoO"
      },
      "source": [
        "## tensor view()\n",
        "\n",
        "같은 storage 에서 보는 관점 (shape)만 다르게 함"
      ]
    },
    {
      "cell_type": "code",
      "metadata": {
        "id": "TQyd096Q661s",
        "colab": {
          "base_uri": "https://localhost:8080/"
        },
        "outputId": "865188a7-ba05-4c2e-b294-3f0562d8a49d"
      },
      "source": [
        "t = torch.rand(4, 4)\n",
        "b = t.view(2, 8)\n",
        "print(t, t.shape)\n",
        "print(b, b.shape)"
      ],
      "execution_count": 75,
      "outputs": [
        {
          "output_type": "stream",
          "name": "stdout",
          "text": [
            "tensor([[0.4407, 0.9571, 0.6890, 0.5465],\n",
            "        [0.2858, 0.9516, 0.4148, 0.6201],\n",
            "        [0.9849, 0.9962, 0.1261, 0.0170],\n",
            "        [0.2510, 0.7078, 0.5342, 0.2367]]) torch.Size([4, 4])\n",
            "tensor([[0.4407, 0.9571, 0.6890, 0.5465, 0.2858, 0.9516, 0.4148, 0.6201],\n",
            "        [0.9849, 0.9962, 0.1261, 0.0170, 0.2510, 0.7078, 0.5342, 0.2367]]) torch.Size([2, 8])\n"
          ]
        }
      ]
    },
    {
      "cell_type": "code",
      "metadata": {
        "id": "DRaO6Dmf66zN",
        "colab": {
          "base_uri": "https://localhost:8080/"
        },
        "outputId": "0f4b689a-d0db-4e76-cd3c-18a7b8929f1c"
      },
      "source": [
        "t.is_contiguous()"
      ],
      "execution_count": 76,
      "outputs": [
        {
          "output_type": "execute_result",
          "data": {
            "text/plain": [
              "True"
            ]
          },
          "metadata": {},
          "execution_count": 76
        }
      ]
    },
    {
      "cell_type": "code",
      "metadata": {
        "id": "f2L2fmny66wm",
        "colab": {
          "base_uri": "https://localhost:8080/"
        },
        "outputId": "1c34bbf3-3dc8-464e-eea4-d1aab68f3f81"
      },
      "source": [
        "b.is_contiguous()"
      ],
      "execution_count": 77,
      "outputs": [
        {
          "output_type": "execute_result",
          "data": {
            "text/plain": [
              "True"
            ]
          },
          "metadata": {},
          "execution_count": 77
        }
      ]
    },
    {
      "cell_type": "markdown",
      "metadata": {
        "id": "dRTgmMLP1Yw-"
      },
      "source": [
        "## view 같은 operation은 contiguous tensor에서만 동작"
      ]
    },
    {
      "cell_type": "code",
      "metadata": {
        "id": "qVG0KL8gDQfk",
        "colab": {
          "base_uri": "https://localhost:8080/"
        },
        "outputId": "09b3d62a-a2d4-4ff6-a4b7-ed4aba804cd1"
      },
      "source": [
        "x = torch.tensor([[1,2,3], [4,5,6]])\n",
        "x"
      ],
      "execution_count": 78,
      "outputs": [
        {
          "output_type": "execute_result",
          "data": {
            "text/plain": [
              "tensor([[1, 2, 3],\n",
              "        [4, 5, 6]])"
            ]
          },
          "metadata": {},
          "execution_count": 78
        }
      ]
    },
    {
      "cell_type": "code",
      "metadata": {
        "id": "Xx89aWShDcCn",
        "colab": {
          "base_uri": "https://localhost:8080/"
        },
        "outputId": "3fea290c-756b-4640-b896-4560d1c79977"
      },
      "source": [
        "x.shape"
      ],
      "execution_count": 79,
      "outputs": [
        {
          "output_type": "execute_result",
          "data": {
            "text/plain": [
              "torch.Size([2, 3])"
            ]
          },
          "metadata": {},
          "execution_count": 79
        }
      ]
    },
    {
      "cell_type": "code",
      "metadata": {
        "id": "u30FE9OeDcAh",
        "colab": {
          "base_uri": "https://localhost:8080/"
        },
        "outputId": "f0835d5c-137d-458c-d340-049f8c874797"
      },
      "source": [
        "x_t = x.t()\n",
        "x_t"
      ],
      "execution_count": 80,
      "outputs": [
        {
          "output_type": "execute_result",
          "data": {
            "text/plain": [
              "tensor([[1, 4],\n",
              "        [2, 5],\n",
              "        [3, 6]])"
            ]
          },
          "metadata": {},
          "execution_count": 80
        }
      ]
    },
    {
      "cell_type": "code",
      "metadata": {
        "id": "hRxxELDcDb-S",
        "colab": {
          "base_uri": "https://localhost:8080/"
        },
        "outputId": "46d128ef-aa85-48af-a388-5bcb92395012"
      },
      "source": [
        "y = x.view(3,2) # transpose가 아님\n",
        "y"
      ],
      "execution_count": 81,
      "outputs": [
        {
          "output_type": "execute_result",
          "data": {
            "text/plain": [
              "tensor([[1, 2],\n",
              "        [3, 4],\n",
              "        [5, 6]])"
            ]
          },
          "metadata": {},
          "execution_count": 81
        }
      ]
    },
    {
      "cell_type": "code",
      "metadata": {
        "id": "TP3COx6sDb7U",
        "colab": {
          "base_uri": "https://localhost:8080/"
        },
        "outputId": "2745ea0f-9e9e-4d74-dac3-d7925dde5a69"
      },
      "source": [
        "y.is_contiguous()"
      ],
      "execution_count": 82,
      "outputs": [
        {
          "output_type": "execute_result",
          "data": {
            "text/plain": [
              "True"
            ]
          },
          "metadata": {},
          "execution_count": 82
        }
      ]
    },
    {
      "cell_type": "code",
      "metadata": {
        "id": "99UFRC-6D956",
        "colab": {
          "base_uri": "https://localhost:8080/"
        },
        "outputId": "9e09b022-6314-437c-ea3a-6a649895e079"
      },
      "source": [
        "x_t.is_contiguous()"
      ],
      "execution_count": 83,
      "outputs": [
        {
          "output_type": "execute_result",
          "data": {
            "text/plain": [
              "False"
            ]
          },
          "metadata": {},
          "execution_count": 83
        }
      ]
    },
    {
      "cell_type": "markdown",
      "source": [
        "contiguous하지 않은 텐서로 view를 부르면 오류가 발생"
      ],
      "metadata": {
        "id": "BNICXOm6T_IN"
      }
    },
    {
      "cell_type": "code",
      "metadata": {
        "id": "lRWGogIRDb3R",
        "colab": {
          "base_uri": "https://localhost:8080/"
        },
        "outputId": "a44e35b5-3397-4569-ab4a-e03ece677747"
      },
      "source": [
        "try:\n",
        "    x_t.view(2, 3) # error\n",
        "except Exception as e:\n",
        "    print('Error:', e)"
      ],
      "execution_count": 87,
      "outputs": [
        {
          "output_type": "stream",
          "name": "stdout",
          "text": [
            "Error: view size is not compatible with input tensor's size and stride (at least one dimension spans across two contiguous subspaces). Use .reshape(...) instead.\n"
          ]
        }
      ]
    },
    {
      "cell_type": "code",
      "metadata": {
        "id": "iFy-RCktEDHS",
        "colab": {
          "base_uri": "https://localhost:8080/"
        },
        "outputId": "4616d51e-fec6-4d44-9c5a-d6503dd89a84"
      },
      "source": [
        "x_t_cont = x_t.contiguous()\n",
        "x_t_cont"
      ],
      "execution_count": 88,
      "outputs": [
        {
          "output_type": "execute_result",
          "data": {
            "text/plain": [
              "tensor([[1, 4],\n",
              "        [2, 5],\n",
              "        [3, 6]])"
            ]
          },
          "metadata": {},
          "execution_count": 88
        }
      ]
    },
    {
      "cell_type": "code",
      "metadata": {
        "id": "lkpz0Q95EGyB",
        "colab": {
          "base_uri": "https://localhost:8080/"
        },
        "outputId": "ad04f0f7-70cc-4459-fd97-d55e095c5322"
      },
      "source": [
        "x_t_cont.view(2, 3)"
      ],
      "execution_count": 89,
      "outputs": [
        {
          "output_type": "execute_result",
          "data": {
            "text/plain": [
              "tensor([[1, 4, 2],\n",
              "        [5, 3, 6]])"
            ]
          },
          "metadata": {},
          "execution_count": 89
        }
      ]
    },
    {
      "cell_type": "code",
      "metadata": {
        "id": "D1H-Y-cyEXFs",
        "colab": {
          "base_uri": "https://localhost:8080/"
        },
        "outputId": "397e90f3-34be-4a6c-ce84-af873030e5e3"
      },
      "source": [
        "x_t"
      ],
      "execution_count": 90,
      "outputs": [
        {
          "output_type": "execute_result",
          "data": {
            "text/plain": [
              "tensor([[1, 4],\n",
              "        [2, 5],\n",
              "        [3, 6]])"
            ]
          },
          "metadata": {},
          "execution_count": 90
        }
      ]
    },
    {
      "cell_type": "markdown",
      "source": [
        "x_t와 x_t_cont는 표시되는 값은 같으나 내부의 데이터 순서가 다르게 배치되어 있음"
      ],
      "metadata": {
        "id": "3yB_Qn51UVyX"
      }
    },
    {
      "cell_type": "code",
      "metadata": {
        "id": "4kyjDHqj1XE6",
        "colab": {
          "base_uri": "https://localhost:8080/"
        },
        "outputId": "ce1d482d-3a4f-40ec-f7d9-5d0bfbf2492d"
      },
      "source": [
        "x = torch.randn(2,3,4)\n",
        "x_t = x.transpose(0, 2)\n",
        "print(x.shape)\n",
        "print(x_t.shape)\n"
      ],
      "execution_count": 91,
      "outputs": [
        {
          "output_type": "stream",
          "name": "stdout",
          "text": [
            "torch.Size([2, 3, 4])\n",
            "torch.Size([4, 3, 2])\n"
          ]
        }
      ]
    },
    {
      "cell_type": "code",
      "metadata": {
        "id": "njuxOG5GDJJO",
        "colab": {
          "base_uri": "https://localhost:8080/"
        },
        "outputId": "253e5dee-b308-41a6-871a-d9cb4d51e00c"
      },
      "source": [
        "x"
      ],
      "execution_count": 92,
      "outputs": [
        {
          "output_type": "execute_result",
          "data": {
            "text/plain": [
              "tensor([[[-0.0203,  1.4557,  0.6741, -0.9552],\n",
              "         [ 0.5372,  1.0151,  1.3597,  0.4710],\n",
              "         [-1.3028, -0.1712, -0.4442, -0.3842]],\n",
              "\n",
              "        [[ 0.8422, -0.2642,  0.1464, -0.7503],\n",
              "         [-0.7967,  1.5664, -1.2226, -1.3853],\n",
              "         [ 0.3374, -1.1332, -0.7648,  0.3682]]])"
            ]
          },
          "metadata": {},
          "execution_count": 92
        }
      ]
    },
    {
      "cell_type": "code",
      "metadata": {
        "id": "YXTg7MDLDGJe",
        "colab": {
          "base_uri": "https://localhost:8080/"
        },
        "outputId": "a07ceb7c-8f79-4d9a-f13a-03e403f371af"
      },
      "source": [
        "x.view(2, 12)"
      ],
      "execution_count": 93,
      "outputs": [
        {
          "output_type": "execute_result",
          "data": {
            "text/plain": [
              "tensor([[-0.0203,  1.4557,  0.6741, -0.9552,  0.5372,  1.0151,  1.3597,  0.4710,\n",
              "         -1.3028, -0.1712, -0.4442, -0.3842],\n",
              "        [ 0.8422, -0.2642,  0.1464, -0.7503, -0.7967,  1.5664, -1.2226, -1.3853,\n",
              "          0.3374, -1.1332, -0.7648,  0.3682]])"
            ]
          },
          "metadata": {},
          "execution_count": 93
        }
      ]
    },
    {
      "cell_type": "code",
      "metadata": {
        "id": "sg6dlz0LCqy9",
        "colab": {
          "base_uri": "https://localhost:8080/"
        },
        "outputId": "35839fcd-95be-4a5c-cdf8-5cc22a61a1e7"
      },
      "source": [
        "try:\n",
        "    x_t.view(4,6) # Error\n",
        "except Exception as e:\n",
        "    print('Error:', e)"
      ],
      "execution_count": 94,
      "outputs": [
        {
          "output_type": "stream",
          "name": "stdout",
          "text": [
            "Error: view size is not compatible with input tensor's size and stride (at least one dimension spans across two contiguous subspaces). Use .reshape(...) instead.\n"
          ]
        }
      ]
    },
    {
      "cell_type": "markdown",
      "metadata": {
        "id": "JVGKBZbkNSMM"
      },
      "source": [
        "## reshape()"
      ]
    },
    {
      "cell_type": "code",
      "metadata": {
        "id": "SpgwpF8RIN83"
      },
      "source": [
        "y = x.reshape((2, 12))"
      ],
      "execution_count": 95,
      "outputs": []
    },
    {
      "cell_type": "code",
      "metadata": {
        "id": "OoP0SjpCIN6q",
        "colab": {
          "base_uri": "https://localhost:8080/"
        },
        "outputId": "91d33c62-a910-4562-f237-1b4c6f8bf575"
      },
      "source": [
        "print(y.size())\n",
        "y"
      ],
      "execution_count": 96,
      "outputs": [
        {
          "output_type": "stream",
          "name": "stdout",
          "text": [
            "torch.Size([2, 12])\n"
          ]
        },
        {
          "output_type": "execute_result",
          "data": {
            "text/plain": [
              "tensor([[-0.0203,  1.4557,  0.6741, -0.9552,  0.5372,  1.0151,  1.3597,  0.4710,\n",
              "         -1.3028, -0.1712, -0.4442, -0.3842],\n",
              "        [ 0.8422, -0.2642,  0.1464, -0.7503, -0.7967,  1.5664, -1.2226, -1.3853,\n",
              "          0.3374, -1.1332, -0.7648,  0.3682]])"
            ]
          },
          "metadata": {},
          "execution_count": 96
        }
      ]
    },
    {
      "cell_type": "code",
      "metadata": {
        "id": "gefPps_yIN2z"
      },
      "source": [
        "z = x.reshape((6, -1)) # -1 은 알아서 맞추라는 의미"
      ],
      "execution_count": 97,
      "outputs": []
    },
    {
      "cell_type": "code",
      "metadata": {
        "id": "gKTV0NSYIN0G",
        "colab": {
          "base_uri": "https://localhost:8080/"
        },
        "outputId": "38275215-0ec1-4efc-d4b3-ca68f9cd32a4"
      },
      "source": [
        "z"
      ],
      "execution_count": 98,
      "outputs": [
        {
          "output_type": "execute_result",
          "data": {
            "text/plain": [
              "tensor([[-0.0203,  1.4557,  0.6741, -0.9552],\n",
              "        [ 0.5372,  1.0151,  1.3597,  0.4710],\n",
              "        [-1.3028, -0.1712, -0.4442, -0.3842],\n",
              "        [ 0.8422, -0.2642,  0.1464, -0.7503],\n",
              "        [-0.7967,  1.5664, -1.2226, -1.3853],\n",
              "        [ 0.3374, -1.1332, -0.7648,  0.3682]])"
            ]
          },
          "metadata": {},
          "execution_count": 98
        }
      ]
    },
    {
      "cell_type": "code",
      "metadata": {
        "id": "bDDdLZO0INxW"
      },
      "source": [
        "z = x.reshape((3, -1))"
      ],
      "execution_count": 99,
      "outputs": []
    },
    {
      "cell_type": "code",
      "metadata": {
        "id": "5i6vgDeJINul",
        "colab": {
          "base_uri": "https://localhost:8080/"
        },
        "outputId": "a02f0496-0333-4c44-d6db-e0fbfc293fa0"
      },
      "source": [
        "z"
      ],
      "execution_count": 100,
      "outputs": [
        {
          "output_type": "execute_result",
          "data": {
            "text/plain": [
              "tensor([[-0.0203,  1.4557,  0.6741, -0.9552,  0.5372,  1.0151,  1.3597,  0.4710],\n",
              "        [-1.3028, -0.1712, -0.4442, -0.3842,  0.8422, -0.2642,  0.1464, -0.7503],\n",
              "        [-0.7967,  1.5664, -1.2226, -1.3853,  0.3374, -1.1332, -0.7648,  0.3682]])"
            ]
          },
          "metadata": {},
          "execution_count": 100
        }
      ]
    },
    {
      "cell_type": "code",
      "metadata": {
        "id": "zNjkjpSyMDk1"
      },
      "source": [
        "y = x.reshape((-1, 2))"
      ],
      "execution_count": 101,
      "outputs": []
    },
    {
      "cell_type": "code",
      "metadata": {
        "id": "8baHYCs3MDhV",
        "colab": {
          "base_uri": "https://localhost:8080/"
        },
        "outputId": "3a58eb9e-f78c-4722-d9dd-f59d9fc3444a"
      },
      "source": [
        "y"
      ],
      "execution_count": 102,
      "outputs": [
        {
          "output_type": "execute_result",
          "data": {
            "text/plain": [
              "tensor([[-0.0203,  1.4557],\n",
              "        [ 0.6741, -0.9552],\n",
              "        [ 0.5372,  1.0151],\n",
              "        [ 1.3597,  0.4710],\n",
              "        [-1.3028, -0.1712],\n",
              "        [-0.4442, -0.3842],\n",
              "        [ 0.8422, -0.2642],\n",
              "        [ 0.1464, -0.7503],\n",
              "        [-0.7967,  1.5664],\n",
              "        [-1.2226, -1.3853],\n",
              "        [ 0.3374, -1.1332],\n",
              "        [-0.7648,  0.3682]])"
            ]
          },
          "metadata": {},
          "execution_count": 102
        }
      ]
    },
    {
      "cell_type": "markdown",
      "metadata": {
        "id": "bDCU8JwH7Uly"
      },
      "source": [
        "\n",
        "NumPy Bridge\n",
        "------------\n",
        "\n",
        "Converting a Torch Tensor to a NumPy array and vice versa is a breeze.\n",
        "\n",
        "## The Torch Tensor and NumPy array will share their underlying memory locations (if the Torch Tensor is on CPU), and changing one will change the other.\n",
        "\n",
        "Converting a Torch Tensor to a NumPy Array\n",
        "^^^^^^^^^^^^^^^^^^^^^^^^^^^^^^^^^^^^^^^^^^\n",
        "\n"
      ]
    },
    {
      "cell_type": "code",
      "metadata": {
        "id": "nWkhUyYO7Ulz",
        "colab": {
          "base_uri": "https://localhost:8080/"
        },
        "outputId": "5458dbc9-482f-4fed-d6ae-25f2e30d43a0"
      },
      "source": [
        "a = torch.ones(5)\n",
        "print(a)\n",
        "print(type(a))"
      ],
      "execution_count": 103,
      "outputs": [
        {
          "output_type": "stream",
          "name": "stdout",
          "text": [
            "tensor([1., 1., 1., 1., 1.])\n",
            "<class 'torch.Tensor'>\n"
          ]
        }
      ]
    },
    {
      "cell_type": "code",
      "metadata": {
        "id": "89Fgo3zG7Ul2",
        "colab": {
          "base_uri": "https://localhost:8080/"
        },
        "outputId": "71b66906-908f-4a42-ca9a-c4b5776b29e7"
      },
      "source": [
        "b = a.numpy()\n",
        "print(b)\n",
        "print(type(b))"
      ],
      "execution_count": 104,
      "outputs": [
        {
          "output_type": "stream",
          "name": "stdout",
          "text": [
            "[1. 1. 1. 1. 1.]\n",
            "<class 'numpy.ndarray'>\n"
          ]
        }
      ]
    },
    {
      "cell_type": "markdown",
      "metadata": {
        "id": "moOeDjDX7Ul8"
      },
      "source": [
        "Converting NumPy Array to Torch Tensor\n",
        "^^^^^^^^^^^^^^^^^^^^^^^^^^^^^^^^^^^^^^\n",
        "See how changing the np array changed the Torch Tensor automatically\n",
        "\n"
      ]
    },
    {
      "cell_type": "code",
      "metadata": {
        "id": "3drlU42Z7Ul8",
        "colab": {
          "base_uri": "https://localhost:8080/"
        },
        "outputId": "99f0e0d0-f1e7-41ed-8ce4-2cb803b31712"
      },
      "source": [
        "import numpy as np\n",
        "a = np.ones(5)\n",
        "b = torch.from_numpy(a)\n",
        "np.add(a, 1, out=a)\n",
        "print(a)\n",
        "print(b)"
      ],
      "execution_count": 105,
      "outputs": [
        {
          "output_type": "stream",
          "name": "stdout",
          "text": [
            "[2. 2. 2. 2. 2.]\n",
            "tensor([2., 2., 2., 2., 2.], dtype=torch.float64)\n"
          ]
        }
      ]
    },
    {
      "cell_type": "markdown",
      "metadata": {
        "id": "dV9pNX1k7Ul_"
      },
      "source": [
        "All the Tensors on the CPU except a CharTensor support converting to\n",
        "NumPy and back.\n",
        "\n",
        "CUDA Tensors\n",
        "------------\n",
        "\n",
        "Tensors can be moved onto any device using the ``.to`` method.\n",
        "\n"
      ]
    },
    {
      "cell_type": "code",
      "metadata": {
        "id": "DHOkMru77UmA",
        "colab": {
          "base_uri": "https://localhost:8080/"
        },
        "outputId": "059edd23-739a-4101-f719-4cb5e6176500"
      },
      "source": [
        "# let us run this cell only if CUDA is available\n",
        "# We will use ``torch.device`` objects to move tensors in and out of GPU\n",
        "if torch.cuda.is_available():\n",
        "    device = torch.device(\"cuda\")          # a CUDA device object\n",
        "    y = torch.ones_like(x, device=device)  # directly create a tensor on GPU\n",
        "    x = x.to(device)                       # or just use strings ``.to(\"cuda\")``\n",
        "    z = x + y\n",
        "    print(z)\n",
        "    print(z.dtype, z.device)\n",
        "    print(z.to(\"cpu\", torch.double))       # ``.to`` can also change dtype together!\n",
        "    print(z.device)"
      ],
      "execution_count": 106,
      "outputs": [
        {
          "output_type": "stream",
          "name": "stdout",
          "text": [
            "tensor([[[ 0.9797,  2.4557,  1.6741,  0.0448],\n",
            "         [ 1.5372,  2.0151,  2.3597,  1.4710],\n",
            "         [-0.3028,  0.8288,  0.5558,  0.6158]],\n",
            "\n",
            "        [[ 1.8422,  0.7358,  1.1464,  0.2497],\n",
            "         [ 0.2033,  2.5664, -0.2226, -0.3853],\n",
            "         [ 1.3374, -0.1332,  0.2352,  1.3682]]], device='cuda:0')\n",
            "torch.float32 cuda:0\n",
            "tensor([[[ 0.9797,  2.4557,  1.6741,  0.0448],\n",
            "         [ 1.5372,  2.0151,  2.3597,  1.4710],\n",
            "         [-0.3028,  0.8288,  0.5558,  0.6158]],\n",
            "\n",
            "        [[ 1.8422,  0.7358,  1.1464,  0.2497],\n",
            "         [ 0.2033,  2.5664, -0.2226, -0.3853],\n",
            "         [ 1.3374, -0.1332,  0.2352,  1.3682]]], dtype=torch.float64)\n",
            "cuda:0\n"
          ]
        }
      ]
    },
    {
      "cell_type": "code",
      "metadata": {
        "id": "dfgB6BUwP_q9",
        "colab": {
          "base_uri": "https://localhost:8080/"
        },
        "outputId": "917d8a0f-eb0c-4b95-ab94-24977ad7c5ea"
      },
      "source": [
        "print(z.to(\"cpu\").dtype)"
      ],
      "execution_count": 107,
      "outputs": [
        {
          "output_type": "stream",
          "name": "stdout",
          "text": [
            "torch.float32\n"
          ]
        }
      ]
    },
    {
      "cell_type": "code",
      "metadata": {
        "id": "6SQTOf3yQb2G",
        "colab": {
          "base_uri": "https://localhost:8080/"
        },
        "outputId": "c4c03215-ec46-413a-9e1d-b15f24a2cecf"
      },
      "source": [
        "print(z.to(\"cpu\").device)"
      ],
      "execution_count": 108,
      "outputs": [
        {
          "output_type": "stream",
          "name": "stdout",
          "text": [
            "cpu\n"
          ]
        }
      ]
    },
    {
      "cell_type": "code",
      "source": [
        ""
      ],
      "metadata": {
        "id": "LRU5GuttVS_1"
      },
      "execution_count": null,
      "outputs": []
    }
  ]
}
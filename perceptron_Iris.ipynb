{
  "nbformat": 4,
  "nbformat_minor": 0,
  "metadata": {
    "anaconda-cloud": {},
    "kernelspec": {
      "display_name": "Python [default]",
      "language": "python",
      "name": "python3"
    },
    "language_info": {
      "codemirror_mode": {
        "name": "ipython",
        "version": 3
      },
      "file_extension": ".py",
      "mimetype": "text/x-python",
      "name": "python",
      "nbconvert_exporter": "python",
      "pygments_lexer": "ipython3",
      "version": "3.5.2"
    },
    "colab": {
      "provenance": [],
      "collapsed_sections": [],
      "include_colab_link": true
    }
  },
  "cells": [
    {
      "cell_type": "markdown",
      "metadata": {
        "id": "view-in-github",
        "colab_type": "text"
      },
      "source": [
        "<a href=\"https://colab.research.google.com/github/skimaza/assist_ai/blob/main/perceptron_Iris.ipynb\" target=\"_parent\"><img src=\"https://colab.research.google.com/assets/colab-badge.svg\" alt=\"Open In Colab\"/></a>"
      ]
    },
    {
      "cell_type": "markdown",
      "metadata": {
        "id": "iDT4L18FkYhy"
      },
      "source": [
        "# 딥러닝의 이해\n",
        "# Perceptron 실습 예제\n",
        "# 붓꽃 분류 문제"
      ]
    },
    {
      "cell_type": "markdown",
      "metadata": {
        "id": "9mb_XMn10IT-"
      },
      "source": [
        "The original code comes from Sebastian Reschka's blog (http://sebastianraschka.com/Articles/2015_singlelayer_neurons.html).<br/>\n",
        "Slightly modified for the lecture. -skimaza"
      ]
    },
    {
      "cell_type": "markdown",
      "metadata": {
        "id": "t6XsJceflZ5a"
      },
      "source": [
        "# 라이브러리 import\n",
        "- numpy: number, 특히 다차원 배열을 다루는 라이브러리(패키지)\n",
        "- pandas: 데이터를 다양한 표 형태로 취급할 수 있는 패키지\n",
        "- matplotlib: 이미지와 그래프 표시"
      ]
    },
    {
      "cell_type": "code",
      "metadata": {
        "collapsed": true,
        "id": "Uo80Wyq_0IUB"
      },
      "source": [
        "import numpy as np\n",
        "import pandas as pd\n",
        "import matplotlib.pyplot as plt"
      ],
      "execution_count": null,
      "outputs": []
    },
    {
      "cell_type": "markdown",
      "metadata": {
        "id": "wD2rpQYnmVHx"
      },
      "source": [
        "# Colab으로 배정된 가상머신 확인"
      ]
    },
    {
      "cell_type": "markdown",
      "metadata": {
        "id": "dPzKpQlfmVFP"
      },
      "source": [
        "### 현재 디렉토리(폴더)\n",
        "### '!'로 시작하는 명령은 가상머신의 명령을 실행하라는 의미"
      ]
    },
    {
      "cell_type": "code",
      "metadata": {
        "id": "8_5QcwU0mlQl"
      },
      "source": [
        "!pwd"
      ],
      "execution_count": null,
      "outputs": []
    },
    {
      "cell_type": "markdown",
      "metadata": {
        "id": "LemgnEtimVAS"
      },
      "source": [
        "### 현재 디렉토리의 내용"
      ]
    },
    {
      "cell_type": "code",
      "metadata": {
        "id": "IbRORir7mqLa"
      },
      "source": [
        "!ls -l"
      ],
      "execution_count": null,
      "outputs": []
    },
    {
      "cell_type": "markdown",
      "metadata": {
        "id": "3oNkCO5zmU9u"
      },
      "source": [
        "### sample_data directory에는 Google Colab에서 기본으로 제공하는 데이터가 있음\n",
        "### (이번 특강에서 사용할 데이터는 아님)"
      ]
    },
    {
      "cell_type": "code",
      "metadata": {
        "id": "JU1aM8NSmz5G"
      },
      "source": [
        "!ls sample_data"
      ],
      "execution_count": null,
      "outputs": []
    },
    {
      "cell_type": "markdown",
      "metadata": {
        "id": "8ZuJpH1wmUw2"
      },
      "source": [
        "# 예제 코드"
      ]
    },
    {
      "cell_type": "code",
      "metadata": {
        "collapsed": true,
        "id": "u-O7RX6Q0IUC"
      },
      "source": [
        "weights = []\n",
        "errors_log = []\n",
        "epochs = 20\n",
        "eta = 0.01\n",
        "\n",
        "IRIS_DATA = \"iris.dat\" # Iris 데이터셋을 저장할 파일이름"
      ],
      "execution_count": null,
      "outputs": []
    },
    {
      "cell_type": "markdown",
      "metadata": {
        "id": "z2z5Mm3ZnDHJ"
      },
      "source": [
        "### os는 운영체제 관련 기능, urllib는 인터넷으로 데이터를 다운로드받기 위한 패키지\n",
        "### 인터넷에서 Iris 데이터셋을 다운로드하여 IRIS_DATA 파일에 저장"
      ]
    },
    {
      "cell_type": "code",
      "metadata": {
        "id": "G_McqBCZ0IUE"
      },
      "source": [
        "import os\n",
        "from urllib.request import urlopen\n",
        "\n",
        "if not os.path.exists(IRIS_DATA):\n",
        "    raw = urlopen('https://archive.ics.uci.edu/ml/machine-learning-databases/iris/iris.data').read()\n",
        "    with open(IRIS_DATA, \"wb\") as f:\n",
        "        f.write(raw)"
      ],
      "execution_count": null,
      "outputs": []
    },
    {
      "cell_type": "code",
      "metadata": {
        "id": "l7tfgnFTniHx"
      },
      "source": [
        "!ls -l"
      ],
      "execution_count": null,
      "outputs": []
    },
    {
      "cell_type": "markdown",
      "metadata": {
        "id": "n7NvsBz7nuhd"
      },
      "source": [
        "# pandas의 read_csv 명령을 사용하여 데이터를 pandas DataFrame 구조로 읽어들임"
      ]
    },
    {
      "cell_type": "code",
      "metadata": {
        "id": "Zl0WGOiX0IUF"
      },
      "source": [
        "df = pd.read_csv(IRIS_DATA, header=None)"
      ],
      "execution_count": null,
      "outputs": []
    },
    {
      "cell_type": "markdown",
      "source": [
        "150개의 데이터"
      ],
      "metadata": {
        "id": "pURrrcV8zZQs"
      }
    },
    {
      "cell_type": "code",
      "metadata": {
        "id": "0C0ZNL95Z2YL"
      },
      "source": [
        "df"
      ],
      "execution_count": null,
      "outputs": []
    },
    {
      "cell_type": "markdown",
      "metadata": {
        "id": "l5ep-puhaFU8"
      },
      "source": [
        "각 컬럼의 의미: 꽃받침 길이, 꽃받침 너비, 꽃잎 길이, 꽃잎 너비 (cm), 붓꽃 종류"
      ]
    },
    {
      "cell_type": "code",
      "metadata": {
        "id": "LvFVe0fBaPBz"
      },
      "source": [
        "df[4].values"
      ],
      "execution_count": null,
      "outputs": []
    },
    {
      "cell_type": "markdown",
      "source": [
        "setosa와 versicolor만 사용"
      ],
      "metadata": {
        "id": "xZmpGBek4Y4f"
      }
    },
    {
      "cell_type": "code",
      "metadata": {
        "id": "OvMNTBW_b07E"
      },
      "source": [
        "df.iloc[0:100, 4]"
      ],
      "execution_count": null,
      "outputs": []
    },
    {
      "cell_type": "code",
      "metadata": {
        "id": "i9RkN5gZb_IW"
      },
      "source": [
        "df.iloc[0:100, 4].values"
      ],
      "execution_count": null,
      "outputs": []
    },
    {
      "cell_type": "markdown",
      "source": [
        "X: 입력. 길이만 사용(0번, 2번 컬럼)  \n",
        "y: 종류(target). setosa는 -1, versicolor는 1로 지정"
      ],
      "metadata": {
        "id": "iXLl5sz54mzN"
      }
    },
    {
      "cell_type": "code",
      "metadata": {
        "collapsed": true,
        "id": "7Jc4k_sp0IUF"
      },
      "source": [
        "# setosa and versicolor\n",
        "y = np.asarray(df.iloc[0:100, 4].values)\n",
        "y = np.where(y == 'Iris-setosa', -1, 1)\n",
        "\n",
        "# sepal length and petal length\n",
        "X = np.asarray(df.iloc[0:100, [0,2]].values)"
      ],
      "execution_count": null,
      "outputs": []
    },
    {
      "cell_type": "code",
      "metadata": {
        "id": "RrvtPKVD0IUG"
      },
      "source": [
        "print(y)"
      ],
      "execution_count": null,
      "outputs": []
    },
    {
      "cell_type": "code",
      "metadata": {
        "id": "NvSz8vfV0IUH"
      },
      "source": [
        "print(X)"
      ],
      "execution_count": null,
      "outputs": []
    },
    {
      "cell_type": "code",
      "metadata": {
        "collapsed": true,
        "id": "Anxr5DIS0IUI"
      },
      "source": [
        "# Versicolor\n",
        "pos = X[[y == 1]]\n",
        "# Setosa\n",
        "neg = X[[y == -1]]"
      ],
      "execution_count": null,
      "outputs": []
    },
    {
      "cell_type": "code",
      "source": [
        "pos.shape"
      ],
      "metadata": {
        "id": "o-LeSgwouWm7"
      },
      "execution_count": null,
      "outputs": []
    },
    {
      "cell_type": "code",
      "source": [
        "pos[:5]"
      ],
      "metadata": {
        "id": "pSJBPiOiuSh6"
      },
      "execution_count": null,
      "outputs": []
    },
    {
      "cell_type": "code",
      "source": [
        "neg.shape"
      ],
      "metadata": {
        "id": "zeJfRxQkugPK"
      },
      "execution_count": null,
      "outputs": []
    },
    {
      "cell_type": "code",
      "source": [
        "neg[:5]"
      ],
      "metadata": {
        "id": "vdvYzTG5uizR"
      },
      "execution_count": null,
      "outputs": []
    },
    {
      "cell_type": "markdown",
      "source": [
        "Warning을 피하려면 tuple을 적용"
      ],
      "metadata": {
        "id": "MJ4Ek-Vy65SN"
      }
    },
    {
      "cell_type": "code",
      "source": [
        "# Versicolor\n",
        "pos1 = X[tuple([y == 1])]\n",
        "# Setosa\n",
        "neg1 = X[tuple([y == -1])]"
      ],
      "metadata": {
        "id": "LbqXeeqG6BXr"
      },
      "execution_count": null,
      "outputs": []
    },
    {
      "cell_type": "code",
      "metadata": {
        "id": "L0HQlNkw0IUI"
      },
      "source": [
        "print(pos)"
      ],
      "execution_count": null,
      "outputs": []
    },
    {
      "cell_type": "code",
      "metadata": {
        "id": "3SaHhqi20IUI"
      },
      "source": [
        "print(neg)"
      ],
      "execution_count": null,
      "outputs": []
    },
    {
      "cell_type": "code",
      "metadata": {
        "id": "Gs4v8H0B0IUJ"
      },
      "source": [
        "# versicolor with blue dots and setosa with red dots\n",
        "plt.scatter(pos[:,0], pos[:, 1], color='blue', label=\"pos\")\n",
        "plt.scatter(neg[:,0], neg[:, 1], color='red', label=\"neg\")\n",
        "plt.xlabel(\"x1\")\n",
        "plt.ylabel(\"x2\")\n",
        "plt.legend(loc=2, scatterpoints=1, fontsize=10)"
      ],
      "execution_count": null,
      "outputs": []
    },
    {
      "cell_type": "code",
      "metadata": {
        "collapsed": true,
        "id": "daf08aSl0IUJ"
      },
      "source": [
        "def train(X, y, epochs=epochs, eta=eta):\n",
        "    global weights\n",
        "    global errors_log\n",
        "    weights = np.zeros(1 + X.shape[1])\n",
        "    print(\"Initial weights\", weights)\n",
        "    errors_log = []\n",
        "\n",
        "    for i in range(epochs):\n",
        "        errors = 0\n",
        "        print(\"EPOCHS\", i+1)\n",
        "        for xi, target in zip(X, y):\n",
        "            update = eta * (target - predict(xi))\n",
        "            #print(xi, \"target\", target, \"sum\", net_input(xi), \"update\", update)\n",
        "            if update != 0:\n",
        "                weights[1:] +=  update * xi\n",
        "                weights[0] +=  update\n",
        "                print(\"Updated WEIGHTS\", weights)\n",
        "                errors += int(update != 0.0)\n",
        "        errors_log.append(errors)\n",
        "    return\n",
        "\n",
        "def net_input(X):\n",
        "    global weights\n",
        "    return np.dot(X, weights[1:]) + weights[0]\n",
        "\n",
        "def predict(X):\n",
        "    return np.where(net_input(X) > 0.0, 1, -1)"
      ],
      "execution_count": null,
      "outputs": []
    },
    {
      "cell_type": "code",
      "metadata": {
        "id": "tmGsfxDp0IUK"
      },
      "source": [
        "train(X, y)"
      ],
      "execution_count": null,
      "outputs": []
    },
    {
      "cell_type": "code",
      "metadata": {
        "id": "u-Kl9xaV0IUL"
      },
      "source": [
        "print(errors_log)"
      ],
      "execution_count": null,
      "outputs": []
    },
    {
      "cell_type": "code",
      "metadata": {
        "id": "I0E_i3WG0IUL"
      },
      "source": [
        "print(weights)"
      ],
      "execution_count": null,
      "outputs": []
    },
    {
      "cell_type": "markdown",
      "metadata": {
        "id": "jRLg8XlwfaFj"
      },
      "source": [
        "$w_{1}x_{1} + w_{2}x_{2} + w_{0} = 0$  \n",
        "$x_{2} = - \\frac{w_{1}}{w_{2}}x_{1} - \\frac{w_{0}}{w_{2}}$"
      ]
    },
    {
      "cell_type": "code",
      "metadata": {
        "id": "-JwE4tS30IUL"
      },
      "source": [
        "\n",
        "fig = plt.figure()\n",
        "ax = fig.add_subplot(111)\n",
        "\n",
        "# draw between 4 and 7 of x1\n",
        "point_x = np.array([4, 7])\n",
        "# x2 = -(w0 + w1 * x1) / w2\n",
        "point_y = np.array([- (weights[0] + weights[1] * 4) / weights[2], - (weights[0] + weights[1] * 7) / weights[2]])\n",
        "line, = ax.plot(point_x, point_y, 'b-', picker=5)\n",
        "\n",
        "ax.scatter(pos[:,0], pos[:, 1], color='blue', label=\"pos\")\n",
        "ax.scatter(neg[:,0], neg[:, 1], color='red', label=\"neg\")\n",
        "plt.xlabel(\"x1\")\n",
        "plt.ylabel(\"x2\")\n",
        "plt.legend(loc=2, scatterpoints=1, fontsize=10)\n",
        "\n",
        "plt.show()"
      ],
      "execution_count": null,
      "outputs": []
    },
    {
      "cell_type": "code",
      "metadata": {
        "collapsed": true,
        "id": "r5xDPH6d0IUM"
      },
      "source": [],
      "execution_count": null,
      "outputs": []
    }
  ]
}
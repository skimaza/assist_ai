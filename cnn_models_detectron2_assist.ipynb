{
  "cells": [
    {
      "cell_type": "markdown",
      "metadata": {
        "id": "view-in-github",
        "colab_type": "text"
      },
      "source": [
        "<a href=\"https://colab.research.google.com/github/skimaza/assist_ai/blob/main/cnn_models_detectron2_assist.ipynb\" target=\"_parent\"><img src=\"https://colab.research.google.com/assets/colab-badge.svg\" alt=\"Open In Colab\"/></a>"
      ]
    },
    {
      "cell_type": "markdown",
      "metadata": {
        "id": "XAY5tl7NFi_K"
      },
      "source": [
        "# 딥러닝의 이해\n",
        "# CNN 모델 - Facebook Detectron2 예제\n",
        "## Detectron2 소스 : https://github.com/facebookresearch/detectron2\n",
        "## https://towardsdatascience.com/a-beginners-guide-to-object-detection-and-computer-vision-with-facebook-s-detectron2-700b6273390e 예제를 강좌에 맞춰 수정"
      ]
    },
    {
      "cell_type": "markdown",
      "metadata": {
        "id": "TrdUm22uGJ52"
      },
      "source": [
        "# MS COCO dataset 을 이용하기 위한 코드 설치\n",
        "MS COCO는 마이크로소프트에서 만든 객체 인식, 탐지, 세그멘테이션 데이터셋  \n",
        "Common Objects in Context (https://cocodataset.org)  \n",
        "객체 클래스는 80개"
      ]
    },
    {
      "cell_type": "markdown",
      "metadata": {
        "id": "MZ8K-vq3AV0K"
      },
      "source": [
        "Colab에 기본으로 포함되지 않은 패키지는 shell command로 설치해야 함  \n",
        "pip (Preferred Installer Program)  \n",
        "파이썬 패키지에 포함된 기본 설치 프로그램"
      ]
    },
    {
      "cell_type": "code",
      "source": [
        "import warnings\n",
        "warnings.filterwarnings(action='ignore')"
      ],
      "metadata": {
        "id": "nA-MSVrg_Siv"
      },
      "execution_count": null,
      "outputs": []
    },
    {
      "cell_type": "code",
      "execution_count": null,
      "metadata": {
        "id": "jlynqpG03EMF"
      },
      "outputs": [],
      "source": [
        "!pip uninstall flask -y"
      ]
    },
    {
      "cell_type": "code",
      "execution_count": null,
      "metadata": {
        "id": "HbSAeKA53JfU"
      },
      "outputs": [],
      "source": [
        "#!python -m pip install pyyaml==5.1\n",
        "!python -m pip install pyyaml==5.3.1\n"
      ]
    },
    {
      "cell_type": "code",
      "execution_count": null,
      "metadata": {
        "id": "9FeLHPEH850N"
      },
      "outputs": [],
      "source": [
        "import sys, os, distutils.core\n",
        "# Note: This is a faster way to install detectron2 in Colab, but it does not include all functionalities.\n",
        "# See https://detectron2.readthedocs.io/tutorials/install.html for full installation instructions\n",
        "!git clone 'https://github.com/facebookresearch/detectron2'\n"
      ]
    },
    {
      "cell_type": "code",
      "execution_count": null,
      "metadata": {
        "id": "HLpJaRI-8-Py"
      },
      "outputs": [],
      "source": [
        "dist = distutils.core.run_setup(\"./detectron2/setup.py\")\n"
      ]
    },
    {
      "cell_type": "code",
      "execution_count": null,
      "metadata": {
        "id": "3yCNVMjf8_ny"
      },
      "outputs": [],
      "source": [
        "!python -m pip install {' '.join([f\"'{x}'\" for x in dist.install_requires])}\n"
      ]
    },
    {
      "cell_type": "code",
      "execution_count": null,
      "metadata": {
        "id": "V-5Le1Fg9AtK"
      },
      "outputs": [],
      "source": [
        "sys.path.insert(0, os.path.abspath('./detectron2'))\n",
        "\n",
        "# Properly install detectron2. (Please do not install twice in both ways)\n",
        "# !python -m pip install 'git+https://github.com/facebookresearch/detectron2.git'"
      ]
    },
    {
      "cell_type": "code",
      "execution_count": null,
      "metadata": {
        "id": "1vMJH5cYQmRd"
      },
      "outputs": [],
      "source": [
        "#!pip install -U 'git+https://github.com/cocodataset/cocoapi.git#subdirectory=PythonAPI'"
      ]
    },
    {
      "cell_type": "markdown",
      "metadata": {
        "id": "M4oJTwuU-UeB"
      },
      "source": [
        "## Detectron2 설치\n"
      ]
    },
    {
      "cell_type": "code",
      "execution_count": null,
      "metadata": {
        "id": "diK4Wn0y8yne"
      },
      "outputs": [],
      "source": [
        "#!python -m pip install 'git+https://github.com/facebookresearch/detectron2.git'"
      ]
    },
    {
      "cell_type": "markdown",
      "metadata": {
        "id": "iM_tG83NGmvk"
      },
      "source": [
        "# 필요한 패키지 import"
      ]
    },
    {
      "cell_type": "code",
      "execution_count": null,
      "metadata": {
        "id": "CCNXkyXj8Wul"
      },
      "outputs": [],
      "source": [
        "import numpy as np\n",
        "import cv2\n",
        "import random\n",
        "from google.colab.patches import cv2_imshow # On your local machine you don’t need it.\n",
        "import json\n",
        "# import some common detectron2 utilities\n",
        "from detectron2 import model_zoo\n",
        "from detectron2.engine import DefaultPredictor\n",
        "from detectron2.config import get_cfg\n",
        "from detectron2.utils.visualizer import Visualizer\n",
        "from detectron2.data import MetadataCatalog\n",
        "from google.colab.patches import cv2_imshow"
      ]
    },
    {
      "cell_type": "markdown",
      "metadata": {
        "id": "qhkUWxTKCI68"
      },
      "source": [
        "**from google.colab.patches import cv2_imshow**  \n",
        "\n",
        "OpenCV의 이미지 디스플레이 함수인 cv2.imshow() 함수가 colab과 호환되지 않음.  \n",
        "Google에서 cv2_imshow라는 함수를 정의해서 동일한 기능을 제공하고 있음  \n",
        "(주의) '.' 대신 '_'로 연결되어 있음"
      ]
    },
    {
      "cell_type": "markdown",
      "metadata": {
        "id": "GfxFT_AoGvIs"
      },
      "source": [
        "# 샘플이미지 다운로드"
      ]
    },
    {
      "cell_type": "markdown",
      "metadata": {
        "id": "vylp8YSRA9VZ"
      },
      "source": [
        "인터넷 URL을 로컬 컴퓨터에 다운로드할 때는 wget 명령 사용  \n",
        "-O 옵션으로 저장할 파일이름 지정"
      ]
    },
    {
      "cell_type": "code",
      "execution_count": null,
      "metadata": {
        "id": "BsDX7G5BABFI"
      },
      "outputs": [],
      "source": [
        "!wget https://miro.medium.com/max/2000/1*sxjvURCdHBC0MkuZkPnIkQ.png -O street.png"
      ]
    },
    {
      "cell_type": "code",
      "execution_count": null,
      "metadata": {
        "id": "3o5nprZ--xWJ"
      },
      "outputs": [],
      "source": [
        "im = cv2.imread('street.png')\n",
        "cv2_imshow(im)"
      ]
    },
    {
      "cell_type": "markdown",
      "metadata": {
        "id": "-jV2uwscHZwH"
      },
      "source": [
        "# Configuration 확인"
      ]
    },
    {
      "cell_type": "code",
      "execution_count": null,
      "metadata": {
        "id": "5ZluNAvgAkUP"
      },
      "outputs": [],
      "source": [
        "cfg = get_cfg()"
      ]
    },
    {
      "cell_type": "code",
      "execution_count": null,
      "metadata": {
        "id": "hz1Z_fmnAtsw"
      },
      "outputs": [],
      "source": [
        "#cfg"
      ]
    },
    {
      "cell_type": "code",
      "execution_count": null,
      "metadata": {
        "id": "Yzc1qOwOHwZ0"
      },
      "outputs": [],
      "source": [
        "cfg.VERSION"
      ]
    },
    {
      "cell_type": "code",
      "execution_count": null,
      "metadata": {
        "id": "fsbu54JyAuS_"
      },
      "outputs": [],
      "source": [
        "cfg.merge_from_file(model_zoo.get_config_file('COCO-InstanceSegmentation/mask_rcnn_R_50_FPN_3x.yaml'))"
      ]
    },
    {
      "cell_type": "code",
      "execution_count": null,
      "metadata": {
        "id": "Tilv8QibA0hp"
      },
      "outputs": [],
      "source": [
        "cfg.MODEL.ROI_HEADS.SCORE_THRESH_TEST = 0.5 # set threshold for this model"
      ]
    },
    {
      "cell_type": "code",
      "execution_count": null,
      "metadata": {
        "id": "zGKVb-wDBTiZ"
      },
      "outputs": [],
      "source": [
        "cfg.MODEL.WEIGHTS = model_zoo.get_checkpoint_url('COCO-InstanceSegmentation/mask_rcnn_R_50_FPN_3x.yaml')"
      ]
    },
    {
      "cell_type": "code",
      "execution_count": null,
      "metadata": {
        "id": "mXQl-FtJVESR"
      },
      "outputs": [],
      "source": [
        "cfg.MODEL.DEVICE"
      ]
    },
    {
      "cell_type": "code",
      "execution_count": null,
      "metadata": {
        "id": "7qDwLwHqXsBY"
      },
      "outputs": [],
      "source": [
        "cfg.MODEL.META_ARCHITECTURE"
      ]
    },
    {
      "cell_type": "markdown",
      "metadata": {
        "id": "UF_45OIWi84E"
      },
      "source": [
        "# GPU 사용 여부에 따라 configuration이 달라짐\n",
        "## Colab에서 GPU 할당받았는지 확인하고 configuration을 맞춰줌\n",
        "## 디폴트는 DEVICE가 'gpu'로 설정되어 있음"
      ]
    },
    {
      "cell_type": "code",
      "execution_count": null,
      "metadata": {
        "id": "dYeOMgezh1b3"
      },
      "outputs": [],
      "source": [
        "import os\n",
        "\n",
        "def check_cpu_mode():\n",
        "    if (int(os.environ[\"COLAB_GPU\"]) > 0):\n",
        "        return False\n",
        "    elif (\"COLAB_TPU_ADDR\" in os.environ and os.environ[\"COLAB_TPU_ADDR\"]):\n",
        "        return False\n",
        "    else:\n",
        "        return True"
      ]
    },
    {
      "cell_type": "code",
      "execution_count": null,
      "metadata": {
        "id": "W_YiBltAiqy5"
      },
      "outputs": [],
      "source": [
        "if check_cpu_mode():\n",
        "    cfg.MODEL.DEVICE = 'cpu'"
      ]
    },
    {
      "cell_type": "code",
      "execution_count": null,
      "metadata": {
        "id": "I3B6owjZfpBi"
      },
      "outputs": [],
      "source": [
        "cfg.MODEL.DEVICE"
      ]
    },
    {
      "cell_type": "code",
      "execution_count": null,
      "metadata": {
        "id": "32vId4vlBXWe"
      },
      "outputs": [],
      "source": [
        "predictor = DefaultPredictor(cfg)"
      ]
    },
    {
      "cell_type": "markdown",
      "metadata": {
        "id": "1HT_Svdmjaq7"
      },
      "source": [
        "# predictor model의 구성 살펴보기"
      ]
    },
    {
      "cell_type": "code",
      "execution_count": null,
      "metadata": {
        "id": "_2T-O-9HZUBg"
      },
      "outputs": [],
      "source": [
        "predictor.model"
      ]
    },
    {
      "cell_type": "code",
      "execution_count": null,
      "metadata": {
        "id": "ue1TqWJHaNv3"
      },
      "outputs": [],
      "source": [
        "predictor.model.backbone"
      ]
    },
    {
      "cell_type": "code",
      "execution_count": null,
      "metadata": {
        "id": "0o7Fb5Vsag9B"
      },
      "outputs": [],
      "source": [
        "predictor.model.proposal_generator"
      ]
    },
    {
      "cell_type": "code",
      "execution_count": null,
      "metadata": {
        "id": "KuoWRugGa9f6"
      },
      "outputs": [],
      "source": [
        "predictor.model.roi_heads"
      ]
    },
    {
      "cell_type": "markdown",
      "metadata": {
        "id": "pe9QPPTQjk8F"
      },
      "source": [
        "# 이미지의 색상 포맷\n",
        "## 디폴트가 BGR임"
      ]
    },
    {
      "cell_type": "code",
      "execution_count": null,
      "metadata": {
        "id": "h_zBKk1zWDTn"
      },
      "outputs": [],
      "source": [
        "cfg.INPUT.FORMAT"
      ]
    },
    {
      "cell_type": "markdown",
      "metadata": {
        "id": "cVxYZMDmbZgI"
      },
      "source": [
        "# 이미지에서 객체 탐지"
      ]
    },
    {
      "cell_type": "code",
      "execution_count": null,
      "metadata": {
        "id": "v5Kokq76Vvol"
      },
      "outputs": [],
      "source": [
        "outputs = predictor(im)"
      ]
    },
    {
      "cell_type": "code",
      "execution_count": null,
      "metadata": {
        "id": "7HsknGRABZ7w"
      },
      "outputs": [],
      "source": [
        "outputs.keys()"
      ]
    },
    {
      "cell_type": "markdown",
      "metadata": {
        "id": "FtMPkjYN44Qx"
      },
      "source": [
        "# 결과부터 보기"
      ]
    },
    {
      "cell_type": "code",
      "execution_count": null,
      "metadata": {
        "id": "P15oRCG0422T"
      },
      "outputs": [],
      "source": [
        "v = Visualizer(im, MetadataCatalog.get(cfg.DATASETS.TRAIN[0]))\n",
        "v = v.draw_instance_predictions(outputs['instances'].to('cpu'))\n",
        "cv2_imshow(v.get_image())"
      ]
    },
    {
      "cell_type": "markdown",
      "metadata": {
        "id": "DEFVRf4Sbg_R"
      },
      "source": [
        "# 탐지된 객체 리스트"
      ]
    },
    {
      "cell_type": "code",
      "execution_count": null,
      "metadata": {
        "id": "u3gzJmQQDPpN"
      },
      "outputs": [],
      "source": [
        "instances = outputs['instances']"
      ]
    },
    {
      "cell_type": "code",
      "execution_count": null,
      "metadata": {
        "id": "oa00CoCpBhyq"
      },
      "outputs": [],
      "source": [
        "len(instances)"
      ]
    },
    {
      "cell_type": "code",
      "execution_count": null,
      "metadata": {
        "id": "ArS5W5TDJsBS"
      },
      "outputs": [],
      "source": [
        "instances[0]"
      ]
    },
    {
      "cell_type": "code",
      "execution_count": null,
      "metadata": {
        "id": "QfPkfl4wkAgM"
      },
      "outputs": [],
      "source": [
        "instances[0].pred_masks.shape"
      ]
    },
    {
      "cell_type": "code",
      "execution_count": null,
      "metadata": {
        "id": "6l9uOIXdlDVt"
      },
      "outputs": [],
      "source": [
        "instances[0].pred_masks.nonzero()"
      ]
    },
    {
      "cell_type": "markdown",
      "metadata": {
        "id": "WbTp3ONN6hXI"
      },
      "source": [
        "첫번 인스턴스의 영역중 일부인 [513:583, 637:654] 의 이미지 확인"
      ]
    },
    {
      "cell_type": "code",
      "execution_count": null,
      "metadata": {
        "id": "vOaCceXQkIRj"
      },
      "outputs": [],
      "source": [
        "cv2_imshow(im[510:590, 630:660])"
      ]
    },
    {
      "cell_type": "markdown",
      "metadata": {
        "id": "mMjVXeOZkR4E"
      },
      "source": [
        "## pred_masks는 탐지된 객체의 픽셀"
      ]
    },
    {
      "cell_type": "code",
      "execution_count": null,
      "metadata": {
        "id": "QPkbCsqnBuUb"
      },
      "outputs": [],
      "source": [
        "instances.pred_classes, instances.pred_classes.size()"
      ]
    },
    {
      "cell_type": "markdown",
      "metadata": {
        "id": "jRqwplTXguwD"
      },
      "source": [
        "31개의 객체 탐지. pred_classes는 각 인스턴스의 클래스. 즉 첫번째 인스턴스는 2번 클래스, 두번째 인스턴스는 0번 클래스, ..."
      ]
    },
    {
      "cell_type": "code",
      "execution_count": null,
      "metadata": {
        "id": "b0Hpz3u2DaTc"
      },
      "outputs": [],
      "source": [
        "instances.scores, instances.scores.size()"
      ]
    },
    {
      "cell_type": "markdown",
      "metadata": {
        "id": "FDAUqIRjmnbJ"
      },
      "source": [
        "# 객체 클래스 확인"
      ]
    },
    {
      "cell_type": "code",
      "execution_count": null,
      "metadata": {
        "id": "e6_7gZXEmQdv"
      },
      "outputs": [],
      "source": [
        "metadata = MetadataCatalog.get(cfg.DATASETS.TRAIN[0])\n",
        "metadata"
      ]
    },
    {
      "cell_type": "code",
      "execution_count": null,
      "metadata": {
        "id": "ZVUHIjSmmbgf"
      },
      "outputs": [],
      "source": [
        "class_catalog = metadata.thing_classes"
      ]
    },
    {
      "cell_type": "code",
      "execution_count": null,
      "metadata": {
        "id": "NzsKxBBkmkBA"
      },
      "outputs": [],
      "source": [
        "class_catalog[2]"
      ]
    },
    {
      "cell_type": "code",
      "execution_count": null,
      "metadata": {
        "id": "q-ukZOKrgnVO"
      },
      "outputs": [],
      "source": [
        "class_catalog[0]"
      ]
    },
    {
      "cell_type": "code",
      "execution_count": null,
      "metadata": {
        "id": "y7R5tROAgkue"
      },
      "outputs": [],
      "source": [
        "class_catalog[7]"
      ]
    },
    {
      "cell_type": "code",
      "execution_count": null,
      "metadata": {
        "id": "bIqITML_gpbI"
      },
      "outputs": [],
      "source": [
        "class_catalog[3]"
      ]
    },
    {
      "cell_type": "code",
      "execution_count": null,
      "metadata": {
        "id": "A3wG7KJhmtMl"
      },
      "outputs": [],
      "source": [
        "len(class_catalog)"
      ]
    },
    {
      "cell_type": "code",
      "execution_count": null,
      "metadata": {
        "id": "or45Hw8iJ8cK"
      },
      "outputs": [],
      "source": [
        "instances.pred_boxes, len(instances.pred_boxes)"
      ]
    },
    {
      "cell_type": "markdown",
      "metadata": {
        "id": "UdeK4DjJ6_ZP"
      },
      "source": [
        "첫번째 박스 영역 보기"
      ]
    },
    {
      "cell_type": "code",
      "execution_count": null,
      "metadata": {
        "id": "H5Xkd9wxiOb5"
      },
      "outputs": [],
      "source": [
        "instances.pred_boxes[0]"
      ]
    },
    {
      "cell_type": "markdown",
      "metadata": {
        "id": "dEJXnDtgiQ4_"
      },
      "source": [
        "위 결과는 graphics 좌표계임에 주의 (왼쪽 위가 0,0이고 x축이 수평, y축이 수직).  \n",
        "numpy image array는 row가 수직, column이 수평 좌표.  \n",
        "따라서 첫번 좌표 (604, 511)는 image에서는 im[511, 604]임  \n",
        "첫번 box의 numpy array상의 데이터는 [511:584, 604:702]에 해당.  "
      ]
    },
    {
      "cell_type": "code",
      "execution_count": null,
      "metadata": {
        "id": "6nKKJdfcoKLm"
      },
      "outputs": [],
      "source": [
        "cv2_imshow(im[511:584, 604:703])"
      ]
    },
    {
      "cell_type": "markdown",
      "metadata": {
        "id": "cGCOoslZkJm_"
      },
      "source": [
        "전체 결과 표시는 Visualizer를 사용하여 확인"
      ]
    },
    {
      "cell_type": "code",
      "execution_count": null,
      "metadata": {
        "id": "YwUSQ86vJ3nu"
      },
      "outputs": [],
      "source": [
        "v = Visualizer(im, MetadataCatalog.get(cfg.DATASETS.TRAIN[0]))\n",
        "v = v.draw_instance_predictions(outputs['instances'].to('cpu'))\n",
        "cv2_imshow(v.get_image())"
      ]
    },
    {
      "cell_type": "markdown",
      "metadata": {
        "id": "Ln-ZQyiVpVQR"
      },
      "source": [
        "# 다른 이미지로 테스트"
      ]
    },
    {
      "cell_type": "markdown",
      "metadata": {
        "id": "bUaGgd4wphay"
      },
      "source": [
        "https://nypost.com/wp-content/uploads/sites/2/2017/12/nyc-streets.jpg"
      ]
    },
    {
      "cell_type": "code",
      "execution_count": null,
      "metadata": {
        "id": "m09BvOQkKSn-"
      },
      "outputs": [],
      "source": [
        "!wget https://nypost.com/wp-content/uploads/sites/2/2017/12/nyc-streets.jpg -O street2.jpg"
      ]
    },
    {
      "cell_type": "code",
      "execution_count": null,
      "metadata": {
        "id": "ArvMOB6EdErz"
      },
      "outputs": [],
      "source": [
        "!ls -l"
      ]
    },
    {
      "cell_type": "code",
      "execution_count": null,
      "metadata": {
        "id": "rTWST3lfc39o"
      },
      "outputs": [],
      "source": [
        "im2 = cv2.imread('street2.jpg')\n",
        "cv2_imshow(im2)"
      ]
    },
    {
      "cell_type": "code",
      "execution_count": null,
      "metadata": {
        "id": "dAvA1Ky8dCuI"
      },
      "outputs": [],
      "source": [
        "outputs2 = predictor(im2)\n",
        "instances2 = outputs2['instances']\n",
        "\n",
        "v2 = Visualizer(im2, MetadataCatalog.get(cfg.DATASETS.TRAIN[0]))\n",
        "v2 = v2.draw_instance_predictions(outputs2['instances'].to('cpu'))\n",
        "cv2_imshow(v2.get_image())"
      ]
    },
    {
      "cell_type": "markdown",
      "metadata": {
        "id": "jKI_MiqetMAS"
      },
      "source": [
        "https://media.timeout.com/images/102973595/750/422/image.jpg"
      ]
    },
    {
      "cell_type": "code",
      "execution_count": null,
      "metadata": {
        "id": "qmLJFSJ9rlLY"
      },
      "outputs": [],
      "source": [
        "!wget https://media.timeout.com/images/102973595/750/422/image.jpg -O living_room1.jpg"
      ]
    },
    {
      "cell_type": "code",
      "execution_count": null,
      "metadata": {
        "id": "rac7NLPwtfhq"
      },
      "outputs": [],
      "source": [
        "!ls -l"
      ]
    },
    {
      "cell_type": "code",
      "execution_count": null,
      "metadata": {
        "id": "rKkjhUCBtgtu"
      },
      "outputs": [],
      "source": [
        "im2 = cv2.imread('living_room1.jpg')\n",
        "cv2_imshow(im2)"
      ]
    },
    {
      "cell_type": "code",
      "execution_count": null,
      "metadata": {
        "id": "-z1HScSbtmcM"
      },
      "outputs": [],
      "source": [
        "outputs2 = predictor(im2)\n",
        "instances2 = outputs2['instances']\n",
        "\n",
        "v2 = Visualizer(im2, MetadataCatalog.get(cfg.DATASETS.TRAIN[0]))\n",
        "v2 = v2.draw_instance_predictions(outputs2['instances'].to('cpu'))\n",
        "cv2_imshow(v2.get_image())"
      ]
    },
    {
      "cell_type": "code",
      "execution_count": null,
      "metadata": {
        "id": "iBWFjy2Rtttc"
      },
      "outputs": [],
      "source": [
        "# v2 = Visualizer(im2, MetadataCatalog.get(cfg.DATASETS.TRAIN[0]), scale=1.5)\n",
        "# v2 = v2.draw_instance_predictions(outputs2['instances'].to('cpu'))\n",
        "# cv2_imshow(v2.get_image())"
      ]
    },
    {
      "cell_type": "code",
      "execution_count": null,
      "metadata": {
        "id": "WnDEbRyXt4nr"
      },
      "outputs": [],
      "source": []
    }
  ],
  "metadata": {
    "accelerator": "GPU",
    "colab": {
      "collapsed_sections": [],
      "provenance": [],
      "authorship_tag": "ABX9TyMGC8WBJz7DdE6cpaFBFbJb",
      "include_colab_link": true
    },
    "kernelspec": {
      "display_name": "Python 3",
      "name": "python3"
    },
    "language_info": {
      "name": "python"
    }
  },
  "nbformat": 4,
  "nbformat_minor": 0
}
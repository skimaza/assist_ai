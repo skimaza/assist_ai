{
  "cells": [
    {
      "cell_type": "markdown",
      "metadata": {
        "id": "view-in-github",
        "colab_type": "text"
      },
      "source": [
        "<a href=\"https://colab.research.google.com/github/skimaza/assist_ai/blob/main/mlp_regression.ipynb\" target=\"_parent\"><img src=\"https://colab.research.google.com/assets/colab-badge.svg\" alt=\"Open In Colab\"/></a>"
      ]
    },
    {
      "cell_type": "markdown",
      "source": [
        "# 딥러닝의 이해\n",
        "# MLP Regression"
      ],
      "metadata": {
        "id": "qYGhmPJ7PpTP"
      }
    },
    {
      "cell_type": "markdown",
      "metadata": {
        "id": "U-TUag4xuLFR"
      },
      "source": [
        "# https://medium.com/@benjamin.phillips22/simple-regression-with-neural-networks-in-pytorch-313f06910379\n"
      ]
    },
    {
      "cell_type": "code",
      "execution_count": null,
      "metadata": {
        "id": "EIkBa3DTNiXy"
      },
      "outputs": [],
      "source": [
        "import torch\n",
        "from torch.autograd import Variable\n",
        "import torch.nn.functional as F\n",
        "import torch.utils.data as Data\n",
        "\n",
        "import matplotlib.pyplot as plt\n",
        "\n",
        "import numpy as np\n",
        "import imageio\n",
        "from IPython.display import Image"
      ]
    },
    {
      "cell_type": "code",
      "execution_count": null,
      "metadata": {
        "id": "QssKygRLx9f5"
      },
      "outputs": [],
      "source": [
        "torch.manual_seed(1)    # 실행할 때마다 같은 결과를 내기 위해 random seed를 고정\n",
        "\n",
        "x = torch.unsqueeze(torch.linspace(-1, 1, 100), dim=1)  # x data (tensor), shape=(100, 1)\n",
        "y = x.pow(2) + 0.2*torch.rand(x.size())                 # noisy y data (tensor), shape=(100, 1)\n",
        "\n",
        "figsize = (10,5)\n",
        "# view data\n",
        "plt.figure(figsize=figsize)\n",
        "plt.scatter(x.data.numpy(), y.data.numpy(), color = \"orange\")\n",
        "plt.title('Regression Analysis Training Data')\n",
        "plt.xlabel('Independent varible (x)')\n",
        "plt.ylabel('Dependent varible (y)')\n",
        "plt.show()\n",
        "\n"
      ]
    },
    {
      "cell_type": "code",
      "source": [
        "# this is one way to define a network\n",
        "class Net(torch.nn.Module):\n",
        "    def __init__(self, n_feature, n_hidden, n_output):\n",
        "        super(Net, self).__init__()\n",
        "        self.hidden = torch.nn.Linear(n_feature, n_hidden)   # hidden layer\n",
        "        self.predict = torch.nn.Linear(n_hidden, n_output)   # output layer\n",
        "\n",
        "    def forward(self, x):\n",
        "        x = F.relu(self.hidden(x))      # activation function for hidden layer\n",
        "        x = self.predict(x)             # linear output\n",
        "        return x\n"
      ],
      "metadata": {
        "id": "6bqr1VosxEiI"
      },
      "execution_count": null,
      "outputs": []
    },
    {
      "cell_type": "code",
      "source": [
        "\n",
        "net = Net(n_feature=1, n_hidden=10, n_output=1)     # define the network\n",
        "# print(net)  # net architecture\n",
        "optimizer = torch.optim.SGD(net.parameters(), lr=0.2)\n",
        "loss_func = torch.nn.MSELoss()  # this is for regression mean squared loss\n"
      ],
      "metadata": {
        "id": "qiaIs9paxLh1"
      },
      "execution_count": null,
      "outputs": []
    },
    {
      "cell_type": "code",
      "source": [
        "\n",
        "my_images = []\n",
        "fig, ax = plt.subplots(figsize=figsize)\n",
        "\n",
        "# train the network\n",
        "for t in range(200):\n",
        "    print('epoch', t)\n",
        "    prediction = net(x)     # input x and predict based on x\n",
        "\n",
        "    loss = loss_func(prediction, y)     # must be (1. nn output, 2. target)\n",
        "\n",
        "    optimizer.zero_grad()   # clear gradients for next train\n",
        "    loss.backward()         # backpropagation, compute gradients\n",
        "    optimizer.step()        # apply gradients\n",
        "    \n",
        "    # plot and show learning process\n",
        "    plt.cla()\n",
        "    ax.set_title('Regression Analysis', fontsize=24)\n",
        "    ax.set_xlabel('Independent variable (x)', fontsize=18)\n",
        "    ax.set_ylabel('Dependent variable (y)', fontsize=18)\n",
        "    ax.set_xlim(-1.05, 1.5)\n",
        "    ax.set_ylim(-0.25, 1.25)\n",
        "    ax.scatter(x.data.numpy(), y.data.numpy(), color = \"orange\")\n",
        "    ax.plot(x.data.numpy(), prediction.data.numpy(), 'g-', lw=3)\n",
        "    ax.text(1.0, 0.1, 'Step = %d' % t, fontdict={'size': 18, 'color':  'red'})\n",
        "    ax.text(1.0, 0, 'Loss = %.4f' % loss.data.numpy(),\n",
        "            fontdict={'size': 18, 'color':  'red'})\n",
        "\n",
        "    # Used to return the plot as an image array \n",
        "    # (https://ndres.me/post/matplotlib-animated-gifs-easily/)\n",
        "    fig.canvas.draw()       # draw the canvas, cache the renderer\n",
        "    image = np.frombuffer(fig.canvas.tostring_rgb(), dtype='uint8')\n",
        "    image  = image.reshape(fig.canvas.get_width_height()[::-1] + (3,))\n",
        "\n",
        "    my_images.append(image)\n",
        "    print('epoch', t, 'image generted')\n",
        "\n",
        "# save images as a gif    \n",
        "imageio.mimwrite('./curve_1.gif', my_images, fps=10)\n",
        "plt.show()\n"
      ],
      "metadata": {
        "id": "bW84CVZLxQrq"
      },
      "execution_count": null,
      "outputs": []
    },
    {
      "cell_type": "code",
      "source": [
        "# show animated gif\n",
        "print('Show training steps')\n",
        "Image(open('curve_1.gif','rb').read())"
      ],
      "metadata": {
        "id": "MyTnwVhmxVBJ"
      },
      "execution_count": null,
      "outputs": []
    },
    {
      "cell_type": "code",
      "execution_count": null,
      "metadata": {
        "id": "KX2OwTwA7B9a"
      },
      "outputs": [],
      "source": []
    },
    {
      "cell_type": "markdown",
      "metadata": {
        "id": "7rl_Qo-q6vTr"
      },
      "source": [
        "# 코드 살펴보기"
      ]
    },
    {
      "cell_type": "markdown",
      "metadata": {
        "id": "QN9xcYqpucWb"
      },
      "source": [
        "학습데이터 생성  \n",
        "$y=x^{2}+\\delta$  \n",
        "$\\delta$: random noise"
      ]
    },
    {
      "cell_type": "markdown",
      "metadata": {
        "id": "CBAtHW7JwHe2"
      },
      "source": [
        "-1과 1 사이에 동일한 간격으로 100개의 값을 추출하여 x값으로 사용  \n",
        "torch.unsqeeze(..., dim=1) 함수로 1차원 텐서를 2차원 텐서로 변환  \n"
      ]
    },
    {
      "cell_type": "code",
      "execution_count": null,
      "metadata": {
        "id": "aDpab51gZNQ0"
      },
      "outputs": [],
      "source": [
        "torch.manual_seed(1)    # 실행할 때마다 같은 결과를 내기 위해 random seed를 고정\n",
        "\n",
        "x = torch.unsqueeze(torch.linspace(-1, 1, 100), dim=1)  # x data (tensor), shape=(100, 1)\n",
        "y = x.pow(2) + 0.2*torch.rand(x.size())                 # noisy y data (tensor), shape=(100, 1)\n"
      ]
    },
    {
      "cell_type": "code",
      "source": [],
      "metadata": {
        "id": "6-wdRiJbwwLW"
      },
      "execution_count": null,
      "outputs": []
    },
    {
      "cell_type": "code",
      "execution_count": null,
      "metadata": {
        "id": "j2ZbMgPzwC4O"
      },
      "outputs": [],
      "source": [
        "torch.linspace(-1, 1, 100)"
      ]
    },
    {
      "cell_type": "code",
      "source": [
        "torch.linspace(-1, 1, 100).shape"
      ],
      "metadata": {
        "id": "FjrHq0HMyMu_"
      },
      "execution_count": null,
      "outputs": []
    },
    {
      "cell_type": "code",
      "source": [
        "torch.unsqueeze(torch.linspace(-1, 1, 100), dim=1).shape"
      ],
      "metadata": {
        "id": "_-VweD0iyQzW"
      },
      "execution_count": null,
      "outputs": []
    },
    {
      "cell_type": "code",
      "execution_count": null,
      "metadata": {
        "id": "fNlFi0prwnhv"
      },
      "outputs": [],
      "source": [
        "torch.unsqueeze(torch.linspace(-1, 1, 100), dim=1)"
      ]
    },
    {
      "cell_type": "code",
      "execution_count": null,
      "metadata": {
        "id": "hjmm8JE0vaX4"
      },
      "outputs": [],
      "source": [
        "x"
      ]
    },
    {
      "cell_type": "code",
      "execution_count": null,
      "metadata": {
        "id": "9fYD0GGrvT4D"
      },
      "outputs": [],
      "source": [
        "x.size()"
      ]
    },
    {
      "cell_type": "code",
      "execution_count": null,
      "metadata": {
        "id": "74jk-g-yvXSG"
      },
      "outputs": [],
      "source": [
        "x.pow(2)"
      ]
    },
    {
      "cell_type": "code",
      "execution_count": null,
      "metadata": {
        "id": "Nd7vhFRkxgR1"
      },
      "outputs": [],
      "source": [
        "torch.rand(x.size())"
      ]
    },
    {
      "cell_type": "code",
      "execution_count": null,
      "metadata": {
        "id": "TCHa6o2axOgq"
      },
      "outputs": [],
      "source": [
        "y"
      ]
    },
    {
      "cell_type": "code",
      "execution_count": null,
      "metadata": {
        "id": "ayjiHQ58qIcT"
      },
      "outputs": [],
      "source": [
        "\n",
        "# view data\n",
        "plt.figure(figsize=(10,4))\n",
        "plt.scatter(x.data.numpy(), y.data.numpy(), color = \"orange\")\n",
        "plt.title('Regression Analysis Training Data')\n",
        "plt.xlabel('Independent varible (x)')\n",
        "plt.ylabel('Dependent varible (y)')\n",
        "plt.show()\n"
      ]
    },
    {
      "cell_type": "code",
      "execution_count": null,
      "metadata": {
        "id": "Br94UqJ4-y04"
      },
      "outputs": [],
      "source": [
        "# simple two layer MLP. 1 -> 10 -> 1\n",
        "class Net(torch.nn.Module):\n",
        "    def __init__(self, n_feature, n_hidden, n_output):\n",
        "        super(Net, self).__init__()\n",
        "        self.hidden = torch.nn.Linear(n_feature, n_hidden)   # hidden layer\n",
        "        self.predict = torch.nn.Linear(n_hidden, n_output)   # output layer\n",
        "\n",
        "    def forward(self, x):\n",
        "        x = F.relu(self.hidden(x))      # activation function for hidden layer\n",
        "        x = self.predict(x)             # linear output\n",
        "        return x\n",
        "\n",
        "net = Net(n_feature=1, n_hidden=10, n_output=1)     # define the network\n",
        "print(net)  # net architecture\n"
      ]
    },
    {
      "cell_type": "markdown",
      "metadata": {
        "id": "NCnb-Lsf_YHe"
      },
      "source": [
        "Stochastic Gradient Descent optimizer  \n",
        "Loss는 Mean Square Error  \n",
        "$loss = \\frac{1}{n}{\\sum(\\hat{y}_{i} - y_{i})^{2}}$"
      ]
    },
    {
      "cell_type": "code",
      "execution_count": null,
      "metadata": {
        "id": "OscZC_IC_QNK"
      },
      "outputs": [],
      "source": [
        "optimizer = torch.optim.SGD(net.parameters(), lr=0.2)\n",
        "loss_func = torch.nn.MSELoss()  # this is for regression mean squared loss"
      ]
    },
    {
      "cell_type": "markdown",
      "metadata": {
        "id": "x0_ITpBFC4k8"
      },
      "source": [
        "MSELoss 동작 확인"
      ]
    },
    {
      "cell_type": "markdown",
      "metadata": {
        "id": "Yf3BJhMeDCCp"
      },
      "source": [
        "2x2 입력과 2x2 target 생성"
      ]
    },
    {
      "cell_type": "code",
      "execution_count": null,
      "metadata": {
        "id": "kWqSuVgfBWwO"
      },
      "outputs": [],
      "source": [
        "loss_test = torch.nn.MSELoss()\n",
        "input_test = torch.randn(2, 2, requires_grad=True)\n",
        "target_test = torch.randn(2, 2)\n"
      ]
    },
    {
      "cell_type": "code",
      "execution_count": null,
      "metadata": {
        "id": "wpGqc6sOBrI1"
      },
      "outputs": [],
      "source": [
        "input_test"
      ]
    },
    {
      "cell_type": "code",
      "execution_count": null,
      "metadata": {
        "id": "HXOTEy0JBti2"
      },
      "outputs": [],
      "source": [
        "target_test"
      ]
    },
    {
      "cell_type": "code",
      "execution_count": null,
      "metadata": {
        "id": "brXEegQmBlBt"
      },
      "outputs": [],
      "source": [
        "output_test = loss_test(input_test, target_test)"
      ]
    },
    {
      "cell_type": "code",
      "execution_count": null,
      "metadata": {
        "id": "QEi20fkWB9sN"
      },
      "outputs": [],
      "source": [
        "output_test"
      ]
    },
    {
      "cell_type": "markdown",
      "metadata": {
        "id": "YFRXnAy1DPr4"
      },
      "source": [
        "MSE 결과 비교"
      ]
    },
    {
      "cell_type": "markdown",
      "metadata": {
        "id": "OVQJRpZfFkpZ"
      },
      "source": [
        "autograd 텐서는 numpy로 변환하기 전에 detach()를 해야 한다"
      ]
    },
    {
      "cell_type": "code",
      "execution_count": null,
      "metadata": {
        "id": "lhMgWcslFIu8"
      },
      "outputs": [],
      "source": [
        "inp = input_test.detach().numpy()\n",
        "tgt = target_test.detach().numpy()"
      ]
    },
    {
      "cell_type": "code",
      "execution_count": null,
      "metadata": {
        "id": "yuzzmq3YFw8m"
      },
      "outputs": [],
      "source": [
        "inp.shape"
      ]
    },
    {
      "cell_type": "code",
      "source": [
        "inp"
      ],
      "metadata": {
        "id": "wfuxz02WSA1R"
      },
      "execution_count": null,
      "outputs": []
    },
    {
      "cell_type": "code",
      "source": [
        "tgt"
      ],
      "metadata": {
        "id": "KnD4Z3r2SCkL"
      },
      "execution_count": null,
      "outputs": []
    },
    {
      "cell_type": "code",
      "execution_count": null,
      "metadata": {
        "id": "rCJJI1wKFsnO"
      },
      "outputs": [],
      "source": [
        "error_sum = 0\n",
        "for i in range(inp.shape[0]):\n",
        "    for j in range(inp.shape[1]):\n",
        "        print('input_test', i, j, '= ', inp[i,j])\n",
        "        print('target_test', i, j, '= ', tgt[i,j])\n",
        "        error_squared = ( inp[i,j] - tgt[i,j])**2\n",
        "        print('squared error = ', error_squared)\n",
        "        error_sum += error_squared\n",
        "print('Sum', error_sum)\n",
        "print('Loss', error_sum / (inp.shape[0] * inp.shape[1]))"
      ]
    },
    {
      "cell_type": "code",
      "execution_count": null,
      "metadata": {
        "id": "JoC8inb7B8O1"
      },
      "outputs": [],
      "source": [
        "output_test.backward()"
      ]
    },
    {
      "cell_type": "code",
      "execution_count": null,
      "metadata": {
        "id": "sxD-H73YB1WM"
      },
      "outputs": [],
      "source": [
        "output_test"
      ]
    },
    {
      "cell_type": "markdown",
      "metadata": {
        "id": "WiRh1ZIeD-kk"
      },
      "source": [
        "학습을 진행하며 중간결과는 plotting을 위해 저장"
      ]
    },
    {
      "cell_type": "code",
      "execution_count": null,
      "metadata": {
        "id": "-RxVBnl3_Vc8"
      },
      "outputs": [],
      "source": [
        "my_images = []\n",
        "fig, ax = plt.subplots(figsize=figsize)\n",
        "\n",
        "# train the network for 200 epochs\n",
        "for t in range(200):\n",
        "  \n",
        "    prediction = net(x)     # input x and predict based on x\n",
        "\n",
        "    loss = loss_func(prediction, y)     # network output과 target 값으로 loss 계산\n",
        "\n",
        "    optimizer.zero_grad()   # clear gradients for next train\n",
        "    loss.backward()         # backpropagation, compute gradients\n",
        "    optimizer.step()        # apply gradients\n",
        "    \n",
        "    # plot and show learning process\n",
        "    plt.cla()\n",
        "    ax.set_title('Regression Analysis', fontsize=24)\n",
        "    ax.set_xlabel('Independent variable (x)', fontsize=18)\n",
        "    ax.set_ylabel('Dependent variable (y)', fontsize=18)\n",
        "    ax.set_xlim(-1.05, 1.5)\n",
        "    ax.set_ylim(-0.25, 1.25)\n",
        "    ax.scatter(x.data.numpy(), y.data.numpy(), color = \"orange\")\n",
        "    ax.plot(x.data.numpy(), prediction.data.numpy(), 'g-', lw=3)\n",
        "    ax.text(1.0, 0.1, 'Step = %d' % t, fontdict={'size': 18, 'color':  'red'})\n",
        "    ax.text(1.0, 0, 'Loss = %.4f' % loss.data.numpy(),\n",
        "            fontdict={'size': 18, 'color':  'red'})\n",
        "\n",
        "    # Used to return the plot as an image array \n",
        "    # (https://ndres.me/post/matplotlib-animated-gifs-easily/)\n",
        "    fig.canvas.draw()       # draw the canvas, cache the renderer\n",
        "    image = np.frombuffer(fig.canvas.tostring_rgb(), dtype='uint8')\n",
        "    image  = image.reshape(fig.canvas.get_width_height()[::-1] + (3,))\n",
        "\n",
        "    my_images.append(image)"
      ]
    },
    {
      "cell_type": "markdown",
      "source": [
        "이미지를 animated gif로 저장하여 단계별 변화 시각화"
      ],
      "metadata": {
        "id": "jOF6K3jLSoGe"
      }
    },
    {
      "cell_type": "code",
      "execution_count": null,
      "metadata": {
        "id": "sFunVQVeEnLX"
      },
      "outputs": [],
      "source": [
        "# save images as a gif    \n",
        "imageio.mimwrite('./curve_1.gif', my_images, fps=10)\n",
        "plt.show()\n",
        "# show animated gif\n",
        "print('Show training steps')\n",
        "Image(open('curve_1.gif','rb').read())"
      ]
    },
    {
      "cell_type": "code",
      "execution_count": null,
      "metadata": {
        "id": "_zZS_Uj0EnF4"
      },
      "outputs": [],
      "source": []
    },
    {
      "cell_type": "code",
      "execution_count": null,
      "metadata": {
        "id": "B-I3ym3SEm_P"
      },
      "outputs": [],
      "source": []
    },
    {
      "cell_type": "markdown",
      "metadata": {
        "id": "ZQ5xz2EcjPUe"
      },
      "source": [
        "# Try another example - sine 함수"
      ]
    },
    {
      "cell_type": "code",
      "execution_count": null,
      "metadata": {
        "id": "kS7eppkeOEsm"
      },
      "outputs": [],
      "source": [
        "\n",
        "import torch\n",
        "from torch.autograd import Variable\n",
        "import torch.nn.functional as F\n",
        "import torch.utils.data as Data\n",
        "\n",
        "import matplotlib.pyplot as plt\n",
        "\n",
        "import numpy as np\n",
        "import imageio\n",
        "\n",
        "torch.manual_seed(1)    # reproducible\n",
        "\n",
        "x = torch.unsqueeze(torch.linspace(-10, 10, 1000), dim=1)  # x data (tensor), shape=(100, 1)\n",
        "y = torch.sin(x) + 0.2*torch.rand(x.size())                 # noisy y data (tensor), shape=(100, 1)\n",
        "\n",
        "# torch can only train on Variable, so convert them to Variable\n",
        "#x, y = Variable(x), Variable(y)\n",
        "plt.figure(figsize=(10,4))\n",
        "plt.scatter(x.data.numpy(), y.data.numpy(), color = \"blue\")\n",
        "plt.title('Regression Analysis')\n",
        "plt.xlabel('Independent varible')\n",
        "plt.ylabel('Dependent varible')\n",
        "plt.savefig('curve_2.png')\n",
        "plt.show()\n",
        "\n",
        "# another way to define a network\n",
        "net = torch.nn.Sequential(\n",
        "        torch.nn.Linear(1, 200),\n",
        "        torch.nn.LeakyReLU(),\n",
        "        torch.nn.Linear(200, 100),\n",
        "        torch.nn.LeakyReLU(),\n",
        "        torch.nn.Linear(100, 1),\n",
        "    )\n",
        "\n",
        "optimizer = torch.optim.Adam(net.parameters(), lr=0.01)\n",
        "loss_func = torch.nn.MSELoss()  # this is for regression mean squared loss\n",
        "\n",
        "BATCH_SIZE = 64\n",
        "EPOCH = 200\n",
        "\n",
        "torch_dataset = Data.TensorDataset(x, y)\n",
        "\n",
        "loader = Data.DataLoader(\n",
        "    dataset=torch_dataset, \n",
        "    batch_size=BATCH_SIZE, \n",
        "    shuffle=True, num_workers=2,)\n",
        "\n",
        "my_images = []\n",
        "fig, ax = plt.subplots(figsize=(16,10))\n",
        "\n",
        "# start training\n",
        "for epoch in range(EPOCH):\n",
        "    print('epoch', epoch)\n",
        "    for step, (batch_x, batch_y) in enumerate(loader): # for each training step\n",
        "        \n",
        "        b_x = Variable(batch_x)\n",
        "        b_y = Variable(batch_y)\n",
        "\n",
        "        prediction = net(b_x)     # input x and predict based on x\n",
        "\n",
        "        loss = loss_func(prediction, b_y)     # must be (1. nn output, 2. target)\n",
        "\n",
        "        optimizer.zero_grad()   # clear gradients for next train\n",
        "        loss.backward()         # backpropagation, compute gradients\n",
        "        optimizer.step()        # apply gradients\n",
        "\n",
        "        if step == 1:\n",
        "            # plot and show learning process\n",
        "            plt.cla()\n",
        "            ax.set_title('Regression Analysis - model 3 Batches', fontsize=35)\n",
        "            ax.set_xlabel('Independent variable', fontsize=24)\n",
        "            ax.set_ylabel('Dependent variable', fontsize=24)\n",
        "            ax.set_xlim(-11.0, 13.0)\n",
        "            ax.set_ylim(-1.1, 1.2)\n",
        "            ax.scatter(b_x.data.numpy(), b_y.data.numpy(), color = \"blue\", alpha=0.2)\n",
        "            ax.scatter(b_x.data.numpy(), prediction.data.numpy(), color='green', alpha=0.5)\n",
        "            ax.text(8.8, -0.8, 'Epoch = %d' % epoch,\n",
        "                    fontdict={'size': 24, 'color':  'red'})\n",
        "            ax.text(8.8, -0.95, 'Loss = %.4f' % loss.data.numpy(),\n",
        "                    fontdict={'size': 24, 'color':  'red'})\n",
        "\n",
        "            # Used to return the plot as an image array \n",
        "            # (https://ndres.me/post/matplotlib-animated-gifs-easily/)\n",
        "            fig.canvas.draw()       # draw the canvas, cache the renderer\n",
        "            image = np.frombuffer(fig.canvas.tostring_rgb(), dtype='uint8')\n",
        "            image  = image.reshape(fig.canvas.get_width_height()[::-1] + (3,))\n",
        "\n",
        "            my_images.append(image)\n",
        "\n",
        "    \n"
      ]
    },
    {
      "cell_type": "markdown",
      "source": [
        "단계별 상태"
      ],
      "metadata": {
        "id": "LF8qNdneVPdP"
      }
    },
    {
      "cell_type": "code",
      "source": [
        "# save images as a gif    \n",
        "imageio.mimsave('./curve_2_model_3_batch.gif', my_images, fps=4)\n",
        "\n",
        "Image(open('curve_2_model_3_batch.gif','rb').read())\n"
      ],
      "metadata": {
        "id": "O0uONxAZUVYP"
      },
      "execution_count": null,
      "outputs": []
    },
    {
      "cell_type": "markdown",
      "source": [
        "최종 결과 플로팅"
      ],
      "metadata": {
        "id": "Y_uI_QvpU6HG"
      }
    },
    {
      "cell_type": "code",
      "source": [
        "\n",
        "fig, ax = plt.subplots(figsize=(16,10))\n",
        "plt.cla()\n",
        "ax.set_title('Regression Analysis - model 3, Batches', fontsize=35)\n",
        "ax.set_xlabel('Independent variable', fontsize=24)\n",
        "ax.set_ylabel('Dependent variable', fontsize=24)\n",
        "ax.set_xlim(-11.0, 13.0)\n",
        "ax.set_ylim(-1.1, 1.2)\n",
        "ax.scatter(x.data.numpy(), y.data.numpy(), color = \"blue\", alpha=0.2)\n",
        "prediction = net(x)     # input x and predict based on x\n",
        "ax.scatter(x.data.numpy(), prediction.data.numpy(), color='green', alpha=0.5)\n",
        "plt.savefig('curve_2_model_3_batches.png')\n",
        "plt.show()"
      ],
      "metadata": {
        "id": "fHMLEmTFUvYL"
      },
      "execution_count": null,
      "outputs": []
    },
    {
      "cell_type": "code",
      "source": [],
      "metadata": {
        "id": "8jynwiW2TdpD"
      },
      "execution_count": null,
      "outputs": []
    }
  ],
  "metadata": {
    "colab": {
      "collapsed_sections": [],
      "provenance": [],
      "authorship_tag": "ABX9TyNHKbY4cS13qHKrmyeZc+7K",
      "include_colab_link": true
    },
    "kernelspec": {
      "display_name": "Python 3",
      "name": "python3"
    },
    "language_info": {
      "name": "python"
    }
  },
  "nbformat": 4,
  "nbformat_minor": 0
}